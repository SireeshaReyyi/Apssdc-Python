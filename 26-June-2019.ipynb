{
 "cells": [
  {
   "cell_type": "code",
   "execution_count": 41,
   "metadata": {},
   "outputs": [
    {
     "name": "stdout",
     "output_type": "stream",
     "text": [
      "enter k : 2\n"
     ]
    },
    {
     "data": {
      "text/plain": [
       "2"
      ]
     },
     "execution_count": 41,
     "metadata": {},
     "output_type": "execute_result"
    }
   ],
   "source": [
    "# Largest number in a list\n",
    "# Second largest number in a list\n",
    "# Kth largest number in a list\n",
    "\n",
    "# Element with highest frequency\n",
    "# Second highest frequency\n",
    "# Kth highest frequency\n",
    "\n",
    "# Function to find the secong largest number in a list\n",
    "def secondLargest(li):\n",
    "    # Convert the list into a unique list\n",
    "    unique = []\n",
    "    for n in li:\n",
    "        if n not in unique:\n",
    "            unique.append(n)\n",
    "#     unique.sort()\n",
    "#     unique = unique[-1::-1]\n",
    "    if len(unique) == 1:\n",
    "        print(\"There is only one element in the given list\")\n",
    "    else:\n",
    "        unique = sorted(unique, reverse=True)\n",
    "        return unique[1]\n",
    "    \n",
    "# Function to find the fifth smallest number in a list    \n",
    "def fifthLeast(li):\n",
    "    unique = []\n",
    "    for i in li:\n",
    "        unique.append(i)\n",
    "    unique.sort()\n",
    "    if len(unique)<5:\n",
    "        return -1\n",
    "    else:\n",
    "        return li[4]\n",
    "\n",
    "# Function to find the Kth largest number in a list    \n",
    "def kLargest(li,k):\n",
    "    unique = []\n",
    "    for i in li:\n",
    "        if i not in unique:\n",
    "            unique.append(i)\n",
    "    unique = sorted(unique,reverse=True)\n",
    "    if len(unique)<k:\n",
    "        return -1\n",
    "    else:\n",
    "        return unique[k-1]\n",
    "\n",
    "# Function to find the Kth smallest number in a list\n",
    "def kSmallest(li,k):\n",
    "    unique = []\n",
    "    for i in li:\n",
    "        if i not in unique:\n",
    "            unique.append(i)\n",
    "    unique.sort()\n",
    "    if k== 0:\n",
    "        return -1\n",
    "    if len(unique)<k:\n",
    "        return -1\n",
    "    else:\n",
    "        return unique[k-1]\n",
    "    \n",
    "\n",
    "li=[1,6,4,3,5,9,6,1,1,5,8,9,2,3,4,6]\n",
    "k=int(input(\"enter k : \"))\n",
    "secondLargest(li)\n",
    "fifthLeast(li)\n",
    "kLargest(li,k)\n",
    "kSmallest(li,k)\n",
    "    "
   ]
  },
  {
   "cell_type": "code",
   "execution_count": 72,
   "metadata": {},
   "outputs": [
    {
     "name": "stdout",
     "output_type": "stream",
     "text": [
      "4\n",
      "dict_items([(1, 2), (2, 2), (3, 2), (9, 1), (8, 1), (7, 1), (4, 1)])\n"
     ]
    },
    {
     "data": {
      "text/plain": [
       "-1"
      ]
     },
     "execution_count": 72,
     "metadata": {},
     "output_type": "execute_result"
    }
   ],
   "source": [
    "# Function to identify the element with highest frequency\n",
    "# highestFrequency([1,2,3,9,8,7,3,4,2,1]) -> if two elements have same highest frequency , return smallest\n",
    "\n",
    "def highestFrequencyElement(li,k):\n",
    "    unique = []\n",
    "    for i in li:\n",
    "        if i not in unique:\n",
    "            unique.append(i)\n",
    "    freq = []\n",
    "    for i in unique:\n",
    "        freq.append(li.count(i))\n",
    "    freq = sorted(freq,reverse=True)\n",
    "    unique2 = []\n",
    "    for i in freq:\n",
    "        if i not in unique2:\n",
    "            unique2.append(i)\n",
    "    elements = []\n",
    "    for i in unique:\n",
    "        if unique2[0]==li.count(i):\n",
    "            elements.append(i)\n",
    "    elements = sorted(elements,reverse=True)\n",
    "    if k>len(elements):\n",
    "        return -1\n",
    "    return elements[k-1]\n",
    "\n",
    "def highestFrequencyElement2(li,k):\n",
    "    unique = {}\n",
    "    for n in li:\n",
    "        if n not in unique:\n",
    "            unique[n] = 1\n",
    "        else:\n",
    "            unique[n] += 1\n",
    "    # Getting all frequencies into a list\n",
    "    freq = unique.values()\n",
    "    maxfreq = max(freq)\n",
    "    maxfreqKeys = []\n",
    "    # Identify the keys maximum frequency\n",
    "    for item in unique.items():\n",
    "        if item[1] == maxfreq:\n",
    "            maxfreqKeys.append(item[0])\n",
    "    # Select the minimum from the keys with maximum frequency\n",
    "    maxfreqKeys = sorted(maxfreqKeys,reverse=True)\n",
    "    if k>len(maxfreqKeys):\n",
    "        return -1\n",
    "    return maxfreqKeys[k-1]\n",
    "        \n",
    "        \n",
    "    \n",
    "li = [1,2,3,9,8,7,3,4,2,1]\n",
    "k=int(input())\n",
    "highestFrequencyElement(li,k)\n",
    "highestFrequencyElement2(li,k)\n",
    "            \n",
    "        \n",
    "        \n",
    "    \n",
    "    "
   ]
  },
  {
   "cell_type": "code",
   "execution_count": 93,
   "metadata": {},
   "outputs": [
    {
     "data": {
      "text/plain": [
       "3"
      ]
     },
     "execution_count": 93,
     "metadata": {},
     "output_type": "execute_result"
    }
   ],
   "source": [
    "# Function to identify second largest frequency element\n",
    "# If there are many such elements, return the smallest\n",
    "# li = [1,2,3,2,1,4,4,9]\n",
    "def secondLargestFrequency(li):\n",
    "    unique = {}\n",
    "    for i in li:\n",
    "        if i not in unique:\n",
    "            unique[i] = 1\n",
    "        else:\n",
    "            unique[i] += 1\n",
    "    freq = unique.values()\n",
    "    uniquefreq = []\n",
    "    for i in freq:\n",
    "        if i not in uniquefreq:\n",
    "            uniquefreq.append(i)\n",
    "    uniquefreq = sorted(uniquefreq,reverse=True)\n",
    "    elements = []\n",
    "    for item in unique.items():\n",
    "        if item[1] == uniquefreq[1]:\n",
    "            elements.append(item[0])\n",
    "    elements = sorted(elements,reverse=False)\n",
    "    return elements[0]\n",
    "\n",
    "li = [1,2,3,2,1,4,4,9]\n",
    "secondLargestFrequency(li)\n",
    "\n",
    "            \n",
    "    "
   ]
  },
  {
   "cell_type": "code",
   "execution_count": 99,
   "metadata": {},
   "outputs": [
    {
     "name": "stdout",
     "output_type": "stream",
     "text": [
      "5\n"
     ]
    },
    {
     "data": {
      "text/plain": [
       "-1"
      ]
     },
     "execution_count": 99,
     "metadata": {},
     "output_type": "execute_result"
    }
   ],
   "source": [
    "# Function to identify Kth largest frequency element\n",
    "# If there are many such elements, return the smallest\n",
    "# li = [9,8,7,6,5,2,3,4,9,6,7,7,7,6,7,6], k=4 -> 2\n",
    "def kLargestFrequency(li,k):\n",
    "    unique = {}\n",
    "    for i in li:\n",
    "        if i not in unique:\n",
    "            unique[i] = 1\n",
    "        else:\n",
    "            unique[i] += 1\n",
    "    freq = unique.values()\n",
    "    uniquefreq = []\n",
    "    for i in freq:\n",
    "        if i not in uniquefreq:\n",
    "            uniquefreq.append(i)\n",
    "    uniquefreq = sorted(uniquefreq,reverse=True)\n",
    "    elements = []\n",
    "    if len(uniquefreq)>=k:\n",
    "        for item in unique.items():\n",
    "            if item[1] == uniquefreq[k-1]:\n",
    "                elements.append(item[0])\n",
    "        elements = sorted(elements,reverse=False)\n",
    "        return elements[0]\n",
    "    else:\n",
    "        return -1\n",
    "\n",
    "li = [9,8,7,6,5,2,3,4,9,6,7,7,7,6,7,6]\n",
    "k=int(input())\n",
    "kLargestFrequency(li,k)\n",
    "\n",
    "            "
   ]
  },
  {
   "cell_type": "code",
   "execution_count": 101,
   "metadata": {},
   "outputs": [
    {
     "name": "stdout",
     "output_type": "stream",
     "text": [
      "4\n",
      "[1, 2, 4, 5]\n"
     ]
    },
    {
     "data": {
      "text/plain": [
       "7"
      ]
     },
     "execution_count": 101,
     "metadata": {},
     "output_type": "execute_result"
    }
   ],
   "source": [
    "# Function to identify Kth lowest frequency element\n",
    "# If there are many such elements, return the smallest\n",
    "# li = [9,8,7,6,5,2,3,4,9,6,7,7,7,6,7,6], k=4 -> 2\n",
    "def kLowestFrequency(li,k):\n",
    "    unique = {}\n",
    "    for i in li:\n",
    "        if i not in unique:\n",
    "            unique[i] = 1\n",
    "        else:\n",
    "            unique[i] += 1\n",
    "    freq = unique.values()\n",
    "    uniquefreq = []\n",
    "    for i in freq:\n",
    "        if i not in uniquefreq:\n",
    "            uniquefreq.append(i)\n",
    "    uniquefreq = sorted(uniquefreq,reverse=False)\n",
    "    print(uniquefreq)\n",
    "    elements = []\n",
    "    if len(uniquefreq)>=k:\n",
    "        for item in unique.items():\n",
    "            if item[1] == uniquefreq[k-1]:\n",
    "                elements.append(item[0])\n",
    "        elements = sorted(elements,reverse=False)\n",
    "        return elements[0]\n",
    "    else:\n",
    "        return -1\n",
    "\n",
    "li = [9,8,7,6,5,2,3,4,9,6,7,7,7,6,7,6]\n",
    "k=int(input())\n",
    "kLowestFrequency(li,k)\n",
    "\n",
    "            "
   ]
  },
  {
   "cell_type": "code",
   "execution_count": 4,
   "metadata": {},
   "outputs": [
    {
     "name": "stdout",
     "output_type": "stream",
     "text": [
      "s\n",
      "g\n",
      "h\n",
      "e\n",
      "w\n",
      "r\n",
      "n\n",
      "k\n",
      "-1\n",
      "-1\n"
     ]
    }
   ],
   "source": [
    "def kLargestFrequencyString(s,k):\n",
    "    unique = {}\n",
    "    for i in s:\n",
    "        if i not in unique:\n",
    "            unique[i] = 1\n",
    "        else:\n",
    "            unique[i] += 1\n",
    "    freq = unique.values()\n",
    "    uniquefreq = []\n",
    "    for i in freq:\n",
    "        if i not in uniquefreq:\n",
    "            uniquefreq.append(i)\n",
    "    uniquefreq = sorted(uniquefreq,reverse=True)\n",
    "    elements = []\n",
    "    if k<len(uniquefreq):\n",
    "        for item in unique.items():\n",
    "            if item[1] == uniquefreq[k-1]:\n",
    "                elements.append(item[0])\n",
    "        elements = sorted(elements,reverse=False)\n",
    "        return elements[0]\n",
    "    else:\n",
    "        return -1\n",
    "filepath = 'DataFiles/Kth_Largest-Frequency.txt'\n",
    "with open(filepath,'r') as f:\n",
    "    t=int(f.readline())\n",
    "    for i in range(t):\n",
    "        s=f.readline()\n",
    "        k=int(f.readline())\n",
    "        print(kLargestFrequencyString(s,k))"
   ]
  },
  {
   "cell_type": "code",
   "execution_count": 2,
   "metadata": {},
   "outputs": [
    {
     "data": {
      "text/plain": [
       "'f'"
      ]
     },
     "execution_count": 2,
     "metadata": {},
     "output_type": "execute_result"
    }
   ],
   "source": [
    "def kLargestFrequencyString(s,k):\n",
    "    unique = {}\n",
    "    for i in s:\n",
    "        if i not in unique:\n",
    "            unique[i] = 1\n",
    "        else:\n",
    "            unique[i] += 1\n",
    "    freq = unique.values()\n",
    "    uniquefreq = []\n",
    "    for i in freq:\n",
    "        if i not in uniquefreq:\n",
    "            uniquefreq.append(i)\n",
    "    uniquefreq = sorted(uniquefreq,reverse=True)\n",
    "    elements = []\n",
    "    if k<=len(uniquefreq):\n",
    "        for item in unique.items():\n",
    "            if item[1] == uniquefreq[k-1]:\n",
    "                elements.append(item[0])\n",
    "        elements = sorted(elements,reverse=False)\n",
    "        return elements[0]\n",
    "    else:\n",
    "        return -1\n",
    "\n",
    "s='abcdefbcdeab'\n",
    "k=3\n",
    "kLargestFrequencyString(s,k)"
   ]
  },
  {
   "cell_type": "code",
   "execution_count": null,
   "metadata": {},
   "outputs": [],
   "source": []
  }
 ],
 "metadata": {
  "kernelspec": {
   "display_name": "Python 3",
   "language": "python",
   "name": "python3"
  },
  "language_info": {
   "codemirror_mode": {
    "name": "ipython",
    "version": 3
   },
   "file_extension": ".py",
   "mimetype": "text/x-python",
   "name": "python",
   "nbconvert_exporter": "python",
   "pygments_lexer": "ipython3",
   "version": "3.7.3"
  }
 },
 "nbformat": 4,
 "nbformat_minor": 2
}
