{
 "cells": [
  {
   "cell_type": "markdown",
   "metadata": {},
   "source": [
    "# Python Programming\n",
    "\n",
    "## 15 June 2019\n",
    "\n",
    "## Python Basic Programs"
   ]
  },
  {
   "cell_type": "markdown",
   "metadata": {},
   "source": [
    "## String Methods\n",
    "\n",
    "'__add__',\n",
    " '__class__',\n",
    " '__contains__',\n",
    " '__delattr__',\n",
    " '__delitem__',\n",
    " '__dir__',\n",
    " '__doc__',\n",
    " '__eq__',\n",
    " '__format__',\n",
    " '__ge__',\n",
    " '__getattribute__',\n",
    " '__getitem__',\n",
    " '__gt__',\n",
    " '__hash__',\n",
    " '__iadd__',\n",
    " '__imul__',\n",
    " '__init__',\n",
    " '__init_subclass__',\n",
    " '__iter__',\n",
    " '__le__',\n",
    " '__len__',\n",
    " '__lt__',\n",
    " '__mul__',\n",
    " '__ne__',\n",
    " '__new__',\n",
    " '__reduce__',\n",
    " '__reduce_ex__',\n",
    " '__repr__',\n",
    " '__reversed__',\n",
    " '__rmul__',\n",
    " '__setattr__',\n",
    " '__setitem__',\n",
    " '__sizeof__',\n",
    " '__str__',\n",
    " '__subclasshook__',\n",
    " '__append__',\n",
    " '__clear__',\n",
    " '__copy__',\n",
    " '__count__',\n",
    " '__extend__',\n",
    " '__index__',\n",
    " '__insert__',\n",
    " '__pop__',\n",
    " '__remove__',\n",
    " '__reverse__',\n",
    " '__sort__'"
   ]
  },
  {
   "cell_type": "code",
   "execution_count": 5,
   "metadata": {},
   "outputs": [
    {
     "data": {
      "text/plain": [
       "[100, 1, 2, 3, 4, 22, [1, 2, 3], 1, 2]"
      ]
     },
     "execution_count": 5,
     "metadata": {},
     "output_type": "execute_result"
    }
   ],
   "source": [
    "l=[1,2,3,4]\n",
    "l.append(22)\n",
    "l\n",
    "l.append([1,2,3])  # This will return a list after appending the another list [1,2,3]\n",
    "l\n",
    "l.extend([1,2])  # This will return a list which is extended with some more elements 1,2\n",
    "l.insert(0,100)\n",
    "l"
   ]
  },
  {
   "cell_type": "markdown",
   "metadata": {},
   "source": [
    "##  Problem - Fine the element in a List which is Closest to zero\n",
    "** **Input format** ** <br>\n",
    " The first line contains the size of the array <br>\n",
    " The second line contains the n space sepereted integers denoted as elements of the array\n",
    "\n",
    "** **Output** **\n",
    " print element closest to zero..if there are multiple elements like that,return the greater one\n",
    " \n",
    "** **Explanation** ** <br>\n",
    " - li = [3,2,-1,-2,-3]  # Original list\n",
    " - Sort the data\n",
    " - li = [-3,-2,-1,2,3] #sorted list\n",
    " - pl = [1,2,2,3,3]  # Positive Sorted List\n",
    " - pl[0]  # Check if this number is -ve or +ve in the original list\n",
    " - if pl[0] in li:\n",
    "     - return pl[0]\n",
    " - else\n",
    "     - return -pl[0]"
   ]
  },
  {
   "cell_type": "code",
   "execution_count": 21,
   "metadata": {},
   "outputs": [
    {
     "name": "stdout",
     "output_type": "stream",
     "text": [
      "5\n",
      "-3 -2 2 -1 1\n",
      "1\n"
     ]
    }
   ],
   "source": [
    "n=int(input())\n",
    "s=input()\n",
    "s=s.split()\n",
    "li=[]\n",
    "for i in s:\n",
    "    li.append(int(i))\n",
    "li.sort()\n",
    "pl=[]\n",
    "for i in li:\n",
    "    pl.append(abs(i))\n",
    "pl.sort()\n",
    "if pl[0] in li:\n",
    "    print(pl[0])\n",
    "else:\n",
    "    print(-pl[0])"
   ]
  },
  {
   "cell_type": "markdown",
   "metadata": {},
   "source": [
    "##  Problem - Fine the element in a List which is Closest to zero\n",
    "** **Input format** ** <br>\n",
    " The first line contains the size of the array <br>\n",
    " The second line contains the n space sepereted integers denoted as elements of the array\n",
    "\n",
    "** **Output** **\n",
    " print element closest to zero..if there are multiple elements like that,return the lesser one\n",
    " \n",
    "** **Explanation** ** <br>\n",
    " - li = [3,2,-1,-2,-3]  # Original list\n",
    " - Sort the data\n",
    " - li = [-3,-2,-1,2,3] #sorted list\n",
    " - pl = [1,2,2,3,3]  # Positive Sorted List\n",
    " - pl[0]  # Check if this number is -ve or +ve in the original list\n",
    " - if pl[0] in li:\n",
    "     - return pl[0]\n",
    " - else\n",
    "     - return -pl[0]"
   ]
  },
  {
   "cell_type": "code",
   "execution_count": 20,
   "metadata": {},
   "outputs": [
    {
     "name": "stdout",
     "output_type": "stream",
     "text": [
      "5\n",
      "-3 -2 2 -1 1\n",
      "-1\n"
     ]
    }
   ],
   "source": [
    "n=int(input())\n",
    "s=input()\n",
    "s=s.split()\n",
    "li=[]\n",
    "for i in s:\n",
    "    li.append(int(i))\n",
    "li.sort()\n",
    "pl=[]\n",
    "for i in li:\n",
    "    pl.append(abs(i))\n",
    "pl.sort()\n",
    "if -pl[0] in li:\n",
    "    print(-pl[0])\n",
    "else:\n",
    "    print(pl[0])"
   ]
  },
  {
   "cell_type": "code",
   "execution_count": 29,
   "metadata": {},
   "outputs": [
    {
     "name": "stdout",
     "output_type": "stream",
     "text": [
      "5\n",
      "-10 4 5 9 -6\n",
      "-10\n"
     ]
    }
   ],
   "source": [
    "# Farthest from zero\n",
    "\n",
    "n=int(input())\n",
    "s=input()\n",
    "s=s.split()\n",
    "li=[]\n",
    "for i in s:\n",
    "    li.append(int(i))\n",
    "li.sort()\n",
    "pl=[]\n",
    "for i in li:\n",
    "    pl.append(abs(i))\n",
    "pl.sort()\n",
    "if pl[-1] in li:\n",
    "    print(pl[-1])\n",
    "else:\n",
    "    print(-pl[-1])\n",
    "\n"
   ]
  },
  {
   "cell_type": "code",
   "execution_count": 12,
   "metadata": {},
   "outputs": [
    {
     "name": "stdout",
     "output_type": "stream",
     "text": [
      "3\n",
      "2\n",
      "100\n"
     ]
    },
    {
     "data": {
      "text/plain": [
       "98"
      ]
     },
     "execution_count": 12,
     "metadata": {},
     "output_type": "execute_result"
    }
   ],
   "source": [
    "# You are given the three numbers a,b,c.\n",
    "# Write a program to find a largest number which is less than or equal to c \n",
    "# and leaves reminder b when divided with a\n",
    "# return -1 if there is no number like that\n",
    "# 3,2,9--- 8\n",
    "# 1 2 4---- -1\n",
    "# 3 2 100 --- 98\n",
    "# \n",
    "\n",
    "a=int(input())\n",
    "b=int(input())\n",
    "c=int(input())\n",
    "def prob(a,b,c):\n",
    "    for i in range(c,b-1,-1):\n",
    "        if i%a==b:\n",
    "            return i\n",
    "    return -1\n",
    "prob(a,b,c)"
   ]
  },
  {
   "cell_type": "markdown",
   "metadata": {},
   "source": [
    "# Char Sum\n",
    "Consider All lowercase Alphabets of the English language. Here we consider each alphabet from a to z to have a certain weight. The weight of the alphabet a is considered to be 1, b to be 2, c to be 3 and so on until z has a weight of 26. In short, the weight of the alphabet a is 1, and the weight of all other alphabets is the weight of its previous alphabet + 1.<br>\n",
    " example:  aba---4"
   ]
  },
  {
   "cell_type": "code",
   "execution_count": 31,
   "metadata": {},
   "outputs": [
    {
     "name": "stdout",
     "output_type": "stream",
     "text": [
      "abcd\n",
      "10\n"
     ]
    }
   ],
   "source": [
    "s=input()\n",
    "sum=0\n",
    "for i in s:\n",
    "    sum=sum+(ord(i)-96)\n",
    "print(sum)"
   ]
  },
  {
   "cell_type": "markdown",
   "metadata": {},
   "source": [
    "# Prime number\n",
    "\n",
    "You are given an integer N. You need to print the series of all prime numbers till N.\n",
    "\n",
    "9     -- 2 3 5 7"
   ]
  },
  {
   "cell_type": "code",
   "execution_count": 30,
   "metadata": {},
   "outputs": [
    {
     "name": "stdout",
     "output_type": "stream",
     "text": [
      "9\n",
      "2 3 5 7 "
     ]
    }
   ],
   "source": [
    "n=int(input())\n",
    "for i in range(2,n+1):\n",
    "    count=0\n",
    "    for j in range(2,i):\n",
    "        if i%j==0:\n",
    "            count+=1\n",
    "    if count==0:\n",
    "        print(i,end=\" \")"
   ]
  },
  {
   "cell_type": "markdown",
   "metadata": {},
   "source": [
    "# Palindromic String\n",
    "\n",
    "You have been given a String S. You need to find and print whether this string is a palindrome or not. If yes, print \"YES\" (without quotes), else print \"NO\" (without quotes).\n"
   ]
  },
  {
   "cell_type": "code",
   "execution_count": 32,
   "metadata": {},
   "outputs": [
    {
     "name": "stdout",
     "output_type": "stream",
     "text": [
      "version\n",
      "NO\n"
     ]
    }
   ],
   "source": [
    "s=input()\n",
    "j=len(s)\n",
    "count=0\n",
    "for i in range(0,len(s)):\n",
    "    if s[i]==s[j-1]:\n",
    "        count+=1\n",
    "        j+=-1\n",
    "if(count==len(s)):\n",
    "    print(\"YES\")\n",
    "else:\n",
    "    print(\"NO\")"
   ]
  },
  {
   "cell_type": "markdown",
   "metadata": {},
   "source": [
    "# Count Divisors\n",
    "\n",
    "You have been given 3 integers - l, r and k. Find how many numbers between l and r (both inclusive) are divisible by k. You do not need to print these numbers, you just have to find their count. <br>\n",
    "1 10 1 ------ 10"
   ]
  },
  {
   "cell_type": "code",
   "execution_count": 33,
   "metadata": {},
   "outputs": [
    {
     "name": "stdout",
     "output_type": "stream",
     "text": [
      "1 10 1\n",
      "10\n"
     ]
    }
   ],
   "source": [
    "s=input()\n",
    "s=s.split()\n",
    "l=[]\n",
    "for i in s:\n",
    "    l.append(int(i))\n",
    "count=0\n",
    "for i in range(l[0],l[1]+1):\n",
    "    if i%l[2]==0:\n",
    "        count+=1\n",
    "print(count)"
   ]
  },
  {
   "cell_type": "markdown",
   "metadata": {},
   "source": [
    "# Factorial \n",
    "\n",
    "You have been given a positive integer N. You need to find and print the Factorial of this number. The Factorial of a positive integer N refers to the product of all number in the range from 1 to N."
   ]
  },
  {
   "cell_type": "code",
   "execution_count": 34,
   "metadata": {},
   "outputs": [
    {
     "name": "stdout",
     "output_type": "stream",
     "text": [
      "5\n",
      "120\n"
     ]
    }
   ],
   "source": [
    "n=int(input())\n",
    "sum=1\n",
    "for i in range(1,n+1):\n",
    "    sum=sum*i\n",
    "print(sum)"
   ]
  },
  {
   "cell_type": "markdown",
   "metadata": {},
   "source": [
    "## Two Strings\n",
    "\n",
    "**Given two strings of equal length, you have to tell whether they both strings are identical.**\n",
    "**Two strings S1 and S2 are said to be identical, if any of the permutation of string S1 is equal to the string S2. See Sample explanation for more details.** <br>\n",
    "3                       <br>\n",
    "sumit mitsu       YES   <br>\n",
    "ambuj jumba       YES    <br>\n",
    "abhi hibb         NO  <br>"
   ]
  },
  {
   "cell_type": "code",
   "execution_count": 29,
   "metadata": {},
   "outputs": [
    {
     "name": "stdout",
     "output_type": "stream",
     "text": [
      "1\n",
      "sumit mitsu\n",
      "YES\n"
     ]
    }
   ],
   "source": [
    "def twoStrings(s1,s2):\n",
    "    if(len(s1)!=len(s2)):\n",
    "        print(\"NO\")\n",
    "    else:\n",
    "        for i in range(0,len(s1)):\n",
    "            if s1.count(s1[i])!=s2.count(s1[i]):\n",
    "                return \"NO\"\n",
    "        return \"YES\"\n",
    "n=int(input())\n",
    "for k in range(0,n):\n",
    "    s1,s2=input().split()\n",
    "    print(twoStrings(s1,s2))"
   ]
  },
  {
   "cell_type": "markdown",
   "metadata": {},
   "source": [
    "# Toggle String\n",
    "\n",
    "You have been given a String S consisting of uppercase and lowercase English alphabets. You need to change the case of each alphabet in this String. That is, all the uppercase letters should be converted to lowercase and all the lowercase letters should be converted to uppercase. You need to then print the resultant String to output."
   ]
  },
  {
   "cell_type": "code",
   "execution_count": 35,
   "metadata": {},
   "outputs": [
    {
     "name": "stdout",
     "output_type": "stream",
     "text": [
      "abcdE\n",
      "ABCDe\n"
     ]
    }
   ],
   "source": [
    "s=input()\n",
    "x=\"\"\n",
    "for i in s:\n",
    "    if i>='A' and i<='Z':\n",
    "        x+=chr(ord(i)+32)\n",
    "    elif i>='a' and i<='z':\n",
    "        x+=chr(ord(i)-32)\n",
    "print(x)"
   ]
  },
  {
   "cell_type": "markdown",
   "metadata": {},
   "source": [
    "# Duration\n",
    "\n",
    "Rahul is a very busy persion he dont wan't to waste his time . He keeps account of duration of each and every work. Now he don't even get time to calculate duration of works, So your job is to count the durations for each work and give it to rahul. <br>\n",
    "1  <br>\n",
    "input(1 44 2 14)  <br>\n",
    "output(0 30)"
   ]
  },
  {
   "cell_type": "code",
   "execution_count": 36,
   "metadata": {},
   "outputs": [
    {
     "name": "stdout",
     "output_type": "stream",
     "text": [
      "1\n",
      "1 44 2 14\n",
      "0 30\n"
     ]
    }
   ],
   "source": [
    "n=int(input())\n",
    "for i in range(0,n):\n",
    "    sh,sm,eh,em=map(int,input().split())\n",
    "    sm=sh*60+sm\n",
    "    em=eh*60+em\n",
    "    mm=em-sm\n",
    "    hh=mm//60\n",
    "    mm=mm%60\n",
    "    print(hh,mm)"
   ]
  },
  {
   "cell_type": "markdown",
   "metadata": {},
   "source": []
  },
  {
   "cell_type": "code",
   "execution_count": null,
   "metadata": {},
   "outputs": [],
   "source": []
  }
 ],
 "metadata": {
  "kernelspec": {
   "display_name": "Python 3",
   "language": "python",
   "name": "python3"
  },
  "language_info": {
   "codemirror_mode": {
    "name": "ipython",
    "version": 3
   },
   "file_extension": ".py",
   "mimetype": "text/x-python",
   "name": "python",
   "nbconvert_exporter": "python",
   "pygments_lexer": "ipython3",
   "version": "3.7.3"
  }
 },
 "nbformat": 4,
 "nbformat_minor": 2
}
