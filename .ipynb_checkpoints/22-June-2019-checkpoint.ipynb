{
 "cells": [
  {
   "cell_type": "markdown",
   "metadata": {},
   "source": [
    "### Day Objectives\n",
    "- File Handling\n",
    "    - Basic File Data Processing\n",
    "        - Accessing and Modifying File Data\n",
    "        - Character Count\n",
    "        - Line Count\n",
    "        - File Size\n",
    "        - Word Count\n",
    "        - Unique Word Count"
   ]
  },
  {
   "cell_type": "code",
   "execution_count": 13,
   "metadata": {},
   "outputs": [
    {
     "name": "stdout",
     "output_type": "stream",
     "text": [
      "ab bb bb\n",
      "bc de afg\n",
      "6\n"
     ]
    }
   ],
   "source": [
    "# Read a File - File should exist(read mode)\n",
    "# Write to a file - Existing(append mode) or new File(write mode)\n",
    "\n",
    "\n",
    "def readFile(filePath):\n",
    "    with open(filePath,'r') as f:\n",
    "        filedata = f.read() # Read entire file data into a single string\n",
    "    return filedata\n",
    "\n",
    "filePath = 'Datafiles/data.txt'\n",
    "print(readFile(filePath))\n",
    "    "
   ]
  },
  {
   "cell_type": "code",
   "execution_count": 26,
   "metadata": {},
   "outputs": [
    {
     "name": "stdout",
     "output_type": "stream",
     "text": [
      "53\n",
      "58\n"
     ]
    }
   ],
   "source": [
    "# Function to count the number of characters in a file\n",
    "\n",
    "def countChar(filePath):\n",
    "    with open(filePath,'r') as f:\n",
    "        filedata = f.read()\n",
    "        c=0\n",
    "        for i in filedata:\n",
    "            if i!='\\n':\n",
    "                c+=1\n",
    "    return c\n",
    "filePath = 'Datafiles/data.txt'\n",
    "print(countChar(filePath))\n",
    "\n",
    "def charCountFile(filePath):\n",
    "    filedata = readFile(filePath)\n",
    "    return len(filedata)\n",
    "print(charCountFile(filePath))"
   ]
  },
  {
   "cell_type": "code",
   "execution_count": 114,
   "metadata": {},
   "outputs": [
    {
     "name": "stdout",
     "output_type": "stream",
     "text": [
      "2\n"
     ]
    }
   ],
   "source": [
    "# Function to count the number of lines in a file\n",
    "\n",
    "def countLines(filePath):\n",
    "    with open(filePath,'r') as f:\n",
    "        c=0\n",
    "        for i in f:\n",
    "              if i!='\\n':\n",
    "                c+=1\n",
    "    return c\n",
    "filePath = 'Datafiles/data.txt'\n",
    "print(countLines(filePath))"
   ]
  },
  {
   "cell_type": "code",
   "execution_count": 21,
   "metadata": {},
   "outputs": [
    {
     "name": "stdout",
     "output_type": "stream",
     "text": [
      "6\n",
      "6\n"
     ]
    }
   ],
   "source": [
    "# Function to count the number of words in a file\n",
    "def countWords(filePath):\n",
    "    with open(filePath,'r') as f:\n",
    "        filedata = f.read().split() # Read entire file data into a single string\n",
    "    return len(filedata)\n",
    "\n",
    "filePath = 'Datafiles/data.txt'\n",
    "print(countWords(filePath))\n",
    "\n",
    "import re\n",
    "def wordCountFile(filePath):\n",
    "    pattern = '[ \\n]'\n",
    "    filedata = readFile(filePath)\n",
    "    count = len(re.split(pattern,filedata))\n",
    "    return count\n",
    "print(wordCountFile(filePath))\n",
    "        "
   ]
  },
  {
   "cell_type": "code",
   "execution_count": 25,
   "metadata": {},
   "outputs": [
    {
     "name": "stdout",
     "output_type": "stream",
     "text": [
      "[1, 2, 2, 1, 1, 1, 4, 4, 1, 4, 4, 1, 4, 4, 1, 4, 4, 1]\n",
      "8\n"
     ]
    }
   ],
   "source": [
    "# Function to count the number of unique words in a file\n",
    "\n",
    "def countUniqueWords(filePath):\n",
    "    with open(filePath,'r') as f:\n",
    "        filedata = f.read().split()\n",
    "        x=[]\n",
    "        for i in filedata:\n",
    "            x.append(filedata.count(i))\n",
    "    return x\n",
    "print(countUniqueWords(filePath))\n",
    "u = countUniqueWords(filePath)\n",
    "print(u.count(1))  ## prints the number of unique words in the given file\n",
    "        "
   ]
  },
  {
   "cell_type": "code",
   "execution_count": 23,
   "metadata": {},
   "outputs": [
    {
     "name": "stdout",
     "output_type": "stream",
     "text": [
      "10\n",
      "2 1 3 9 2 4 -10 -9 1 3\n",
      "4\n"
     ]
    }
   ],
   "source": [
    "# Best Index\n",
    "\n",
    "n=int(input())\n",
    "a=input().split()\n",
    "li=[]\n",
    "x=[]\n",
    "for i in a:\n",
    "    li.append(int(i))\n",
    "li\n",
    "for j in range(0,n):\n",
    "    d=n-j\n",
    "    tot=0\n",
    "    if (n-j)>=3:\n",
    "        i=j\n",
    "        while(d>=3):\n",
    "            tot=tot+li[i]+li[i+1]+li[i+2]\n",
    "            d=d-3\n",
    "            i=i+3\n",
    "    else:\n",
    "        tot=tot+li[j]\n",
    "    x.append(tot)\n",
    "print(max(x))        "
   ]
  },
  {
   "cell_type": "code",
   "execution_count": 22,
   "metadata": {},
   "outputs": [
    {
     "name": "stdout",
     "output_type": "stream",
     "text": [
      "1\n"
     ]
    }
   ],
   "source": [
    "\n"
   ]
  },
  {
   "cell_type": "code",
   "execution_count": null,
   "metadata": {},
   "outputs": [],
   "source": []
  }
 ],
 "metadata": {
  "kernelspec": {
   "display_name": "Python 3",
   "language": "python",
   "name": "python3"
  },
  "language_info": {
   "codemirror_mode": {
    "name": "ipython",
    "version": 3
   },
   "file_extension": ".py",
   "mimetype": "text/x-python",
   "name": "python",
   "nbconvert_exporter": "python",
   "pygments_lexer": "ipython3",
   "version": "3.7.3"
  }
 },
 "nbformat": 4,
 "nbformat_minor": 2
}
