{
 "cells": [
  {
   "cell_type": "code",
   "execution_count": 1,
   "metadata": {},
   "outputs": [
    {
     "name": "stdout",
     "output_type": "stream",
     "text": [
      "[1, 2, 3]\n"
     ]
    }
   ],
   "source": [
    "# Function to get unique elements in a list\n",
    "\n",
    "#[1,2,3,3,2,1] -> [1,2,3]\n",
    "# create a empty unique list []\n",
    "#for every element in the main list, check if it exists in the unique list\n",
    "# if it does not exist, add it to unique list\n",
    "# else, move on to the next element in the main list\n",
    "\n",
    "def uniqueData(li):\n",
    "    x=[]\n",
    "    for i in li:\n",
    "        if i not in x:\n",
    "            x.append(i)\n",
    "    return x\n",
    "\n",
    "li=[1,2,3,3,2,1]\n",
    "print(uniqueData(li))\n"
   ]
  },
  {
   "cell_type": "code",
   "execution_count": 4,
   "metadata": {},
   "outputs": [
    {
     "name": "stdout",
     "output_type": "stream",
     "text": [
      "['ab', 'bb', 'bc', 'de', 'afg', 'line', 'in', '1', '2', '3', '4']\n",
      "11\n"
     ]
    }
   ],
   "source": [
    "# Function to get unique words in a file\n",
    "def readFile(filePath):\n",
    "    with open(filePath,'r') as f:\n",
    "        filedata = f.read()\n",
    "    return filedata\n",
    "\n",
    "def uniqueWordCount(filePath):\n",
    "    filedata = readFile(filePath).split()\n",
    "    x=[]\n",
    "    for i in filedata:\n",
    "        if i not in x:\n",
    "            x.append(i)\n",
    "    return x\n",
    "filePath = 'DataFiles/data.txt'\n",
    "print(uniqueWordCount(filePath))\n",
    "print(len(uniqueWordCount(filePath)))\n",
    "        "
   ]
  },
  {
   "cell_type": "code",
   "execution_count": 26,
   "metadata": {},
   "outputs": [
    {
     "name": "stdout",
     "output_type": "stream",
     "text": [
      "ab : 1\n",
      "bb : 2\n",
      "bc : 1\n",
      "de : 1\n",
      "afg : 1\n",
      "line : 4\n",
      "in : 4\n",
      "1 : 1\n",
      "2 : 1\n",
      "3 : 1\n",
      "4 : 1\n"
     ]
    }
   ],
   "source": [
    "# Function to print the frequency count of all the elements in a text file\n",
    "\n",
    "def FreqDistribution(filePath):\n",
    "    filedata = readFile(filePath).split()\n",
    "#     print('main file data',':',filedata)\n",
    "    x=[]\n",
    "    for i in filedata:\n",
    "        if i not in x:\n",
    "            x.append(i)\n",
    "#     print('unique file data',':',x)\n",
    "    for i in x:\n",
    "        print(i,':',filedata.count(i))\n",
    "    return\n",
    "FreqDistribution(filePath)       "
   ]
  },
  {
   "cell_type": "code",
   "execution_count": 23,
   "metadata": {},
   "outputs": [
    {
     "name": "stdout",
     "output_type": "stream",
     "text": [
      "['name1,9845676416,n130388@rgukt.in', 'name2,8945232312,n130266@rgukt.in', 'name3,7648992317,n130155@rgukt.in']\n"
     ]
    }
   ],
   "source": [
    "# contacts application\n",
    "\n",
    "# find and replace application\n",
    "import re\n",
    "\n",
    "def replaceContact(filename):\n",
    "    filedata = readFile(filename)\n",
    "    pattern = '[\\n]'\n",
    "    filedata = re.split(pattern,filedata)        \n",
    "    return filedata\n",
    "filename = 'DataFiles/contacts.txt'\n",
    "print(replaceContact(filename))"
   ]
  },
  {
   "cell_type": "code",
   "execution_count": null,
   "metadata": {},
   "outputs": [],
   "source": []
  }
 ],
 "metadata": {
  "kernelspec": {
   "display_name": "Python 3",
   "language": "python",
   "name": "python3"
  },
  "language_info": {
   "codemirror_mode": {
    "name": "ipython",
    "version": 3
   },
   "file_extension": ".py",
   "mimetype": "text/x-python",
   "name": "python",
   "nbconvert_exporter": "python",
   "pygments_lexer": "ipython3",
   "version": "3.7.3"
  }
 },
 "nbformat": 4,
 "nbformat_minor": 2
}
