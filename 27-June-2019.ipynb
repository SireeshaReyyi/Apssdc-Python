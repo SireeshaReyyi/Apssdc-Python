{
 "cells": [
  {
   "cell_type": "code",
   "execution_count": 10,
   "metadata": {},
   "outputs": [
    {
     "name": "stdout",
     "output_type": "stream",
     "text": [
      "2\n",
      "5\n",
      "1 3 5 6 7\n",
      "2\n",
      "6\n",
      "1\n",
      "1\n",
      "2\n",
      "-1\n"
     ]
    }
   ],
   "source": [
    "t=int(input())\n",
    "for i in range(t):\n",
    "    n=int(input())\n",
    "    a=input().split()\n",
    "    k=int(input())\n",
    "    li=[]\n",
    "    for i in range(n):\n",
    "        li.append(int(a[i]))\n",
    "    unique = []\n",
    "    for i in li:\n",
    "        if i not in unique:\n",
    "            unique.append(i)\n",
    "    for i in range(0,(len(unique)-1)):\n",
    "        absolute = abs(unique[i]-unique[i+1])\n",
    "        if absolute not in unique:\n",
    "            unique.append(absolute)\n",
    "        else:\n",
    "            break\n",
    "    unique = sorted(unique,reverse=True)\n",
    "    if k>len(unique):\n",
    "        print(-1)\n",
    "    else:\n",
    "        print(unique[k-1])\n",
    "    \n",
    "        "
   ]
  },
  {
   "cell_type": "code",
   "execution_count": 17,
   "metadata": {},
   "outputs": [
    {
     "data": {
      "text/plain": [
       "'hello siri'"
      ]
     },
     "execution_count": 17,
     "metadata": {},
     "output_type": "execute_result"
    }
   ],
   "source": [
    "s= 'hello python'\n",
    "s.replace('python','siri')"
   ]
  },
  {
   "cell_type": "code",
   "execution_count": null,
   "metadata": {},
   "outputs": [],
   "source": []
  }
 ],
 "metadata": {
  "kernelspec": {
   "display_name": "Python 3",
   "language": "python",
   "name": "python3"
  },
  "language_info": {
   "codemirror_mode": {
    "name": "ipython",
    "version": 3
   },
   "file_extension": ".py",
   "mimetype": "text/x-python",
   "name": "python",
   "nbconvert_exporter": "python",
   "pygments_lexer": "ipython3",
   "version": "3.7.3"
  }
 },
 "nbformat": 4,
 "nbformat_minor": 2
}
