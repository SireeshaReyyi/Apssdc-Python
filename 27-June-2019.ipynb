{
 "cells": [
  {
   "cell_type": "code",
   "execution_count": 3,
   "metadata": {},
   "outputs": [
    {
     "name": "stdout",
     "output_type": "stream",
     "text": [
      "2\n",
      "5\n",
      "1 3 5 6 7\n",
      "2\n",
      "6\n",
      "1\n",
      "1\n",
      "2\n",
      "-1\n"
     ]
    }
   ],
   "source": [
    "t=int(input())\n",
    "for i in range(t):\n",
    "    n=int(input())\n",
    "    a=input().split()\n",
    "    k=int(input())\n",
    "    li=[]\n",
    "    for i in range(n):\n",
    "        li.append(int(a[i]))\n",
    "    for i in range(0,n-1):\n",
    "        absolute = abs(li[i]-li[i+1])\n",
    "        if absolute not in li:\n",
    "            li.append(absolute)\n",
    "        else:\n",
    "            break\n",
    "    li = sorted(li,reverse=True)\n",
    "    if k>len(li):\n",
    "        print(-1)\n",
    "    else:\n",
    "        print(li[k-1])\n",
    "    \n",
    "        "
   ]
  },
  {
   "cell_type": "code",
   "execution_count": 4,
   "metadata": {},
   "outputs": [
    {
     "data": {
      "text/plain": [
       "'hello siri siri siri'"
      ]
     },
     "execution_count": 4,
     "metadata": {},
     "output_type": "execute_result"
    }
   ],
   "source": [
    "s= 'hello python python python'\n",
    "s.replace('python','siri')"
   ]
  },
  {
   "cell_type": "code",
   "execution_count": 14,
   "metadata": {},
   "outputs": [
    {
     "name": "stdout",
     "output_type": "stream",
     "text": [
      "1 2\n",
      "1 3\n",
      "1 4\n",
      "2 3\n",
      "2 4\n",
      "3 4\n"
     ]
    }
   ],
   "source": [
    "# Function to print all combinations of pairts of integers in a unique list\n",
    "# [1,2,3] -> (1,2), (1,3), (2,3) ->  3C2(Formula) -> 3!/((3-2)!*2!)\n",
    "# [1,2,3,4] -> 1,2  1,3  1,4  2,3  2,4  3,4\n",
    "li= [1,2,3,4]\n",
    "def combinations2(li):\n",
    "    for i in range(len(li)-1):\n",
    "        for j in range(i+1,len(li)):\n",
    "                print(li[i],li[j])\n",
    "combinations2(li)"
   ]
  },
  {
   "cell_type": "code",
   "execution_count": 23,
   "metadata": {},
   "outputs": [
    {
     "name": "stdout",
     "output_type": "stream",
     "text": [
      "1 2 3\n",
      "1 2 4\n",
      "1 2 5\n",
      "1 3 4\n",
      "1 3 5\n",
      "1 4 5\n",
      "2 3 4\n",
      "2 3 5\n",
      "2 4 5\n",
      "3 4 5\n"
     ]
    }
   ],
   "source": [
    "# [1,2,3,4] -> 1,2,3  1,2,4  1,3,4  2,3,4\n",
    "li= [1,2,3,4,5]\n",
    "def combinations3(li):\n",
    "    for i in range(len(li)-2):\n",
    "        for j in range(i+1,len(li)-1):\n",
    "            for k in range(j+1,len(li)):\n",
    "                print(li[i],li[j],li[k])\n",
    "combinations3(li)"
   ]
  },
  {
   "cell_type": "code",
   "execution_count": null,
   "metadata": {},
   "outputs": [],
   "source": [
    "a = [1,2,3]\n",
    "b = [4,5,6]\n",
    "a = b.copy()  # Data copy through indirect referencing\n",
    "a = b[:]      # Data copy through direct referencing\n",
    "a = b # data referencing"
   ]
  },
  {
   "cell_type": "code",
   "execution_count": null,
   "metadata": {},
   "outputs": [],
   "source": [
    "def medium(li,k):\n",
    "    while(True):\n",
    "        li3 = differencePairs(li)\n",
    "        if li3[0] == li3[1]:\n",
    "            break\n",
    "    if len(li3[0])>=k:\n",
    "        return sorted(li3[0],reverse=True)[k-1]\n",
    "    return -1\n",
    "\n",
    "# Function to idetify differences of all pairs numberspairs of numbers and add those differences to the same list\n",
    "# It returns the updated list and origianl list\n",
    "\n",
    "def differencePairs(li):\n",
    "    cli = li[:]\n",
    "    newelements = []\n",
    "    for i in range(len(li)-1):\n",
    "        for j in range(i+1,len(li)):\n",
    "            d = abs(li[i]-li[j])\n",
    "            if d not in li and d not in newelements:\n",
    "                newelements.append(d)\n",
    "    li.extend(newelements)\n",
    "    return [cli,li]\n",
    "\n",
    "with open('DataFiles/medium-input.txt', 'r') as f:\n",
    "    t=int(f.readline())\n",
    "    for i in range(t):\n",
    "        n=int(f.readline())\n",
    "        a=f.readline().split()\n",
    "        k=int(f.readline())\n",
    "        li=[]\n",
    "        for i in a:\n",
    "            li.append(int(i))\n",
    "        print(medium(li,k))\n"
   ]
  },
  {
   "cell_type": "code",
   "execution_count": 1,
   "metadata": {},
   "outputs": [
    {
     "data": {
      "text/plain": [
       "1"
      ]
     },
     "execution_count": 1,
     "metadata": {},
     "output_type": "execute_result"
    }
   ],
   "source": [
    "# [4,8]\n",
    "# [20,40,60]\n",
    "# [4,8,12,18]\n",
    "# [3,6,9,12]\n",
    "# Convert the list into an arithmetic progression\n",
    "a = 1\n",
    "a"
   ]
  },
  {
   "cell_type": "markdown",
   "metadata": {},
   "source": [
    "#### If we modify a list in a function, when we access the list out of the function,it will print the modified list only"
   ]
  },
  {
   "cell_type": "code",
   "execution_count": 2,
   "metadata": {},
   "outputs": [
    {
     "data": {
      "text/plain": [
       "[1, 2, 3, 4, 5, 6]"
      ]
     },
     "execution_count": 2,
     "metadata": {},
     "output_type": "execute_result"
    }
   ],
   "source": [
    "\n",
    "\n",
    "def exten(li):\n",
    "    l2 = [4,5,6]\n",
    "    li.extend(l2)\n",
    "    return l2\n",
    "li= [1,2,3]\n",
    "exten(li)\n",
    "li"
   ]
  },
  {
   "cell_type": "markdown",
   "metadata": {},
   "source": [
    "## Set - Data Structure\n",
    "- It contains only unique Data -> Repeated elements will remove automatically\n",
    "- It is Mutable\n",
    "- Index operations will not work"
   ]
  },
  {
   "cell_type": "code",
   "execution_count": 49,
   "metadata": {},
   "outputs": [
    {
     "name": "stdout",
     "output_type": "stream",
     "text": [
      "1 2 3 4 5 6 7 "
     ]
    },
    {
     "data": {
      "text/plain": [
       "{0, 1, 11, 13, 14, 2, 3, 4, 5, 6, 7, 8, 9, 'i', 'r'}"
      ]
     },
     "execution_count": 49,
     "metadata": {},
     "output_type": "execute_result"
    }
   ],
   "source": [
    "a = {1,2,3,4,5,6,6}\n",
    "a.add(7)  # adding a single element to a set\n",
    "a\n",
    "for i in a:    \n",
    "    print(i,end=' ')\n",
    "b={7,8,9,1,2,3}\n",
    "a.update(b)  # adding multiple elements to a set\n",
    "li = [0,13,14,11]\n",
    "a.update(li,b)  # adding multiple elements to a set\n",
    "a.update('siri')\n",
    "a.discard('s')  # to remove an element from the set\n",
    "a"
   ]
  },
  {
   "cell_type": "code",
   "execution_count": null,
   "metadata": {},
   "outputs": [],
   "source": [
    "a = {10,1,2,3,4,5,6}\n",
    "b = {7,8,9,1,2,3}\n",
    "a.union(b)  \n",
    "# A U B = B U A\n",
    "b.union(a)\n",
    "\n",
    "a.intersection(b)\n",
    "\n",
    "a.isdisjoint(b)  # returns False\n",
    "\n",
    "c = {11,333}\n",
    "\n",
    "b.isdisjoint(c) # returns True\n",
    "\n",
    "a - b  # returns all elements in a which are not in b\n",
    "b - a  # returns all elements in b which are not in a\n",
    "sorted(a)  # returns sorted elements of set a in a list\n",
    "a^b  # (union - intersection) (uncommon elements)"
   ]
  },
  {
   "cell_type": "code",
   "execution_count": 57,
   "metadata": {},
   "outputs": [
    {
     "data": {
      "text/plain": [
       "set()"
      ]
     },
     "execution_count": 57,
     "metadata": {},
     "output_type": "execute_result"
    }
   ],
   "source": [
    "d = set() # to create an empty set\n"
   ]
  },
  {
   "cell_type": "code",
   "execution_count": 58,
   "metadata": {},
   "outputs": [
    {
     "data": {
      "text/plain": [
       "{1, 2, 4, 5, 6, 7, 8, 88}"
      ]
     },
     "execution_count": 58,
     "metadata": {},
     "output_type": "execute_result"
    }
   ],
   "source": [
    "li = [1,2,1,2,4,5,6,7,88,8,7,6]\n",
    "u = set(li)\n",
    "u"
   ]
  },
  {
   "cell_type": "markdown",
   "metadata": {},
   "source": [
    "## Functional Programming\n",
    "\n",
    "- Procedural : C\n",
    "- Object Oriented : Java\n",
    "- Scripting Languages : PHP, Python, Javascript, Shell, Perl\n",
    "- Functional : Python, Haskell, Scala\n",
    "- Logic based : Prolog, Lisp\n",
    "\n",
    "**Functional Programming**\n",
    "\n",
    "**Definition:** In computer science, functional programming is a programming paradigm—a style of building the structure and elements of computer programs—that treats computation as the evaluation of mathematical functions and avoids changing-state and mutable data.\n"
   ]
  },
  {
   "cell_type": "markdown",
   "metadata": {},
   "source": [
    "### List Comprehensions"
   ]
  },
  {
   "cell_type": "code",
   "execution_count": 70,
   "metadata": {},
   "outputs": [
    {
     "data": {
      "text/plain": [
       "[1, 2, 3, 4, 5, 6, 7, 8, 9, 10]"
      ]
     },
     "execution_count": 70,
     "metadata": {},
     "output_type": "execute_result"
    }
   ],
   "source": [
    "# N natural numbers in a list\n",
    "n = 10\n",
    "li = []\n",
    "for i in range(1,n+1):\n",
    "    li.append(i)\n",
    "li\n",
    "l1 = [i for i in range(1,n+1)]\n",
    "l1\n"
   ]
  },
  {
   "cell_type": "code",
   "execution_count": 73,
   "metadata": {},
   "outputs": [
    {
     "data": {
      "text/plain": [
       "[1, 8, 27, 64, 125, 216, 343, 512, 729, 1000]"
      ]
     },
     "execution_count": 73,
     "metadata": {},
     "output_type": "execute_result"
    }
   ],
   "source": [
    "# Apply list comprehension to store the cubes of N natual numbers\n",
    "\n",
    "cubes = [i**3 for i in range(1,11)]\n",
    "cubes"
   ]
  },
  {
   "cell_type": "code",
   "execution_count": 86,
   "metadata": {},
   "outputs": [
    {
     "data": {
      "text/plain": [
       "[1, 2, 6, 24, 120, 720, 5040, 40320, 362880, 3628800]"
      ]
     },
     "execution_count": 86,
     "metadata": {},
     "output_type": "execute_result"
    }
   ],
   "source": [
    "# Function to return the factorial \n",
    "\n",
    "def factorial(n):\n",
    "    if n == 0 or n == 1:\n",
    "        return 1\n",
    "    return n*factorial(n-1)\n",
    "# Apply list comprehension to calculate the factorial of n natural numbers\n",
    "\n",
    "\n",
    "n = 10\n",
    "factorial(n)\n",
    "factList = [factorial(i) for i in range(1,n+1)]\n",
    "factList"
   ]
  },
  {
   "cell_type": "code",
   "execution_count": 107,
   "metadata": {},
   "outputs": [
    {
     "data": {
      "text/plain": [
       "[1, 3, 6, 10, 15]"
      ]
     },
     "execution_count": 107,
     "metadata": {},
     "output_type": "execute_result"
    }
   ],
   "source": [
    "# Store cumulative sum of numbers till end in a list\n",
    "# n = 3, [1,3,6]\n",
    "n = 5  # li = [1,2,3,4,5]\n",
    "li = [i for i in range(1,n+1)]\n",
    "cl = [sum(li[:i+1]) for i in range(0,n)]\n",
    "cl  \n",
    "c = [sum(range(1,i+1)) for i in range(1,n+1)]     \n",
    "c"
   ]
  },
  {
   "cell_type": "code",
   "execution_count": 121,
   "metadata": {},
   "outputs": [
    {
     "data": {
      "text/plain": [
       "[1972, 1976, 1980, 1984, 1988, 1992, 1996, 2000, 2004, 2008, 2012, 2016]"
      ]
     },
     "execution_count": 121,
     "metadata": {},
     "output_type": "execute_result"
    }
   ],
   "source": [
    "# List Comprehension to store only leap years in a given time period\n",
    "    \n",
    "st = 1970\n",
    "et = 2019\n",
    "leapYears = [i for i in range(st,et+1) if(i%400 == 0 or (i%100!=0 and i%4==0))]\n",
    "leapYears\n"
   ]
  },
  {
   "cell_type": "code",
   "execution_count": 4,
   "metadata": {},
   "outputs": [
    {
     "data": {
      "text/plain": [
       "[1, 2, 3, 4, 5]"
      ]
     },
     "execution_count": 4,
     "metadata": {},
     "output_type": "execute_result"
    }
   ],
   "source": [
    "# \n",
    "li = [1,2,3,2,1,4,4,5,5,5]\n",
    "u1 = []\n",
    "[u1.append(i) for i in li if i not in u1]\n",
    "# u1 = [li[i] for i in range(0,len(li)-1) if sorted(li)[i] != sorted(li)[i+1]]\n",
    "u1"
   ]
  },
  {
   "cell_type": "markdown",
   "metadata": {},
   "source": [
    "### Iterators\n",
    "\n",
    "**Iterable** - Strings, Lists, Tuples, Sets, Dictionaries\n",
    "\n",
    "Convert Iterable to Iterator - > iter()\n",
    "\n",
    "- For Loop: We can't stop the counter until it reaches the condion or if we apply break statement\n",
    "\n",
    "- Iterator: We can stop the iteration at any point\n",
    "\n"
   ]
  },
  {
   "cell_type": "code",
   "execution_count": 196,
   "metadata": {},
   "outputs": [
    {
     "data": {
      "text/plain": [
       "'t'"
      ]
     },
     "execution_count": 196,
     "metadata": {},
     "output_type": "execute_result"
    }
   ],
   "source": [
    "it = iter('Python')\n",
    "next(it) # prints 'P'\n",
    "next(it) # PRINTS 'y'\n",
    "s='hello'\n",
    "s\n",
    "s[2]\n",
    "next(it)  # It remembers the index where it stops earlier"
   ]
  },
  {
   "cell_type": "markdown",
   "metadata": {},
   "source": [
    "### Generators\n",
    "\n",
    "- Generator is a Function\n"
   ]
  },
  {
   "cell_type": "code",
   "execution_count": 242,
   "metadata": {},
   "outputs": [
    {
     "data": {
      "text/plain": [
       "512"
      ]
     },
     "execution_count": 242,
     "metadata": {},
     "output_type": "execute_result"
    }
   ],
   "source": [
    "\n",
    "def generator():\n",
    "    n = 2\n",
    "    yield n\n",
    "    \n",
    "    n = n ** 3\n",
    "    yield n\n",
    "    \n",
    "    n = n ** 3\n",
    "    yield n\n",
    "    \n",
    "a = generator()\n",
    "next(a) # returns 2\n",
    "next(a) # returns 8\n",
    "next(a) # returns 512"
   ]
  },
  {
   "cell_type": "code",
   "execution_count": 251,
   "metadata": {},
   "outputs": [
    {
     "name": "stdout",
     "output_type": "stream",
     "text": [
      "4\n",
      "16\n",
      "256\n",
      "65536\n",
      "4294967296\n"
     ]
    }
   ],
   "source": [
    "def generator1():\n",
    "    n = 2\n",
    "    for i in range(5):  # we can use yield 4 times\n",
    "        n **= 2\n",
    "        yield n\n",
    "        \n",
    "b = generator1()\n",
    "for i in range(5):\n",
    "    print(next(b))"
   ]
  },
  {
   "cell_type": "code",
   "execution_count": 241,
   "metadata": {},
   "outputs": [
    {
     "data": {
      "text/plain": [
       "35184372088832"
      ]
     },
     "execution_count": 241,
     "metadata": {},
     "output_type": "execute_result"
    }
   ],
   "source": [
    "def generator2():\n",
    "    n = 2\n",
    "    while True:\n",
    "        n **= 3\n",
    "        yield n\n",
    "        \n",
    "b = generator2()\n",
    "next(b)\n",
    "c = next(b) ** 2\n",
    "c *= next(b)\n",
    "next(b)\n",
    "c"
   ]
  },
  {
   "cell_type": "code",
   "execution_count": 8,
   "metadata": {},
   "outputs": [
    {
     "ename": "SyntaxError",
     "evalue": "invalid syntax (<ipython-input-8-b849d4cb8ed5>, line 3)",
     "output_type": "error",
     "traceback": [
      "\u001b[1;36m  File \u001b[1;32m\"<ipython-input-8-b849d4cb8ed5>\"\u001b[1;36m, line \u001b[1;32m3\u001b[0m\n\u001b[1;33m    dict{li[i] for i in range(len(li))}\u001b[0m\n\u001b[1;37m        ^\u001b[0m\n\u001b[1;31mSyntaxError\u001b[0m\u001b[1;31m:\u001b[0m invalid syntax\n"
     ]
    }
   ],
   "source": []
  },
  {
   "cell_type": "code",
   "execution_count": null,
   "metadata": {},
   "outputs": [],
   "source": []
  }
 ],
 "metadata": {
  "kernelspec": {
   "display_name": "Python 3",
   "language": "python",
   "name": "python3"
  },
  "language_info": {
   "codemirror_mode": {
    "name": "ipython",
    "version": 3
   },
   "file_extension": ".py",
   "mimetype": "text/x-python",
   "name": "python",
   "nbconvert_exporter": "python",
   "pygments_lexer": "ipython3",
   "version": "3.7.3"
  }
 },
 "nbformat": 4,
 "nbformat_minor": 2
}
