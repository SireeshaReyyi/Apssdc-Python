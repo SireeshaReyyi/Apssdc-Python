<<<<<<< HEAD
{
 "cells": [
  {
   "cell_type": "markdown",
   "metadata": {},
   "source": [
    "## Problem Solving and Programming in Python - Day 4\n",
    "\n",
    "### Date - 14 June 2019\n",
    "\n",
    "### Day Objectives\n",
    "   - Python Data Structures\n",
    "       - Lists\n",
    "       - Tuples\n",
    "       - Dictionaries\n",
    "       - Basic Problem Set on Data Structures\n",
    "       - Advanced Problem Set\n",
    "       - Packages and Modules in Python"
   ]
  },
  {
   "cell_type": "markdown",
   "metadata": {},
   "source": [
    "### Python Data Structures\n",
    "\n",
    "#### Lists"
   ]
  },
  {
   "cell_type": "code",
   "execution_count": 55,
   "metadata": {},
   "outputs": [
    {
     "data": {
      "text/plain": [
       "3"
      ]
     },
     "execution_count": 55,
     "metadata": {},
     "output_type": "execute_result"
    }
   ],
   "source": [
    "li = [123,978,654,239,333,576]\n",
    "\n",
    "li # accessing the entire list\n",
    "\n",
    "li[1] ## access an element with index in a list\n",
    "\n",
    "li[1:len(li)] ## accessing the elements from 2nd to last\n",
    "\n",
    "li[1:]  ## accessing the elements from 2nd to last\n",
    "\n",
    "li[-1] ##accessing the last element\n",
    "\n",
    "li[-1::-1]  ## reverse of a list\n",
    "\n",
    "li[::-1]  ## copy of a list in reverse\n",
    "\n",
    "li ## it returns the original list only\n",
    "\n",
    "li=li[::-1] ## to reverese the original list\n",
    "\n",
    "li  ## now it returns the reverse of the original list\n",
    "\n",
    "li=li[::-1]  ## again reversing the list\n",
    "\n",
    "li  ## returns the original list\n",
    "\n",
    "li[::2]  ## even index elements in a list\n",
    "\n",
    "li[1::2]  # odd index elements in a list\n",
    "\n",
    "# Lists can be accessed, malipulated in two different ways\n",
    "    # Direct Referencing - [index]\n",
    "    # Indirect Rferencing - Through Functions\n",
    "\n",
    "# Indirect Referencing\n",
    "\n",
    "li.append(3)  # Adding an element to end of the list\n",
    "\n",
    "li\n",
    "\n",
    "li.insert(1,111) # adding an element at a particular index\n",
    "\n",
    "li\n",
    "\n",
    "li.sort()   # Sort elements in Ascending Order\n",
    "\n",
    "li\n",
    "\n",
    "li.pop()  # Remove the last element in the list\n",
    "\n",
    "li\n",
    "\n",
    "li.pop(3) # Remove an element at a particular Index\n",
    "\n",
    "li\n",
    "\n",
    "li2 = [444,231,567,890]\n",
    "\n",
    "li.extend(li2)  # Merge list 2 into list 1\n",
    "\n",
    "li\n",
    "\n",
    "sum(li)   # Calculates the sum of all elements in the list\n",
    "\n",
    "max(li)   # Maximum elements of a list\n",
    "\n",
    "len(li)  # Length of a list\n",
    "\n",
    "sum(li)/len(li) # Average of elements in a list\n",
    "\n",
    "sum(li[::2])/len(li[::2])  # Aerage of all alternate elements at even index postitions\n",
    "\n",
    "sum(li[1::2])/len(li[1::2])   # Aerage of all alternate elements at even index postitions\n",
    "\n",
    "min(li) # returns the minimum of a list"
   ]
  },
  {
   "cell_type": "code",
   "execution_count": 80,
   "metadata": {},
   "outputs": [
    {
     "name": "stdout",
     "output_type": "stream",
     "text": [
      "enter a number6\n"
     ]
    },
    {
     "data": {
      "text/plain": [
       "12"
      ]
     },
     "execution_count": 80,
     "metadata": {},
     "output_type": "execute_result"
    }
   ],
   "source": [
    "# Function to identify the nth largest element in a list of unique data\n",
    "\n",
    "li=[123,234,12,34,678,569]\n",
    "n=int(input(\"enter a number\"))\n",
    "def genericLargest(li,n):\n",
    "    li.sort()\n",
    "    return li[-(n)]\n",
    "genericLargest(li,n)"
   ]
  },
  {
   "cell_type": "code",
   "execution_count": 9,
   "metadata": {},
   "outputs": [
    {
     "name": "stdout",
     "output_type": "stream",
     "text": [
      "enter a key4\n"
     ]
    },
    {
     "data": {
      "text/plain": [
       "2"
      ]
     },
     "execution_count": 9,
     "metadata": {},
     "output_type": "execute_result"
    }
   ],
   "source": [
    "# function to search for data in a list--if found --return index else--return -1\n",
    "\n",
    "def linearSearch1(li,key):\n",
    "    for i in range(0,len(li)):\n",
    "        if li[i]==key:\n",
    "            return i\n",
    "    return -1\n",
    "\n",
    "def linearSearch2(li,key):\n",
    "    for element in li:\n",
    "        if element==key:\n",
    "            return li.index(element)\n",
    "    return -1\n",
    "\n",
    "def linearSearch3(li,key):\n",
    "    try:\n",
    "        return li.index(key)\n",
    "    except:\n",
    "        return -1\n",
    "    \n",
    "def linearSearch4(li,key):\n",
    "    if key in li:\n",
    "        return li.index(key)\n",
    "    return -1\n",
    "\n",
    "li=[123,23,4,12,567,345]\n",
    "\n",
    "key=int(input(\"enter a key\"))\n",
    "\n",
    "linearSearch1(li,key)\n",
    "\n",
    "linearSearch2(li,key)\n",
    "\n",
    "linearSearch3(li,key)\n",
    "\n",
    "linearSearch4(li,key)"
   ]
  },
  {
   "cell_type": "code",
   "execution_count": 6,
   "metadata": {},
   "outputs": [
    {
     "name": "stdout",
     "output_type": "stream",
     "text": [
      "4\n"
     ]
    },
    {
     "data": {
      "text/plain": [
       "2"
      ]
     },
     "execution_count": 6,
     "metadata": {},
     "output_type": "execute_result"
    }
   ],
   "source": [
    "# Function to count the occurances of  a character in a string\n",
    "# \"Python Programming\" m--> 2\n",
    "\n",
    "s=\"Python Programming\"\n",
    "ch=input(\"enter a char to search:\")\n",
    "\n",
    "def countChar1(s,ch):\n",
    "    count=0\n",
    "    for i in range(0,len(s)):\n",
    "        if(ch==s[i]):\n",
    "            count+=1\n",
    "    return count\n",
    "def countChar2(s,ch):\n",
    "    count=0\n",
    "    for c in s:\n",
    "        if c==ch:\n",
    "            count+=1\n",
    "    return count\n",
    "def countChar3(st,ch):\n",
    "    return s.count(ch)\n",
    "\n",
    "def countSubstr(st,substr):\n",
    "    count=0\n",
    "    l=len(substr)\n",
    "    for i in range(len(st)):\n",
    "        if i+l <=len(st):\n",
    "            if st[i:i+l]==substr:\n",
    "                count+=1\n",
    "    print(count)\n",
    "    return (st.count(substr))   \n",
    "st=\"ababababacb\"\n",
    "substr=\"aba\"\n",
    "# countChar1(str,ch)\n",
    "# countChar2(str,ch)\n",
    "# countChar3(str,ch)\n",
    "countSubstr(st,substr)"
   ]
  },
  {
   "cell_type": "code",
   "execution_count": 44,
   "metadata": {},
   "outputs": [
    {
     "name": "stdout",
     "output_type": "stream",
     "text": [
      "123456\n"
     ]
    },
    {
     "data": {
      "text/plain": [
       "[123456]"
      ]
     },
     "execution_count": 44,
     "metadata": {},
     "output_type": "execute_result"
    }
   ],
   "source": [
    "s=input()\n",
    "li=s.split()\n",
    "numberList=[]\n",
    "for i in li:\n",
    "    numberList.append(int(i))\n",
    "numberList\n"
   ]
  },
  {
   "cell_type": "code",
   "execution_count": null,
   "metadata": {},
   "outputs": [],
   "source": []
  }
 ],
 "metadata": {
  "kernelspec": {
   "display_name": "Python 3",
   "language": "python",
   "name": "python3"
  },
  "language_info": {
   "codemirror_mode": {
    "name": "ipython",
    "version": 3
   },
   "file_extension": ".py",
   "mimetype": "text/x-python",
   "name": "python",
   "nbconvert_exporter": "python",
   "pygments_lexer": "ipython3",
   "version": "3.7.3"
  }
 },
 "nbformat": 4,
 "nbformat_minor": 2
}
=======
{
 "cells": [
  {
   "cell_type": "markdown",
   "metadata": {},
   "source": [
    "## Problem Solving and Programming in Python - Day 4\n",
    "\n",
    "### Date - 14 June 2019\n",
    "\n",
    "### Day Objectives\n",
    "   - Python Data Structures\n",
    "       - Lists\n",
    "       - Tuples\n",
    "       - Dictionaries\n",
    "       - Basic Problem Set on Data Structures\n",
    "       - Advanced Problem Set\n",
    "       - Packages and Modules in Python"
   ]
  },
  {
   "cell_type": "markdown",
   "metadata": {},
   "source": [
    "### Python Data Structures\n",
    "\n",
    "#### Lists"
   ]
  },
  {
   "cell_type": "code",
   "execution_count": 55,
   "metadata": {},
   "outputs": [
    {
     "data": {
      "text/plain": [
       "3"
      ]
     },
     "execution_count": 55,
     "metadata": {},
     "output_type": "execute_result"
    }
   ],
   "source": [
    "li = [123,978,654,239,333,576]\n",
    "\n",
    "li # accessing the entire list\n",
    "\n",
    "li[1] ## access an element with index in a list\n",
    "\n",
    "li[1:len(li)] ## accessing the elements from 2nd to last\n",
    "\n",
    "li[1:]  ## accessing the elements from 2nd to last\n",
    "\n",
    "li[-1] ##accessing the last element\n",
    "\n",
    "li[-1::-1]  ## reverse of a list\n",
    "\n",
    "li[::-1]  ## copy of a list in reverse\n",
    "\n",
    "li ## it returns the original list only\n",
    "\n",
    "li=li[::-1] ## to reverese the original list\n",
    "\n",
    "li  ## now it returns the reverse of the original list\n",
    "\n",
    "li=li[::-1]  ## again reversing the list\n",
    "\n",
    "li  ## returns the original list\n",
    "\n",
    "li[::2]  ## even index elements in a list\n",
    "\n",
    "li[1::2]  # odd index elements in a list\n",
    "\n",
    "# Lists can be accessed, malipulated in two different ways\n",
    "    # Direct Referencing - [index]\n",
    "    # Indirect Rferencing - Through Functions\n",
    "\n",
    "# Indirect Referencing\n",
    "\n",
    "li.append(3)  # Adding an element to end of the list\n",
    "\n",
    "li\n",
    "\n",
    "li.insert(1,111) # adding an element at a particular index\n",
    "\n",
    "li\n",
    "\n",
    "li.sort()   # Sort elements in Ascending Order\n",
    "\n",
    "li\n",
    "\n",
    "li.pop()  # Remove the last element in the list\n",
    "\n",
    "li\n",
    "\n",
    "li.pop(3) # Remove an element at a particular Index\n",
    "\n",
    "li\n",
    "\n",
    "li2 = [444,231,567,890]\n",
    "\n",
    "li.extend(li2)  # Merge list 2 into list 1\n",
    "\n",
    "li\n",
    "\n",
    "sum(li)   # Calculates the sum of all elements in the list\n",
    "\n",
    "max(li)   # Maximum elements of a list\n",
    "\n",
    "len(li)  # Length of a list\n",
    "\n",
    "sum(li)/len(li) # Average of elements in a list\n",
    "\n",
    "sum(li[::2])/len(li[::2])  # Aerage of all alternate elements at even index postitions\n",
    "\n",
    "sum(li[1::2])/len(li[1::2])   # Aerage of all alternate elements at even index postitions\n",
    "\n",
    "min(li) # returns the minimum of a list"
   ]
  },
  {
   "cell_type": "code",
   "execution_count": 80,
   "metadata": {},
   "outputs": [
    {
     "name": "stdout",
     "output_type": "stream",
     "text": [
      "enter a number6\n"
     ]
    },
    {
     "data": {
      "text/plain": [
       "12"
      ]
     },
     "execution_count": 80,
     "metadata": {},
     "output_type": "execute_result"
    }
   ],
   "source": [
    "# Function to identify the nth largest element in a list of unique data\n",
    "\n",
    "li=[123,234,12,34,678,569]\n",
    "n=int(input(\"enter a number\"))\n",
    "def genericLargest(li,n):\n",
    "    li.sort()\n",
    "    return li[-(n)]\n",
    "genericLargest(li,n)"
   ]
  },
  {
   "cell_type": "code",
   "execution_count": 9,
   "metadata": {},
   "outputs": [
    {
     "name": "stdout",
     "output_type": "stream",
     "text": [
      "enter a key4\n"
     ]
    },
    {
     "data": {
      "text/plain": [
       "2"
      ]
     },
     "execution_count": 9,
     "metadata": {},
     "output_type": "execute_result"
    }
   ],
   "source": [
    "# function to search for data in a list--if found --return index else--return -1\n",
    "\n",
    "def linearSearch1(li,key):\n",
    "    for i in range(0,len(li)):\n",
    "        if li[i]==key:\n",
    "            return i\n",
    "    return -1\n",
    "\n",
    "def linearSearch2(li,key):\n",
    "    for element in li:\n",
    "        if element==key:\n",
    "            return li.index(element)\n",
    "    return -1\n",
    "\n",
    "def linearSearch3(li,key):\n",
    "    try:\n",
    "        return li.index(key)\n",
    "    except:\n",
    "        return -1\n",
    "    \n",
    "def linearSearch4(li,key):\n",
    "    if key in li:\n",
    "        return li.index(key)\n",
    "    return -1\n",
    "\n",
    "li=[123,23,4,12,567,345]\n",
    "\n",
    "key=int(input(\"enter a key\"))\n",
    "\n",
    "linearSearch1(li,key)\n",
    "\n",
    "linearSearch2(li,key)\n",
    "\n",
    "linearSearch3(li,key)\n",
    "\n",
    "linearSearch4(li,key)"
   ]
  },
  {
   "cell_type": "code",
   "execution_count": 6,
   "metadata": {},
   "outputs": [
    {
     "name": "stdout",
     "output_type": "stream",
     "text": [
      "4\n"
     ]
    },
    {
     "data": {
      "text/plain": [
       "2"
      ]
     },
     "execution_count": 6,
     "metadata": {},
     "output_type": "execute_result"
    }
   ],
   "source": [
    "# Function to count the occurances of  a character in a string\n",
    "# \"Python Programming\" m--> 2\n",
    "\n",
    "s=\"Python Programming\"\n",
    "ch=input(\"enter a char to search:\")\n",
    "\n",
    "def countChar1(s,ch):\n",
    "    count=0\n",
    "    for i in range(0,len(s)):\n",
    "        if(ch==s[i]):\n",
    "            count+=1\n",
    "    return count\n",
    "def countChar2(s,ch):\n",
    "    count=0\n",
    "    for c in s:\n",
    "        if c==ch:\n",
    "            count+=1\n",
    "    return count\n",
    "def countChar3(st,ch):\n",
    "    return s.count(ch)\n",
    "\n",
    "def countSubstr(st,substr):\n",
    "    count=0\n",
    "    l=len(substr)\n",
    "    for i in range(len(st)):\n",
    "        if i+l <=len(st):\n",
    "            if st[i:i+l]==substr:\n",
    "                count+=1\n",
    "    print(count)\n",
    "    return (st.count(substr))   \n",
    "st=\"ababababacb\"\n",
    "substr=\"aba\"\n",
    "# countChar1(str,ch)\n",
    "# countChar2(str,ch)\n",
    "# countChar3(str,ch)\n",
    "countSubstr(st,substr)"
   ]
  },
  {
   "cell_type": "code",
   "execution_count": 44,
   "metadata": {},
   "outputs": [
    {
     "name": "stdout",
     "output_type": "stream",
     "text": [
      "123456\n"
     ]
    },
    {
     "data": {
      "text/plain": [
       "[123456]"
      ]
     },
     "execution_count": 44,
     "metadata": {},
     "output_type": "execute_result"
    }
   ],
   "source": [
    "s=input()\n",
    "li=s.split()\n",
    "numberList=[]\n",
    "for i in li:\n",
    "    numberList.append(int(i))\n",
    "numberList\n"
   ]
  },
  {
   "cell_type": "code",
   "execution_count": null,
   "metadata": {},
   "outputs": [],
   "source": []
  }
 ],
 "metadata": {
  "kernelspec": {
   "display_name": "Python 3",
   "language": "python",
   "name": "python3"
  },
  "language_info": {
   "codemirror_mode": {
    "name": "ipython",
    "version": 3
   },
   "file_extension": ".py",
   "mimetype": "text/x-python",
   "name": "python",
   "nbconvert_exporter": "python",
   "pygments_lexer": "ipython3",
   "version": "3.7.3"
  }
 },
 "nbformat": 4,
 "nbformat_minor": 2
}
>>>>>>> 9cc45850479d0758c54ba1c340042dc2085e5f8c
