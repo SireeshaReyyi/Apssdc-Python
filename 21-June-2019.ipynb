{
 "cells": [
  {
   "cell_type": "code",
   "execution_count": 4,
   "metadata": {},
   "outputs": [
    {
     "ename": "SyntaxError",
     "evalue": "invalid token (<ipython-input-4-ac6c7fb96b93>, line 32)",
     "output_type": "error",
     "traceback": [
      "\u001b[1;36m  File \u001b[1;32m\"<ipython-input-4-ac6c7fb96b93>\"\u001b[1;36m, line \u001b[1;32m32\u001b[0m\n\u001b[1;33m    pnv(09703451892)\u001b[0m\n\u001b[1;37m                  ^\u001b[0m\n\u001b[1;31mSyntaxError\u001b[0m\u001b[1;31m:\u001b[0m invalid token\n"
     ]
    }
   ],
   "source": [
    "# Function to add contact to contacts text file\n",
    "\n",
    "from Packages.validators import phoneNumberValidator as pnv, emailValidator as ev\n",
    "\n",
    "import re\n",
    "## Function to check if contact already exist\n",
    "def checkContactExists(name):\n",
    "    filename = 'Datafiles/contacts.txt'\n",
    "    with open(filename,'r') as f:\n",
    "        filedata = f.read()\n",
    "        pattern=name+','\n",
    "    return re.search(pattern,filedata)\n",
    "if checkContactExists('name1'):\n",
    "    print(True)\n",
    "else:\n",
    "    print(False)\n",
    "\n",
    "def addContact(name,phone,email):\n",
    "    # store data as name,phone,email in the contacts file\n",
    "    \n",
    "    filename = 'Datafiles/contacts.txt'\n",
    "    if not checkContactExists(name):\n",
    "        if pnv(phone) and ev(email):\n",
    "            with open(filename,'a') as f:\n",
    "                line = name + ',' + str(phone) + ',' + email + '\\n'\n",
    "                f.write(line)\n",
    "            print(name,'added to contacts')\n",
    "    else:\n",
    "        print(name,'already exist')\n",
    "    return\n",
    "addContact('name3',9383835463,'name3@rgukt.in')"
   ]
  },
  {
   "cell_type": "code",
   "execution_count": 2,
   "metadata": {},
   "outputs": [
    {
     "data": {
      "text/plain": [
       "'name19845672310n130388@rgukt.in\\nname2name19845672310n130388@rgukt.in\\n9845672310name19845672310n130388@rgukt.in\\nn130388@rgukt.in\\nname3name19845672310n130388@rgukt.in\\nname2name19845672310n130388@rgukt.in\\n9845672310name19845672310n130388@rgukt.in\\nn130388@rgukt.in\\n9845672310name19845672310n130388@rgukt.in\\nname2name19845672310n130388@rgukt.in\\n9845672310name19845672310n130388@rgukt.in\\nn130388@rgukt.in\\nn130388@rgukt.in\\n'"
      ]
     },
     "execution_count": 2,
     "metadata": {},
     "output_type": "execute_result"
    }
   ],
   "source": [
    "filename = 'DataFiles/contacts.txt'\n",
    "def csvToList(filename):\n",
    "    li = []\n",
    "    with open(filename,'r') as f:\n",
    "        for line in f:\n",
    "            li.append(line.split(','))\n",
    "    return li\n",
    "\n",
    "def listToFile(li):\n",
    "    s=''\n",
    "    for i in li:\n",
    "        s+=s.join(i)\n",
    "    return s\n",
    "\n",
    "\n",
    "li = csvToList(filename)\n",
    "listToFile(li)"
   ]
  },
  {
   "cell_type": "code",
   "execution_count": null,
   "metadata": {},
   "outputs": [],
   "source": [
    "# Function to edit contact in contacts text file\n",
    "\n",
    "from packages.validators import phoneNumberValidator as pnv, emailValidator as ev\n",
    "\n",
    "import re\n",
    "def checkContactExists(name):\n",
    "    filename='Datafiles/contacts.txt'\n",
    "    with open(filename,'r') as f:\n",
    "        filedata=f.read()\n",
    "        pattern=name+','\n",
    "    return re.search(pattern,filedata)\n",
    "\n",
    "def modifyContact(name):\n",
    "    filename = 'Datafiles/contacts.txt'\n",
    "    if not checkContactExists(name):\n",
    "        print(name,'is not found in your contacts list')\n",
    "    else:\n",
    "        \n",
    "            "
   ]
  },
  {
   "cell_type": "code",
   "execution_count": null,
   "metadata": {},
   "outputs": [],
   "source": []
  },
  {
   "cell_type": "code",
   "execution_count": null,
   "metadata": {},
   "outputs": [],
   "source": []
  }
 ],
 "metadata": {
  "kernelspec": {
   "display_name": "Python 3",
   "language": "python",
   "name": "python3"
  },
  "language_info": {
   "codemirror_mode": {
    "name": "ipython",
    "version": 3
   },
   "file_extension": ".py",
   "mimetype": "text/x-python",
   "name": "python",
   "nbconvert_exporter": "python",
   "pygments_lexer": "ipython3",
   "version": "3.7.3"
  }
 },
 "nbformat": 4,
 "nbformat_minor": 2
}
