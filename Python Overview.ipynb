{
 "cells": [
  {
   "cell_type": "markdown",
   "metadata": {},
   "source": [
    "# 8 Dec 2019\n",
    "## Python Overview"
   ]
  },
  {
   "cell_type": "markdown",
   "metadata": {},
   "source": [
    "- World's fastest going and most popular programming language\n",
    "- Solve complex problems in less time with fewer lines of code than many other languages..that's why huge companies like        Google,Facebook,Dropbox,spotify encourage this language\n",
    "- It is a multipurpose language and we can use it for wide range of jobs\n",
    "    - Data Analysis\n",
    "    - AI/ML\n",
    "    - Writing Automation Scripts\n",
    "    - Building Web Apps, Desktop Apps, Mobile Apps\n",
    "    - Software Testing\n",
    "    - Hacking\n",
    "- Python is a High level language\n",
    "    - human friendly\n",
    "    - Slow execution\n",
    "- Cross-platform(platform independent)\n",
    "- Large ecosystem of libraries, frameworks and tools\n",
    "- It is a dynamic programming language  ( type of variable determined ar runtime/ compile time )\n",
    "    - like Javascript, Ruby,...\n",
    "    - static ( we need to declare the type of the variable )\n",
    "        - C++\n",
    "        - C#\n",
    "        - Java\n",
    "    \n",
    "- Low level language\n",
    "    - Machine level or assembly level language\n",
    "    - Directly executable, there is no need of compiler or interpreter\n",
    "    - user has the complete control over fields like memory allocation which makes the program very efficient\n",
    "    - Great for Operating Systems or Firmware\n",
    "    - Difficult to use\n",
    "    - Longer Development Time\n",
    "    \n",
    "### Python Tools\n",
    "- To bulit python programs, we have two options\n",
    "    - Editor\n",
    "        - VSCode\n",
    "        - Atom\n",
    "        - Sublime\n",
    "    - IDE - Intigrated Development Environment\n",
    "        - It is basically a code editor with some fancy features like debugging, autocompletion and testing\n",
    "        - The most popular IDE is PyCharm\n",
    "        \n",
    "### Implementations of Python\n",
    "- CPython - Default\n",
    "- Jython - Java\n",
    "    - Jython is an implementation of the Python programming language designed to run on the Java platform.\n",
    "- IronPython - C#\n",
    "- PyPy - subset of python\n",
    "\n",
    "#### Reason behind these many implementations\n",
    "- if u want to import some java code into a python program now u can use Jython..Likewise others also\n",
    "\n",
    "### How python code is executed\n",
    "- C code - compiler- machine code - Processor\n",
    "- Java code - compiler - Java byte code - JVM - machine code - processor\n",
    "- Python code - CPython(compiler) - python byte code - python virtual machine - machine code"
   ]
  },
  {
   "cell_type": "markdown",
   "metadata": {},
   "source": [
    "## Python Basics"
   ]
  },
  {
   "cell_type": "markdown",
   "metadata": {},
   "source": [
    "### Variables"
   ]
  },
  {
   "cell_type": "markdown",
   "metadata": {},
   "source": [
    "- Must begin with a letter (a - z, A - B) or underscore (_)\n",
    "- Other characters can be letters, numbers or _\n",
    "- Case Sensitive.\n",
    "- Can be any (reasonable) length.\n",
    "- There are some reserved words which you cannot use as a variable name because Python uses them for other things."
   ]
  },
  {
   "cell_type": "markdown",
   "metadata": {},
   "source": [
    "### Mutable and Immutable Types\n",
    "- int,float,strings are immutable"
   ]
  },
  {
   "cell_type": "code",
   "execution_count": 22,
   "metadata": {},
   "outputs": [
    {
     "name": "stdout",
     "output_type": "stream",
     "text": [
      "140731730137920\n"
     ]
    }
   ],
   "source": [
    "x = 1\n",
    "print(id(x))"
   ]
  },
  {
   "cell_type": "code",
   "execution_count": 27,
   "metadata": {},
   "outputs": [
    {
     "name": "stdout",
     "output_type": "stream",
     "text": [
      "140731730137984\n"
     ]
    }
   ],
   "source": [
    "x = x + 1\n",
    "print(id(x)) ## changes will saved at new memory location"
   ]
  },
  {
   "cell_type": "code",
   "execution_count": 28,
   "metadata": {},
   "outputs": [
    {
     "name": "stdout",
     "output_type": "stream",
     "text": [
      "2497829217416\n"
     ]
    }
   ],
   "source": [
    "y = [1,2,3]\n",
    "print(id(y))"
   ]
  },
  {
   "cell_type": "code",
   "execution_count": 29,
   "metadata": {},
   "outputs": [
    {
     "name": "stdout",
     "output_type": "stream",
     "text": [
      "2497829217416\n"
     ]
    }
   ],
   "source": [
    "y.append(1)\n",
    "print(id(y)) ### changes applied at the same memory location"
   ]
  },
  {
   "cell_type": "markdown",
   "metadata": {},
   "source": [
    "### Strings"
   ]
  },
  {
   "cell_type": "code",
   "execution_count": 30,
   "metadata": {},
   "outputs": [
    {
     "name": "stdout",
     "output_type": "stream",
     "text": [
      "2497829295208\n"
     ]
    }
   ],
   "source": [
    "s = 'Python Programming'\n",
    "print(id(s))"
   ]
  },
  {
   "cell_type": "code",
   "execution_count": 32,
   "metadata": {},
   "outputs": [
    {
     "name": "stdout",
     "output_type": "stream",
     "text": [
      "2497754869920\n"
     ]
    }
   ],
   "source": [
    "print(id(s[0])) ## allocates new memory location"
   ]
  },
  {
   "cell_type": "markdown",
   "metadata": {},
   "source": [
    "### Escape Sequences\n",
    "- \\'\n",
    "- \\\"\n",
    "- \\\\\n",
    "- \\n, \\b, \\t"
   ]
  },
  {
   "cell_type": "code",
   "execution_count": 36,
   "metadata": {},
   "outputs": [
    {
     "ename": "SyntaxError",
     "evalue": "invalid syntax (<ipython-input-36-6a07a9f78219>, line 1)",
     "output_type": "error",
     "traceback": [
      "\u001b[1;36m  File \u001b[1;32m\"<ipython-input-36-6a07a9f78219>\"\u001b[1;36m, line \u001b[1;32m1\u001b[0m\n\u001b[1;33m    s=\"python\"program\"\u001b[0m\n\u001b[1;37m                    ^\u001b[0m\n\u001b[1;31mSyntaxError\u001b[0m\u001b[1;31m:\u001b[0m invalid syntax\n"
     ]
    }
   ],
   "source": [
    "s=\"python\"program\"\n",
    "s"
   ]
  },
  {
   "cell_type": "code",
   "execution_count": 55,
   "metadata": {},
   "outputs": [
    {
     "data": {
      "text/plain": [
       "'python \"program'"
      ]
     },
     "execution_count": 55,
     "metadata": {},
     "output_type": "execute_result"
    }
   ],
   "source": [
    "s = \"python \\\"program\"\n",
    "s"
   ]
  },
  {
   "cell_type": "markdown",
   "metadata": {},
   "source": [
    "### Formatted Strings"
   ]
  },
  {
   "cell_type": "code",
   "execution_count": 56,
   "metadata": {},
   "outputs": [
    {
     "name": "stdout",
     "output_type": "stream",
     "text": [
      "Python Programming\n"
     ]
    }
   ],
   "source": [
    "first = 'Python'\n",
    "last = 'Programming'\n",
    "s = first+\" \"+last\n",
    "print(s)"
   ]
  },
  {
   "cell_type": "code",
   "execution_count": 58,
   "metadata": {},
   "outputs": [
    {
     "name": "stdout",
     "output_type": "stream",
     "text": [
      "Python Programming\n"
     ]
    }
   ],
   "source": [
    "print(f\"{first} {last}\")"
   ]
  },
  {
   "cell_type": "code",
   "execution_count": 63,
   "metadata": {},
   "outputs": [
    {
     "name": "stdout",
     "output_type": "stream",
     "text": [
      "Python Programming\n"
     ]
    }
   ],
   "source": [
    "print(\"{} {}\".format(first,last))"
   ]
  },
  {
   "cell_type": "code",
   "execution_count": 64,
   "metadata": {},
   "outputs": [
    {
     "name": "stdout",
     "output_type": "stream",
     "text": [
      "Programming Python\n"
     ]
    }
   ],
   "source": [
    "print(\"{1} {0}\".format(first,last))"
   ]
  },
  {
   "cell_type": "markdown",
   "metadata": {},
   "source": [
    "### Type Conversion"
   ]
  },
  {
   "cell_type": "code",
   "execution_count": 65,
   "metadata": {},
   "outputs": [
    {
     "name": "stdout",
     "output_type": "stream",
     "text": [
      "x : 3\n",
      "3\n",
      "3.0\n",
      "True\n"
     ]
    }
   ],
   "source": [
    "x = input(\"x : \")\n",
    "print(int(x))\n",
    "print(float(x))\n",
    "print(bool(x))"
   ]
  },
  {
   "cell_type": "markdown",
   "metadata": {},
   "source": [
    "#### Boolean Type\n",
    "- True\n",
    "- False\n",
    "    - \"\"\n",
    "    - 0\n",
    "    - [ ]\n",
    "    - None (null)"
   ]
  },
  {
   "cell_type": "code",
   "execution_count": 66,
   "metadata": {},
   "outputs": [
    {
     "data": {
      "text/plain": [
       "False"
      ]
     },
     "execution_count": 66,
     "metadata": {},
     "output_type": "execute_result"
    }
   ],
   "source": [
    "bool([])"
   ]
  },
  {
   "cell_type": "code",
   "execution_count": 67,
   "metadata": {},
   "outputs": [
    {
     "data": {
      "text/plain": [
       "False"
      ]
     },
     "execution_count": 67,
     "metadata": {},
     "output_type": "execute_result"
    }
   ],
   "source": [
    "bool()"
   ]
  },
  {
   "cell_type": "code",
   "execution_count": 70,
   "metadata": {},
   "outputs": [
    {
     "data": {
      "text/plain": [
       "True"
      ]
     },
     "execution_count": 70,
     "metadata": {},
     "output_type": "execute_result"
    }
   ],
   "source": [
    "bool(\"  \")"
   ]
  },
  {
   "cell_type": "markdown",
   "metadata": {},
   "source": [
    "- Conditional Statements\n",
    "- loops\n",
    "- for else blocks\n",
    "- functions"
   ]
  },
  {
   "cell_type": "code",
   "execution_count": 71,
   "metadata": {},
   "outputs": [
    {
     "name": "stdout",
     "output_type": "stream",
     "text": [
      "(2, 5)\n"
     ]
    }
   ],
   "source": [
    "def inc(num,by):\n",
    "    return (num, num+by)\n",
    "print(inc(2,3))"
   ]
  },
  {
   "cell_type": "code",
   "execution_count": 72,
   "metadata": {},
   "outputs": [
    {
     "name": "stdout",
     "output_type": "stream",
     "text": [
      "(2, 3)\n"
     ]
    }
   ],
   "source": [
    "def inc(num,by=1):\n",
    "    return (num, num+by)\n",
    "print(inc(2))"
   ]
  },
  {
   "cell_type": "code",
   "execution_count": 77,
   "metadata": {},
   "outputs": [
    {
     "name": "stdout",
     "output_type": "stream",
     "text": [
      "(2, 5)\n"
     ]
    }
   ],
   "source": [
    "def inc(num,by):\n",
    "    return (num, num+by)\n",
    "print(inc(2,by=3))"
   ]
  },
  {
   "cell_type": "markdown",
   "metadata": {},
   "source": [
    "#### local and global variable"
   ]
  },
  {
   "cell_type": "code",
   "execution_count": 90,
   "metadata": {},
   "outputs": [
    {
     "name": "stdout",
     "output_type": "stream",
     "text": [
      "2\n"
     ]
    }
   ],
   "source": [
    "v = 1 ## global variable (scope : file)\n",
    "def fun():\n",
    "    v = 2\n",
    "    print(v) # local variable (scope : function)\n",
    "fun()"
   ]
  },
  {
   "cell_type": "code",
   "execution_count": 91,
   "metadata": {},
   "outputs": [
    {
     "name": "stdout",
     "output_type": "stream",
     "text": [
      "1\n"
     ]
    }
   ],
   "source": [
    "v = 1\n",
    "def fun():\n",
    "    v = 2\n",
    "fun()\n",
    "print(v)"
   ]
  },
  {
   "cell_type": "code",
   "execution_count": 92,
   "metadata": {},
   "outputs": [
    {
     "name": "stdout",
     "output_type": "stream",
     "text": [
      "1\n"
     ]
    }
   ],
   "source": [
    "v = 1\n",
    "def fun():\n",
    "    print(v)\n",
    "fun()\n"
   ]
  },
  {
   "cell_type": "code",
   "execution_count": null,
   "metadata": {},
   "outputs": [],
   "source": []
  }
 ],
 "metadata": {
  "kernelspec": {
   "display_name": "Python 3",
   "language": "python",
   "name": "python3"
  },
  "language_info": {
   "codemirror_mode": {
    "name": "ipython",
    "version": 3
   },
   "file_extension": ".py",
   "mimetype": "text/x-python",
   "name": "python",
   "nbconvert_exporter": "python",
   "pygments_lexer": "ipython3",
   "version": "3.7.3"
  }
 },
 "nbformat": 4,
 "nbformat_minor": 2
}
