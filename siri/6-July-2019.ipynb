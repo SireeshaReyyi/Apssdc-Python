{
 "cells": [
  {
   "cell_type": "code",
   "execution_count": 29,
   "metadata": {},
   "outputs": [
    {
     "name": "stdout",
     "output_type": "stream",
     "text": [
      "5\n",
      "1 4\n",
      "2 4\n",
      "3 5\n",
      "3 6\n",
      "4 5\n",
      "[[1, 4], [2, 4], [3, 5], [3, 6], [4, 5]]\n",
      "{1, 2, 3, 4}\n",
      "1 4\n",
      "2 4\n",
      "3 6\n",
      "3 5\n",
      "4 5\n",
      "4 5\n"
     ]
    }
   ],
   "source": [
    "t=int(input())\n",
    "points=[]\n",
    "for i in range(t):\n",
    "    points.append(list(map(int,input().split())))\n",
    "x=[]\n",
    "print(points)\n",
    "for point in points:\n",
    "    x.append(point[0])\n",
    "u=set(x)\n",
    "print(u)\n",
    "for i in u:\n",
    "    if x.count(i)==1:\n",
    "        for j in points:\n",
    "            if j[0]==i:\n",
    "                print(i,j[1])\n",
    "    else:\n",
    "        y=[]\n",
    "        for j in points:\n",
    "            if i==j[0]:\n",
    "                y.append(j[1])\n",
    "            y=sorted(y,reverse=True)\n",
    "        for k in y:\n",
    "            for j in points:\n",
    "                if j[1]==k:\n",
    "                    print(j[0],k)\n"
   ]
  },
  {
   "cell_type": "code",
   "execution_count": null,
   "metadata": {},
   "outputs": [],
   "source": [
    "t=int(input())\n",
    "x=['a','e','i','o','u','A','E','I','O','U']\n",
    "c=0\n",
    "for i in range(t):\n",
    "    s=input()\n",
    "    for i in range(0,len(s)+1):\n",
    "        for j in range(1,len(s)+1):\n",
    "            l=s[i:j]\n",
    "            for k in l:\n",
    "                if k in x:\n",
    "                    c=c+1\n",
    "    print(c)"
   ]
  },
  {
   "cell_type": "code",
   "execution_count": 41,
   "metadata": {},
   "outputs": [
    {
     "data": {
      "text/plain": [
       "'1000'"
      ]
     },
     "execution_count": 41,
     "metadata": {},
     "output_type": "execute_result"
    }
   ],
   "source": [
    "b=bin(8).replace('0b','')\n",
    "b"
   ]
  },
  {
   "cell_type": "code",
   "execution_count": 42,
   "metadata": {},
   "outputs": [
    {
     "data": {
      "text/plain": [
       "4"
      ]
     },
     "execution_count": 42,
     "metadata": {},
     "output_type": "execute_result"
    }
   ],
   "source": [
    "len(b)"
   ]
  },
  {
   "cell_type": "code",
   "execution_count": 48,
   "metadata": {},
   "outputs": [
    {
     "data": {
      "text/plain": [
       "'0b1000'"
      ]
     },
     "execution_count": 48,
     "metadata": {},
     "output_type": "execute_result"
    }
   ],
   "source": [
    "b=0\n",
    "b1=bin(8)\n",
    "b1"
   ]
  },
  {
   "cell_type": "code",
   "execution_count": null,
   "metadata": {},
   "outputs": [],
   "source": []
  }
 ],
 "metadata": {
  "kernelspec": {
   "display_name": "Python 3",
   "language": "python",
   "name": "python3"
  },
  "language_info": {
   "codemirror_mode": {
    "name": "ipython",
    "version": 3
   },
   "file_extension": ".py",
   "mimetype": "text/x-python",
   "name": "python",
   "nbconvert_exporter": "python",
   "pygments_lexer": "ipython3",
   "version": "3.7.3"
  }
 },
 "nbformat": 4,
 "nbformat_minor": 2
}
