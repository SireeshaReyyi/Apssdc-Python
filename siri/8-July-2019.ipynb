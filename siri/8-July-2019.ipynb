{
 "cells": [
  {
   "cell_type": "code",
   "execution_count": 213,
   "metadata": {},
   "outputs": [
    {
     "name": "stdout",
     "output_type": "stream",
     "text": [
      "1 2 3 4 5 "
     ]
    }
   ],
   "source": [
    "from array import *\n",
    "a=array('i',[1,2,3,4,5])\n",
    "for i in a:\n",
    "    print(i,end=' ')"
   ]
  },
  {
   "cell_type": "code",
   "execution_count": null,
   "metadata": {},
   "outputs": [],
   "source": []
  },
  {
   "cell_type": "code",
   "execution_count": 214,
   "metadata": {},
   "outputs": [
    {
     "data": {
      "text/plain": [
       "True"
      ]
     },
     "execution_count": 214,
     "metadata": {},
     "output_type": "execute_result"
    }
   ],
   "source": [
    "name = 'python programming'\n",
    "name.islower()"
   ]
  },
  {
   "cell_type": "code",
   "execution_count": 215,
   "metadata": {},
   "outputs": [
    {
     "data": {
      "text/plain": [
       "False"
      ]
     },
     "execution_count": 215,
     "metadata": {},
     "output_type": "execute_result"
    }
   ],
   "source": [
    "l = '123 4'\n",
    "l.isdigit()"
   ]
  },
  {
   "cell_type": "markdown",
   "metadata": {},
   "source": [
    "#### Create a function to check first and last characters are capital or not\n"
   ]
  },
  {
   "cell_type": "code",
   "execution_count": 216,
   "metadata": {},
   "outputs": [
    {
     "data": {
      "text/plain": [
       "False"
      ]
     },
     "execution_count": 216,
     "metadata": {},
     "output_type": "execute_result"
    }
   ],
   "source": [
    "def check(name):\n",
    "    if name[0].isupper() and name[-1].isupper():\n",
    "        return True\n",
    "    return False\n",
    "name='Python Programming'\n",
    "check(name)    \n",
    "        "
   ]
  },
  {
   "cell_type": "markdown",
   "metadata": {},
   "source": [
    "#### Create a function can identify number or alphabests or others"
   ]
  },
  {
   "cell_type": "code",
   "execution_count": 217,
   "metadata": {},
   "outputs": [
    {
     "data": {
      "text/plain": [
       "'Others'"
      ]
     },
     "execution_count": 217,
     "metadata": {},
     "output_type": "execute_result"
    }
   ],
   "source": [
    "def identifyMe(name):\n",
    "    if name.isalpha():\n",
    "        return 'name'\n",
    "    if name.isdigit():\n",
    "        return 'numbers'\n",
    "    return 'Others'\n",
    "name = 'abcFG123'\n",
    "identifyMe(name)"
   ]
  },
  {
   "cell_type": "markdown",
   "metadata": {},
   "source": [
    "#### Ask the values from the user until user gives 0 and print the minimum and maximum and sum of numbers in the given values"
   ]
  },
  {
   "cell_type": "code",
   "execution_count": 219,
   "metadata": {},
   "outputs": [
    {
     "name": "stdout",
     "output_type": "stream",
     "text": [
      "1\n",
      "2\n",
      "45\n",
      "siri\n",
      "mom\n",
      "0\n",
      "[1, 2, 45, 0]\n",
      "45\n",
      "0\n",
      "48\n"
     ]
    }
   ],
   "source": [
    "\n",
    "l=[]\n",
    "while True:\n",
    "    n=input()\n",
    "    if n=='0':\n",
    "        l.append(0)\n",
    "        break\n",
    "    else:\n",
    "        if n.isdigit() or (n[0]=='-' and n[1:].isdigit()):\n",
    "            l.append(int(n))\n",
    "print(l)\n",
    "print(max(l))\n",
    "print(min(l))\n",
    "print(sum(l))"
   ]
  },
  {
   "cell_type": "markdown",
   "metadata": {},
   "source": [
    "#### str.startswith(sub_string)"
   ]
  },
  {
   "cell_type": "code",
   "execution_count": 220,
   "metadata": {},
   "outputs": [
    {
     "name": "stdout",
     "output_type": "stream",
     "text": [
      "True\n",
      "False\n",
      "False\n"
     ]
    }
   ],
   "source": [
    "s='siri'\n",
    "print(s.startswith('s'))\n",
    "print(s.startswith('1'))\n",
    "print(s.startswith('S'))\n"
   ]
  },
  {
   "cell_type": "markdown",
   "metadata": {},
   "source": [
    "#### str.endswith(sub_string)"
   ]
  },
  {
   "cell_type": "code",
   "execution_count": 221,
   "metadata": {},
   "outputs": [
    {
     "name": "stdout",
     "output_type": "stream",
     "text": [
      "True\n",
      "True\n"
     ]
    }
   ],
   "source": [
    "s='python programming'\n",
    "print(s.endswith('g'))\n",
    "print(s.endswith(('p','y','g'))) # if the string ends with any item of the tuple, endswith() results True"
   ]
  },
  {
   "cell_type": "code",
   "execution_count": 222,
   "metadata": {},
   "outputs": [
    {
     "name": "stdout",
     "output_type": "stream",
     "text": [
      "Python Programming\n",
      "False\n"
     ]
    }
   ],
   "source": [
    "print(s.title())\n",
    "print(s.istitle())"
   ]
  },
  {
   "cell_type": "code",
   "execution_count": 223,
   "metadata": {},
   "outputs": [
    {
     "data": {
      "text/plain": [
       "'pYtHoN'"
      ]
     },
     "execution_count": 223,
     "metadata": {},
     "output_type": "execute_result"
    }
   ],
   "source": [
    "s='PyThOn'\n",
    "s.swapcase()"
   ]
  },
  {
   "cell_type": "markdown",
   "metadata": {},
   "source": [
    "#### str.join(sequence_or_collection_of_items)"
   ]
  },
  {
   "cell_type": "code",
   "execution_count": 225,
   "metadata": {},
   "outputs": [
    {
     "name": "stdout",
     "output_type": "stream",
     "text": [
      "p*y*t*h*o*n\n",
      "python\n",
      "12r\n"
     ]
    },
    {
     "ename": "TypeError",
     "evalue": "sequence item 1: expected str instance, int found",
     "output_type": "error",
     "traceback": [
      "\u001b[1;31m---------------------------------------------------------------------------\u001b[0m",
      "\u001b[1;31mTypeError\u001b[0m                                 Traceback (most recent call last)",
      "\u001b[1;32m<ipython-input-225-0b4c05c44294>\u001b[0m in \u001b[0;36m<module>\u001b[1;34m\u001b[0m\n\u001b[0;32m      7\u001b[0m \u001b[0mprint\u001b[0m\u001b[1;33m(\u001b[0m\u001b[1;34m''\u001b[0m\u001b[1;33m.\u001b[0m\u001b[0mjoin\u001b[0m\u001b[1;33m(\u001b[0m\u001b[0ml\u001b[0m\u001b[1;33m)\u001b[0m\u001b[1;33m)\u001b[0m\u001b[1;33m\u001b[0m\u001b[1;33m\u001b[0m\u001b[0m\n\u001b[0;32m      8\u001b[0m \u001b[0mprint\u001b[0m\u001b[1;33m(\u001b[0m\u001b[1;34m''\u001b[0m\u001b[1;33m.\u001b[0m\u001b[0mjoin\u001b[0m\u001b[1;33m(\u001b[0m\u001b[0my\u001b[0m\u001b[1;33m)\u001b[0m\u001b[1;33m)\u001b[0m\u001b[1;33m\u001b[0m\u001b[1;33m\u001b[0m\u001b[0m\n\u001b[1;32m----> 9\u001b[1;33m \u001b[0mprint\u001b[0m\u001b[1;33m(\u001b[0m\u001b[1;34m''\u001b[0m\u001b[1;33m.\u001b[0m\u001b[0mjoin\u001b[0m\u001b[1;33m(\u001b[0m\u001b[0mx\u001b[0m\u001b[1;33m)\u001b[0m\u001b[1;33m)\u001b[0m \u001b[1;31m# returns TypeError, because list must contain string items\u001b[0m\u001b[1;33m\u001b[0m\u001b[1;33m\u001b[0m\u001b[0m\n\u001b[0m",
      "\u001b[1;31mTypeError\u001b[0m: sequence item 1: expected str instance, int found"
     ]
    }
   ],
   "source": [
    "s='python'\n",
    "l=['p','y','t','h','o','n']\n",
    "x=['1',2,'r']\n",
    "y=['1','2','r']\n",
    "link = '*'\n",
    "print(link.join(s))\n",
    "print(''.join(l))\n",
    "print(''.join(y))\n",
    "print(''.join(x)) # returns TypeError, because list must contain string items"
   ]
  },
  {
   "cell_type": "code",
   "execution_count": 226,
   "metadata": {},
   "outputs": [
    {
     "name": "stdout",
     "output_type": "stream",
     "text": [
      "python\n"
     ]
    }
   ],
   "source": [
    "# s='p y t h o n'  --> output : 'python'\n",
    "name='p y t h o n'\n",
    "l=name.split()\n",
    "print(''.join(l))"
   ]
  },
  {
   "cell_type": "code",
   "execution_count": 227,
   "metadata": {},
   "outputs": [
    {
     "name": "stdout",
     "output_type": "stream",
     "text": [
      "siri 100\n",
      "ram 180\n"
     ]
    }
   ],
   "source": [
    "students = [\n",
    "    ('siri',\"10,20,30,40\"),\n",
    "    ('ram',\"30,40,50,60\")\n",
    "]\n",
    "for student in students:\n",
    "    print(student[0],sum(list(map(int,student[1].split(',')))))"
   ]
  },
  {
   "cell_type": "markdown",
   "metadata": {},
   "source": [
    "#### input : s = 'xyz abc mnp \"asdf dfaa asdf\" asd \"fdas asdsdaff\"' \n",
    "#### output : \n",
    "- xyz\n",
    "- abc\n",
    "- mnp\n",
    "- \"asdf dfaa asdf\n",
    "- asd\n",
    "- \"fdas asdsdaff\""
   ]
  },
  {
   "cell_type": "code",
   "execution_count": 228,
   "metadata": {},
   "outputs": [
    {
     "name": "stdout",
     "output_type": "stream",
     "text": [
      "['xyz abc mnp ', 'asdf dfaa asdf', ' asd ', 'fdas asdsdaff', '']\n",
      "xyz\n",
      "abc\n",
      "mnp\n",
      "\"asdf dfaa asdf\"\n",
      "asd\n",
      "\"fdas asdsdaff\"\n"
     ]
    }
   ],
   "source": [
    " s = 'xyz abc mnp \"asdf dfaa asdf\" asd \"fdas asdsdaff\"'\n",
    "sentences = s.split('\"')\n",
    "print(sentences)\n",
    "for sentence in sentences:\n",
    "    if len(sentence)>0:\n",
    "        if sentence.endswith(' '):\n",
    "            for word in sentence.split():\n",
    "                print(word)\n",
    "        else:\n",
    "            print('\"'+sentence+'\"')"
   ]
  },
  {
   "cell_type": "code",
   "execution_count": 229,
   "metadata": {},
   "outputs": [
    {
     "name": "stdout",
     "output_type": "stream",
     "text": [
      "ayyappa\n",
      "syam\n"
     ]
    }
   ],
   "source": [
    "# Print the names that is not ending with 'i' and 'u'\n",
    "names = ['ayyappa', 'ramu', 'syam', 'lakshmi', 'rani']\n",
    "for name in names:\n",
    "    if not (name.endswith('i') or name.endswith('u')):\n",
    "        print(name)"
   ]
  },
  {
   "cell_type": "markdown",
   "metadata": {},
   "source": [
    "### Tuples\n",
    "- Immutable\n",
    "- Only Two Methods\n",
    "    - tuple.count(item) # returns 0 when item not found\n",
    "    - tuple.index(item) # returns ValueError when item not found\n",
    "        - tuple.index(item,start_index) # search for an item in tuple from the index 'start index'"
   ]
  },
  {
   "cell_type": "code",
   "execution_count": 244,
   "metadata": {},
   "outputs": [
    {
     "data": {
      "text/plain": [
       "5"
      ]
     },
     "execution_count": 244,
     "metadata": {},
     "output_type": "execute_result"
    }
   ],
   "source": [
    "myTuple = (1,2,3,4,1)\n",
    "len(myTuple)"
   ]
  },
  {
   "cell_type": "code",
   "execution_count": 245,
   "metadata": {},
   "outputs": [
    {
     "name": "stdout",
     "output_type": "stream",
     "text": [
      "1\n"
     ]
    }
   ],
   "source": [
    "print(myTuple[0])"
   ]
  },
  {
   "cell_type": "code",
   "execution_count": 246,
   "metadata": {},
   "outputs": [
    {
     "data": {
      "text/plain": [
       "2"
      ]
     },
     "execution_count": 246,
     "metadata": {},
     "output_type": "execute_result"
    }
   ],
   "source": [
    "myTuple.count(1)"
   ]
  },
  {
   "cell_type": "code",
   "execution_count": 247,
   "metadata": {},
   "outputs": [
    {
     "data": {
      "text/plain": [
       "0"
      ]
     },
     "execution_count": 247,
     "metadata": {},
     "output_type": "execute_result"
    }
   ],
   "source": [
    "myTuple.count(5)"
   ]
  },
  {
   "cell_type": "code",
   "execution_count": 248,
   "metadata": {},
   "outputs": [
    {
     "data": {
      "text/plain": [
       "2"
      ]
     },
     "execution_count": 248,
     "metadata": {},
     "output_type": "execute_result"
    }
   ],
   "source": [
    "myTuple.index(3)"
   ]
  },
  {
   "cell_type": "code",
   "execution_count": 249,
   "metadata": {},
   "outputs": [
    {
     "name": "stdout",
     "output_type": "stream",
     "text": [
      "(1, 2, 3, 4, 1)\n",
      "4\n"
     ]
    }
   ],
   "source": [
    "print(myTuple)\n",
    "print(myTuple.index(1,1)) "
   ]
  },
  {
   "cell_type": "code",
   "execution_count": 250,
   "metadata": {},
   "outputs": [
    {
     "name": "stdout",
     "output_type": "stream",
     "text": [
      "1\n",
      "4\n",
      "11\n"
     ]
    }
   ],
   "source": [
    "# min,max,sum,.. are the global functions, which can work on any data structures\n",
    "print(min(myTuple))\n",
    "print(max(myTuple))\n",
    "print(sum(myTuple))"
   ]
  },
  {
   "cell_type": "code",
   "execution_count": 251,
   "metadata": {},
   "outputs": [
    {
     "name": "stdout",
     "output_type": "stream",
     "text": [
      "1 <class 'int'>\n",
      "2 <class 'int'>\n",
      "3 <class 'int'>\n",
      "4 <class 'str'>\n",
      "5 <class 'str'>\n"
     ]
    }
   ],
   "source": [
    "myTuple = (1,2,3,'4','5')\n",
    "for each in myTuple:\n",
    "    print(each,type(each))"
   ]
  },
  {
   "cell_type": "code",
   "execution_count": null,
   "metadata": {},
   "outputs": [],
   "source": []
  },
  {
   "cell_type": "markdown",
   "metadata": {},
   "source": [
    "##### - sum = 0\n",
    "##### - sum(myTuple) --> returns error (int object not callable) because,sum is a default function in python.\n",
    "##### - If we assign some value to the 'sum' ,it no longer work as a default sum function."
   ]
  },
  {
   "cell_type": "code",
   "execution_count": null,
   "metadata": {},
   "outputs": [],
   "source": []
  },
  {
   "cell_type": "code",
   "execution_count": 252,
   "metadata": {},
   "outputs": [
    {
     "name": "stdout",
     "output_type": "stream",
     "text": [
      "26\n"
     ]
    }
   ],
   "source": [
    "# sum of digits\n",
    "rollno = '13A85A0504'\n",
    "t=0\n",
    "for i in rollno:\n",
    "    if i.isdigit():\n",
    "        t=t+int(i)\n",
    "print(t)"
   ]
  },
  {
   "cell_type": "code",
   "execution_count": 253,
   "metadata": {},
   "outputs": [
    {
     "name": "stdout",
     "output_type": "stream",
     "text": [
      "4050A58A31"
     ]
    }
   ],
   "source": [
    "# reverse the string without ::-1\n",
    "# we can do it in different ways\n",
    "\n",
    "# method-1\n",
    "for i in range(-1,-len(rollno)-1,-1):\n",
    "    print(rollno[i],end='') "
   ]
  },
  {
   "cell_type": "code",
   "execution_count": 254,
   "metadata": {},
   "outputs": [
    {
     "name": "stdout",
     "output_type": "stream",
     "text": [
      "4050A58A31\n"
     ]
    }
   ],
   "source": [
    "# method-2\n",
    "rev = ''\n",
    "for i in rollno:\n",
    "    rev = i + rev\n",
    "print(rev) "
   ]
  },
  {
   "cell_type": "code",
   "execution_count": 255,
   "metadata": {},
   "outputs": [
    {
     "data": {
      "text/plain": [
       "'4050A58A31'"
      ]
     },
     "execution_count": 255,
     "metadata": {},
     "output_type": "execute_result"
    }
   ],
   "source": [
    "# method-3 (using Recursion)\n",
    "def reverse(s):\n",
    "    if len(s)==0:\n",
    "        return s\n",
    "    else:\n",
    "        return reverse(s[1:]) + s[0]\n",
    "reverse(rollno)"
   ]
  },
  {
   "cell_type": "code",
   "execution_count": 256,
   "metadata": {},
   "outputs": [
    {
     "name": "stdout",
     "output_type": "stream",
     "text": [
      "4050A58A31"
     ]
    }
   ],
   "source": [
    "# method-4 (using stack)\n",
    "stack = []\n",
    "for i in rollno:\n",
    "    stack.append(i)\n",
    "for i in range(len(rollno)):\n",
    "    print(stack.pop(),end='')"
   ]
  },
  {
   "cell_type": "code",
   "execution_count": 257,
   "metadata": {},
   "outputs": [
    {
     "name": "stdout",
     "output_type": "stream",
     "text": [
      "['4', '0', '5', '0', 'A', '5', '8', 'A', '3', '1']\n"
     ]
    }
   ],
   "source": [
    "# method-5  (using reversed)\n",
    "x=''.join(reversed(rollno))\n",
    "print(list(reversed(rollno)))"
   ]
  },
  {
   "cell_type": "code",
   "execution_count": 258,
   "metadata": {},
   "outputs": [
    {
     "data": {
      "text/plain": [
       "-1"
      ]
     },
     "execution_count": 258,
     "metadata": {},
     "output_type": "execute_result"
    }
   ],
   "source": [
    "# print the names which has duplicate characters\n",
    "s='ramu ravi akash' # akash\n",
    "t='ravi ramu'     # -1\n",
    "s=s.split()\n",
    "t=t.split()\n",
    "def duplicate(s):\n",
    "    for name in s:\n",
    "        for char in set(name):\n",
    "            if name.count(char)>1:\n",
    "                return name\n",
    "    return -1\n",
    "duplicate(t)       \n",
    "        "
   ]
  },
  {
   "cell_type": "code",
   "execution_count": 259,
   "metadata": {},
   "outputs": [
    {
     "name": "stdout",
     "output_type": "stream",
     "text": [
      "i\n",
      "i\n",
      "I\n"
     ]
    }
   ],
   "source": [
    "g='aeiouAEIOU'\n",
    "name='siriI'\n",
    "for i in name:\n",
    "    if i in g:\n",
    "        print(i)"
   ]
  },
  {
   "cell_type": "code",
   "execution_count": 260,
   "metadata": {},
   "outputs": [
    {
     "data": {
      "text/plain": [
       "'13A85A0504'"
      ]
     },
     "execution_count": 260,
     "metadata": {},
     "output_type": "execute_result"
    }
   ],
   "source": [
    "rollno"
   ]
  },
  {
   "cell_type": "code",
   "execution_count": 261,
   "metadata": {},
   "outputs": [
    {
     "name": "stdout",
     "output_type": "stream",
     "text": [
      "['789', '2343', '3']\n"
     ]
    }
   ],
   "source": [
    "l=''\n",
    "name = 'siri789fs2343dfj3*'\n",
    "for i in name:\n",
    "    if i.isdigit():\n",
    "        l=l+i\n",
    "    else:\n",
    "        l=l+' '\n",
    "print(l.split())"
   ]
  },
  {
   "cell_type": "code",
   "execution_count": null,
   "metadata": {},
   "outputs": [],
   "source": []
  }
 ],
 "metadata": {
  "kernelspec": {
   "display_name": "Python 3",
   "language": "python",
   "name": "python3"
  },
  "language_info": {
   "codemirror_mode": {
    "name": "ipython",
    "version": 3
   },
   "file_extension": ".py",
   "mimetype": "text/x-python",
   "name": "python",
   "nbconvert_exporter": "python",
   "pygments_lexer": "ipython3",
   "version": "3.7.3"
  }
 },
 "nbformat": 4,
 "nbformat_minor": 2
}
