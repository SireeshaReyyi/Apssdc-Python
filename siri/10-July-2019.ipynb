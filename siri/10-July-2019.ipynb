{
 "cells": [
  {
   "cell_type": "markdown",
   "metadata": {},
   "source": [
    "### tell()\n",
    "- to know the position of cursor in the file\n",
    "\n",
    "### seek(position)\n",
    "- to locate the cursor at particular position"
   ]
  },
  {
   "cell_type": "code",
   "execution_count": 3,
   "metadata": {},
   "outputs": [
    {
     "name": "stdout",
     "output_type": "stream",
     "text": [
      "i am at 0\n",
      "i am at 86\n",
      "i am at 10\n",
      "hy maths\n",
      "sai  80  70   60\n",
      "ravi 70  60   70\n",
      "sasi 60  60   60\n",
      "laxmi 70 30   20\n"
     ]
    }
   ],
   "source": [
    "fh = open('Files/book.txt')\n",
    "print('i am at',fh.tell())\n",
    "data = fh.read()\n",
    "print('i am at',fh.tell())\n",
    "fh.seek(10)\n",
    "print('i am at',fh.tell())\n",
    "data = fh.read()\n",
    "print(data)\n",
    "fh.close()"
   ]
  },
  {
   "cell_type": "markdown",
   "metadata": {},
   "source": [
    "### file.readline()\n",
    "- reads a line\n",
    "- return type --> string\n",
    "\n",
    "### file.readlines()\n",
    "- read all line from current line\n",
    "- return type --> list"
   ]
  },
  {
   "cell_type": "code",
   "execution_count": 8,
   "metadata": {},
   "outputs": [
    {
     "name": "stdout",
     "output_type": "stream",
     "text": [
      "['ravi 70  60   70\\n', 'sasi 60  60   60\\n', 'laxmi 70 30   20']\n"
     ]
    }
   ],
   "source": [
    "fh = open('Files/book.txt')\n",
    "data = fh.readline() # reads first line\n",
    "data = fh.readline() # reads second line\n",
    "data = fh.readlines()\n",
    "print(data)\n",
    "fh.close()"
   ]
  },
  {
   "cell_type": "code",
   "execution_count": 12,
   "metadata": {},
   "outputs": [
    {
     "data": {
      "text/plain": [
       "{'siri': 1, 'sir': 3}"
      ]
     },
     "execution_count": 12,
     "metadata": {},
     "output_type": "execute_result"
    }
   ],
   "source": [
    "d={'siri':1,'sir':3}\n",
    "d"
   ]
  },
  {
   "cell_type": "code",
   "execution_count": 14,
   "metadata": {},
   "outputs": [
    {
     "data": {
      "text/plain": [
       "{'siri': 1, 'sir': 3}"
      ]
     },
     "execution_count": 14,
     "metadata": {},
     "output_type": "execute_result"
    }
   ],
   "source": [
    "d"
   ]
  },
  {
   "cell_type": "code",
   "execution_count": null,
   "metadata": {},
   "outputs": [],
   "source": []
  }
 ],
 "metadata": {
  "kernelspec": {
   "display_name": "Python 3",
   "language": "python",
   "name": "python3"
  },
  "language_info": {
   "codemirror_mode": {
    "name": "ipython",
    "version": 3
   },
   "file_extension": ".py",
   "mimetype": "text/x-python",
   "name": "python",
   "nbconvert_exporter": "python",
   "pygments_lexer": "ipython3",
   "version": "3.7.3"
  }
 },
 "nbformat": 4,
 "nbformat_minor": 2
}
