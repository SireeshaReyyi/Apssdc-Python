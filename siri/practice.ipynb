{
 "cells": [
  {
   "cell_type": "code",
   "execution_count": 6,
   "metadata": {},
   "outputs": [
    {
     "name": "stdout",
     "output_type": "stream",
     "text": [
      "siri\n",
      "siri \n",
      "siri \n",
      "siri\n"
     ]
    }
   ],
   "source": [
    "s='''siri\n",
    "siri \n",
    "siri \n",
    "siri'''\n",
    "print(s)"
   ]
  },
  {
   "cell_type": "code",
   "execution_count": 10,
   "metadata": {},
   "outputs": [
    {
     "data": {
      "text/plain": [
       "'^'"
      ]
     },
     "execution_count": 10,
     "metadata": {},
     "output_type": "execute_result"
    }
   ],
   "source": [
    "chr(ord('Z')+4)"
   ]
  },
  {
   "cell_type": "code",
   "execution_count": 1,
   "metadata": {},
   "outputs": [
    {
     "name": "stdout",
     "output_type": "stream",
     "text": [
      "1\n",
      "134567890223\n",
      "{'4', '6', '5', '7', '8', '3', '9', '0', '1', '2'}\n",
      "yes\n"
     ]
    }
   ],
   "source": [
    "t=int(input())\n",
    "l=list(i for i in range(0,10))\n",
    "for i in range(t):\n",
    "    s=set(input())\n",
    "    print(s)\n",
    "    c=0\n",
    "    for i in s:\n",
    "        if int(i) in l:\n",
    "            c=c+1\n",
    "    if c==10:\n",
    "        print('yes')\n",
    "    else:\n",
    "        print('no')"
   ]
  },
  {
   "cell_type": "code",
   "execution_count": null,
   "metadata": {},
   "outputs": [],
   "source": []
  },
  {
   "cell_type": "code",
   "execution_count": null,
   "metadata": {},
   "outputs": [],
   "source": []
  }
 ],
 "metadata": {
  "kernelspec": {
   "display_name": "Python 3",
   "language": "python",
   "name": "python3"
  }
 },
 "nbformat": 4,
 "nbformat_minor": 2
}
