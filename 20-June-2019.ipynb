{
 "cells": [
  {
   "cell_type": "markdown",
   "metadata": {},
   "source": [
    "### Regular Expressions\n",
    "\n",
    "- Pattern Matching\n",
    "- Symbolic Notation of a pattern\n",
    "    - Pattern : Format which repeats\n",
    "    - Pettern : Regular Expressions\n",
    "    - Pattern(RE) Represents the set of all values that matches a pettern\n",
    "- [0-9] -> Any digit\n",
    "- [a-z] -> Any lower case Alphabet\n",
    "- [2468] -> All single digit multiples of 2\n",
    "\n",
    "- ^[0-9]{1} $ -> Only single digit numbers \n",
    "\n",
    "- ^[0-9]{3} $ -> Only three digit numbers\n",
    "\n",
    "- ^[0-9]* 0 $ -> All multiples of 10 including 0\n",
    "\n",
    "- ^[1-9][0-9]* 0 $ -> All multiples of 10 excluding 0\n",
    "\n",
    "- ^[1-9][0-9]* [05] $ -> All mutiples of 5 other than 5\n",
    "\n",
    "- ^([1-9][0-9]* [05]) $ |  ^ [5] $ All mutiples of 5 except the number which have preceding zeros\n",
    "\n",
    "- ^[1-9][0-9]{9}-> All 10 digit numbers\n",
    "\n",
    "- (word) or [w][o][r][d] -> searching for a specific word \"word\"\n",
    "\n",
    "- ^[6-9]{1}[0-9]{9}$|^[0][6-9][0-9]{9}$|^[+][9][1][6-9][0-9]{9} $ -> Validation indian Phone numbers\n",
    "\n",
    "\n",
    "\n",
    "- -> Validation of email( username@domain.extension ) -> ^[0-9a-z][0-9a-z_.]{4,13}[0-9a-z][@][0-9a-z]{3,15}[.][a-z]{2,4}$\n",
    "\n",
    "\n",
    "->( n130388@rguktn.ac.in)  ^[0-9a-z][0-9a-z_.]{4,13}[0-9a-z][@][0-9a-z]{3,15}[.][a-z]{2,4}$|^[0-9a-z][0-9a-z_.]{4,13}[0-9a-z][@][0-9a-z]{3,15}[.][a-z]{2,4}[.][a-z]{2,4}$\n",
    "\n",
    "\n",
    "    - username\n",
    "        - Length of user name : [6,15]\n",
    "        - No special characters other than _ and .\n",
    "        - Should not begin and end with _ and .\n",
    "        - Character Set : all digits and lower case alphabets\n",
    "        - ^[0-9a-z][0-9a-z_.]{4,13}[0-9a-z] $\n",
    "          \n",
    "    - domain\n",
    "        - Length of domain : [3,15]\n",
    "        - No special characters\n",
    "        - Character Set : all lower case alphabets and digits\n",
    "        - ^[0-9a-z]{3,15} $\n",
    "        \n",
    "    - extension\n",
    "        - Length of extension : [2,4]\n",
    "        - No special Characters and digits\n",
    "        - Character Set : all lower case alphabets\n",
    "        - ^[a-z]{2,4} $\n",
    "        \n",
    "- .(dot) -> to access any character(alphanumericals,symbols)\n",
    "    - ^[a].*[z]$ -> Any string of any length that starts with 'a' and 'z'"
   ]
  },
  {
   "cell_type": "code",
   "execution_count": 58,
   "metadata": {},
   "outputs": [
    {
     "name": "stdout",
     "output_type": "stream",
     "text": [
      "9703451892\n",
      "sireeshare@gmail.com\n"
     ]
    },
    {
     "data": {
      "text/plain": [
       "True"
      ]
     },
     "execution_count": 58,
     "metadata": {},
     "output_type": "execute_result"
    }
   ],
   "source": [
    "# Function to validate a phone number\n",
    "import re\n",
    "\n",
    "def phoneNumberValidator(number):\n",
    "    pettern = '^[6-9][0-9]{9}$|^[0][6-9][0-9]{9}$|^[+][9][1][6-9][0-9]{9}'\n",
    "    if re.match(pettern,str(number)):\n",
    "        return True\n",
    "    return False\n",
    "def emailValidator(mail):\n",
    "    pattern = '^[0-9a-z][0-9a-z_.]{4,13}[0-9a-z][@][0-9a-z]{3,15}[.][a-z]{2,4}'\n",
    "    if re.match(pattern,mail):\n",
    "        return True\n",
    "    return False\n",
    "number=int(input())\n",
    "mail=input()\n",
    "phoneNumberValidator(number)\n",
    "emailValidator(mail)"
   ]
  },
  {
   "cell_type": "code",
   "execution_count": 169,
   "metadata": {},
   "outputs": [
    {
     "name": "stdout",
     "output_type": "stream",
     "text": [
      "name3 Already Exist\n",
      "Invalid Phone Number\n",
      "Invalid email\n"
     ]
    }
   ],
   "source": [
    "\n",
    "def addContact(name,phone,email):\n",
    "    # verify that the contact doesnot already exist\n",
    "    if name in contacts and phoneNumberValidator(phone):\n",
    "        print(name,\"Already Exist\")\n",
    "    else:\n",
    "        if not phoneNumberValidator(phone):\n",
    "            print(\"Invalid Phone Number\")\n",
    "        if not emailValidator(email):\n",
    "            print(\"Invalid email\")\n",
    "        newcontact=[]\n",
    "        newcontact.append(phone)\n",
    "        newcontact.append(email)\n",
    "        contacts[name]=newcontact\n",
    "\n",
    "\n",
    "addContact(\"name3\",9876543210,\"sireeshareyyi@gmail.com\")\n",
    "addContact(\"name4\",3481784585,\"sirieahd.@gmail.com\")"
   ]
  },
  {
   "cell_type": "code",
   "execution_count": 170,
   "metadata": {},
   "outputs": [
    {
     "name": "stdout",
     "output_type": "stream",
     "text": [
      "name2\n",
      "Phone : 9374817325\n",
      "Email : n130388@rgukt.in\n",
      "name3\n",
      "Phone : 9876543210\n",
      "Email : sireeshareyyi@gmail.com\n"
     ]
    }
   ],
   "source": [
    "\n",
    "def searchContacts(name):\n",
    "    if name in contacts:\n",
    "        print(name)\n",
    "        print(\"Phone :\",contacts[name][0])\n",
    "        print(\"Email :\",contacts[name][1])\n",
    "    else:\n",
    "        print(\"%s does not exist\" %name)\n",
    "    return\n",
    "searchContacts(\"name2\")\n",
    "searchContacts(\"name3\")"
   ]
  },
  {
   "cell_type": "code",
   "execution_count": 171,
   "metadata": {},
   "outputs": [
    {
     "name": "stdout",
     "output_type": "stream",
     "text": [
      "{'name1': '937481732', 'name2': ['9374817325', 'n130388@rgukt.in'], 'name3': [9876543210, 'sireeshareyyi@gmail.com'], 'name4': [3481784585, 'sirieahd.@gmail.com']}\n",
      "name1 \n",
      " Phone : 9 \n",
      " Email : 3\n",
      "name2 \n",
      " Phone : 9374817325 \n",
      " Email : n130388@rgukt.in\n",
      "name3 \n",
      " Phone : 9876543210 \n",
      " Email : sireeshareyyi@gmail.com\n",
      "name4 \n",
      " Phone : 3481784585 \n",
      " Email : sirieahd.@gmail.com\n"
     ]
    }
   ],
   "source": [
    "print(contacts)\n",
    "def listAllContacts(contacts):\n",
    "    for contact,info in contacts.items():\n",
    "        print(contact,\"\\n\",\"Phone :\",info[0],\"\\n\",\"Email :\",info[1])\n",
    "    return \n",
    "listAllContacts(contacts)               \n"
   ]
  },
  {
   "cell_type": "code",
   "execution_count": 168,
   "metadata": {},
   "outputs": [
    {
     "name": "stdout",
     "output_type": "stream",
     "text": [
      "name2 is modified to ['9374817325', 'n130388@rgukt.in']\n"
     ]
    }
   ],
   "source": [
    "def modifyContact(name):\n",
    "    if name in contacts:\n",
    "        contacts[name][0]='9374817325'\n",
    "        contacts[name][1]='n130388@rgukt.in'\n",
    "        print(name,\"is modified to\",contacts[name])\n",
    "    else:\n",
    "        print(name,\"is not in contact list\")\n",
    "    return\n",
    "modifyContact(\"name2\")\n",
    "\n"
   ]
  },
  {
   "cell_type": "markdown",
   "metadata": {},
   "source": [
    "### File Handling in Python\n",
    "\n",
    "File - Document containing information residing on the permanant storage\n",
    "Types - Text, PDF, CSV etc\n",
    "\n",
    "File I/O - Channelling I/O data to files\n",
    "\n",
    "Default I/O Channels - Keyboard/Screen\n",
    "\n",
    "Change I/O channel to files for Reading and Writing into Files\n",
    "\n",
    "Read to a file - Input from a file \n",
    "\n",
    "Write to a file - Output from a file\n",
    "\n",
    "Read / Write file - open(filename ,mode)\n"
   ]
  },
  {
   "cell_type": "code",
   "execution_count": 133,
   "metadata": {},
   "outputs": [
    {
     "name": "stdout",
     "output_type": "stream",
     "text": [
      "new data\n",
      "appended data\n",
      "appended data"
     ]
    }
   ],
   "source": [
    "# Function to read a file\n",
    "\n",
    "def readFile(filename):\n",
    "    f = open(filename,'r')\n",
    "    filedata=f.read()\n",
    "    f.close()\n",
    "    return filedata\n",
    "filename = 'DataFiles//data.txt'\n",
    "filedata = readFile(filename)\n",
    "# printing file data in different ways:\n",
    "\n",
    "# for line in filedata.split('\\n'):\n",
    "#     print(line)\n",
    "\n",
    "# print(readFile(filename))\n",
    "\n",
    "def printFileDataLines(filename):\n",
    "    with open(filename,'r') as f:   ## \"with\" keyword is used instead of closing file\n",
    "        for line in f:\n",
    "            print(line,end='')\n",
    "        return\n",
    "printFileDataLines(filename)\n",
    "    "
   ]
  },
  {
   "cell_type": "code",
   "execution_count": 134,
   "metadata": {},
   "outputs": [],
   "source": [
    "# Function to Write data into a file\n",
    "\n",
    "def writeIntoFile(filename,filedata):\n",
    "    with open(filename,'w') as f:\n",
    "        f.write(filedata)\n",
    "    return\n",
    "filename = 'DataFiles/data.txt'\n",
    "writeIntoFile(filename,\"new data\")"
   ]
  },
  {
   "cell_type": "code",
   "execution_count": 146,
   "metadata": {},
   "outputs": [],
   "source": [
    "# Function to append data\n",
    "\n",
    "def appendDataIntoFile(filename,filedata):\n",
    "    with open(filename,'a') as f:\n",
    "        f.write(filedata)\n",
    "    return\n",
    "appendDataIntoFile(filename,'\\nappended data')"
   ]
  },
  {
   "cell_type": "code",
   "execution_count": 147,
   "metadata": {},
   "outputs": [],
   "source": [
    "# Function to append data in the list\n",
    "\n",
    "def appendDataIntoFile(filename,filedata):\n",
    "    with open(filename,'w') as f:\n",
    "        for line in filedata:\n",
    "            f.writelines('\\n'+line)\n",
    "    return\n",
    "filedata=[\"name1\",\"name2\"]\n",
    "filename='DataFiles/data.txt'\n",
    "appendDataIntoFile(filename,filedata)"
   ]
  },
  {
   "cell_type": "code",
   "execution_count": null,
   "metadata": {},
   "outputs": [],
   "source": []
  },
  {
   "cell_type": "code",
   "execution_count": 87,
   "metadata": {},
   "outputs": [
    {
     "name": "stdout",
     "output_type": "stream",
     "text": [
      "name5 is removed\n"
     ]
    }
   ],
   "source": []
  }
 ],
 "metadata": {
  "kernelspec": {
   "display_name": "Python 3",
   "language": "python",
   "name": "python3"
  },
  "language_info": {
   "codemirror_mode": {
    "name": "ipython",
    "version": 3
   },
   "file_extension": ".py",
   "mimetype": "text/x-python",
   "name": "python",
   "nbconvert_exporter": "python",
   "pygments_lexer": "ipython3",
   "version": "3.7.3"
  }
 },
 "nbformat": 4,
 "nbformat_minor": 2
}
