{
 "cells": [
  {
   "cell_type": "code",
   "execution_count": 1,
   "metadata": {},
   "outputs": [
    {
     "name": "stdout",
     "output_type": "stream",
     "text": [
      "[1, 2, 3]\n"
     ]
    }
   ],
   "source": [
    "# Function to get unique elements in a list\n",
    "\n",
    "#[1,2,3,3,2,1] -> [1,2,3]\n",
    "# create a empty unique list []\n",
    "#for every element in the main list, check if it exists in the unique list\n",
    "# if it does not exist, add it to unique list\n",
    "# else, move on to the next element in the main list\n",
    "\n",
    "def uniqueData(li):\n",
    "    x=[]\n",
    "    for i in li:\n",
    "        if i not in x:\n",
    "            x.append(i)\n",
    "    return x\n",
    "\n",
    "li=[1,2,3,3,2,1]\n",
    "print(uniqueData(li))\n"
   ]
  },
  {
   "cell_type": "code",
   "execution_count": 2,
   "metadata": {},
   "outputs": [
    {
     "name": "stdout",
     "output_type": "stream",
     "text": [
      "['ab', 'bb', 'bc', 'de', 'afg', 'line', 'in', '1', '2', '3', '4']\n",
      "11\n"
     ]
    }
   ],
   "source": [
    "# Function to get unique words in a file\n",
    "def readFile(filePath):\n",
    "    with open(filePath,'r') as f:\n",
    "        filedata = f.read()\n",
    "    return filedata\n",
    "\n",
    "def uniqueWordCount(filePath):\n",
    "    filedata = readFile(filePath).split()\n",
    "    x=[]\n",
    "    for i in filedata:\n",
    "        if i not in x:\n",
    "            x.append(i)\n",
    "    return x\n",
    "filePath = 'DataFiles/data.txt'\n",
    "print(uniqueWordCount(filePath))\n",
    "print(len(uniqueWordCount(filePath)))\n",
    "        "
   ]
  },
  {
   "cell_type": "code",
   "execution_count": 18,
   "metadata": {},
   "outputs": [
    {
     "name": "stdout",
     "output_type": "stream",
     "text": [
      "main file data : ['ab', 'bb', 'bb', 'bc', 'de', 'afg', 'line', 'in', '1', 'line', 'in', '2', 'line', 'in', '3', 'line', 'in', '4']\n",
      "unique file data : ['ab', 'bb', 'bc', 'de', 'afg', 'line', 'in', '1', '2', '3', '4']\n",
      "ab : 1\n",
      "bb : 2\n",
      "bc : 1\n",
      "de : 1\n",
      "afg : 1\n",
      "line : 4\n",
      "in : 4\n",
      "1 : 1\n",
      "2 : 1\n",
      "3 : 1\n",
      "4 : 1\n"
     ]
    }
   ],
   "source": [
    "# Function to print the frequency count of all the elements in a text file\n",
    "\n",
    "def frequenyCount(filePath):\n",
    "    filedata = readFile(filePath).split()\n",
    "    print('main file data',':',filedata)\n",
    "    x=[]\n",
    "    y=[]\n",
    "    for i in filedata:\n",
    "        if i not in x:\n",
    "            x.append(i)\n",
    "    print('unique file data',':',x)\n",
    "    for i in x:\n",
    "        c=y.append(filedata.count(i))\n",
    "        print(i,':',filedata.count(i))\n",
    "    return\n",
    "frequenyCount(filePath)\n",
    "        \n",
    "        "
   ]
  },
  {
   "cell_type": "code",
   "execution_count": null,
   "metadata": {},
   "outputs": [],
   "source": [
    "# contacts application\n",
    "\n",
    "# find and replace application"
   ]
  }
 ],
 "metadata": {
  "kernelspec": {
   "display_name": "Python 3",
   "language": "python",
   "name": "python3"
  }
 },
 "nbformat": 4,
 "nbformat_minor": 2
}
