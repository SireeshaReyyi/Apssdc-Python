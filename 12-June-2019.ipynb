{
 "cells": [
  {
   "cell_type": "markdown",
   "metadata": {},
   "source": [
    "# Problem Solving in Python\n",
    "\n",
    "## 12 June 2019\n",
    "\n",
    "### Day Objectives\n",
    "- String Slicing\n",
    "- Functions\n",
    "- Functions in Python\n",
    "- Basic problems related to conditional statement using functions\n",
    "- Iteration in Python\n"
   ]
  },
  {
   "cell_type": "markdown",
   "metadata": {},
   "source": [
    "### String Slicing"
   ]
  },
  {
   "cell_type": "code",
   "execution_count": null,
   "metadata": {},
   "outputs": [],
   "source": [
    "s1=\"PythonProgram\"\n",
    "s1[0] ##returns the first character\n",
    "s1[-1] # returns the last character\n",
    "s1[0:len(s1)] # retunrs whole string\n",
    "s1[0:] # retunrs whole string\n",
    "s1[:2] # returns first two character\n",
    "s1[:-2] # leaves last two characters\n",
    "s1[-2:] # returns last two characters\n",
    "s1[-1::-1]  ##reverse string\n",
    "s1[-1:-3:-1] ## reverse last two characters\n",
    "s1[len(s1)//2:len(s1)//2-2:-1] ## reverse the middle characters\n",
    "s1[::2] # accessing alternate characters\n",
    "s1[::-2] # accessing alternate characters in reverse\n"
   ]
  },
  {
   "cell_type": "markdown",
   "metadata": {},
   "source": [
    "### Functions"
   ]
  },
  {
   "cell_type": "code",
   "execution_count": null,
   "metadata": {},
   "outputs": [],
   "source": [
    "# function to reverse a string\n",
    "def reverseString(s):\n",
    "    return s[-1::-1] # [::-1] also gives the reverse string\n",
    "s=input(\"Enter a String\")\n",
    "reverseString(s)"
   ]
  },
  {
   "cell_type": "code",
   "execution_count": null,
   "metadata": {},
   "outputs": [],
   "source": [
    "# function to check if a string is a palindrome\n",
    "\n",
    "def palindrome(s):\n",
    "    if s==s[::-1]:\n",
    "        return True\n",
    "    else:\n",
    "        return False\n",
    "s=input(\"Enter a String\")\n",
    "palindrome(s)  # \"racecar\" is a palindrome\n"
   ]
  },
  {
   "cell_type": "code",
   "execution_count": null,
   "metadata": {},
   "outputs": [],
   "source": [
    "# function to check if a given year is a leap year\n",
    "def isLeapyear(year):\n",
    "    if year%400==0 or (year%100!=0 and year%4==0):\n",
    "        return True\n",
    "    return False\n",
    "year=int(input(\"Enter a year\"))\n",
    "isLeapyear(year)\n",
    "    "
   ]
  },
  {
   "cell_type": "code",
   "execution_count": null,
   "metadata": {},
   "outputs": [],
   "source": [
    "# function to count the number of  digits in a given number\n",
    "def digitcount(num):\n",
    "    return len(num)\n",
    "num=input(\"Enter a number\")\n",
    "digitcount(num)"
   ]
  },
  {
   "cell_type": "code",
   "execution_count": null,
   "metadata": {},
   "outputs": [],
   "source": [
    "# function to identify the greatest of 4 numbers\n",
    "def greatest(n1,n2,n3,n4):\n",
    "    if n1>n2 and n1>n3 and n1>n4:\n",
    "        return n1\n",
    "    elif n2>n3 and n2>n4:\n",
    "        return n2\n",
    "    elif n3>n4:\n",
    "        return n3\n",
    "    else:\n",
    "        return n4\n",
    "n1=int(input(\"enter first number\"))\n",
    "n2=int(input(\"enter second number\"))\n",
    "n3=int(input(\"enter third number\"))\n",
    "n4=int(input(\"enter last number\"))\n",
    "greatest(n1,n2,n3,n4)"
   ]
  },
  {
   "cell_type": "markdown",
   "metadata": {},
   "source": [
    "### Iteration\n",
    " - for\n",
    " - while\n"
   ]
  },
  {
   "cell_type": "code",
   "execution_count": null,
   "metadata": {},
   "outputs": [],
   "source": [
    "# function to print n natural numbers\n",
    "def n_numbers(n):\n",
    "    for counter in range(1,n+1):\n",
    "        print(counter,end=\" \")\n",
    "    print()\n",
    "    return \n",
    "n=int(input(\"enter a range\"))\n",
    "n_numbers(n) # in python we have to print the function--print(n_numbers(n))\n",
    "n_numbers(n+10)"
   ]
  },
  {
   "cell_type": "code",
   "execution_count": null,
   "metadata": {},
   "outputs": [],
   "source": [
    "# function to print n natural numbers using while loop\n",
    "def n_numbers(n):\n",
    "    i=1\n",
    "    while i<=n:\n",
    "        print(i,end=\" \")\n",
    "        i=i+1\n",
    "    return\n",
    "n=int(input(\"enter a range\"))\n",
    "n_numbers(n)"
   ]
  },
  {
   "cell_type": "code",
   "execution_count": null,
   "metadata": {},
   "outputs": [],
   "source": [
    "# function to print all numbers divisible by 6 and not a factor of  100 in a given range(lb,ub) (inclusive)\n",
    "def div6_fact100(lb,ub):\n",
    "    for i in range(lb,ub+1):\n",
    "            if i%6==0 and 100%i!=0:\n",
    "                print(i,end=\" \")\n",
    "lb=int(input(\"enter lower bound\"))\n",
    "ub=int(input(\"enter upper bound\"))\n",
    "div6_fact100(lb,ub)"
   ]
  },
  {
   "cell_type": "code",
   "execution_count": null,
   "metadata": {},
   "outputs": [],
   "source": [
    "# function to find average of cubes of all even numbers in a given range(lb,ub) inclusive\n",
    "def cubesAvg(lb,ub):\n",
    "    tot=0\n",
    "    count=0\n",
    "    for i in range(lb,ub+1):\n",
    "        if i%2==0:\n",
    "            tot=tot+(i**3);\n",
    "            count=count+1;\n",
    "    print(tot/count)\n",
    "lb=int(input(\"enter lower bound\"))\n",
    "ub=int(input(\"enter upper bound\"))\n",
    "cubesAvg(lb,ub)\n",
    "            "
   ]
  },
  {
   "cell_type": "code",
   "execution_count": null,
   "metadata": {},
   "outputs": [],
   "source": [
    "# function to generate the list of factors for a given number\n",
    "def factorOf_N(num):\n",
    "    for i in range(1,num+1):\n",
    "        if num%i==0:\n",
    "            print(i,end=\" \")\n",
    "num=int(input(\"enter a number\"))\n",
    "factorOf_N(num)"
   ]
  },
  {
   "cell_type": "code",
   "execution_count": null,
   "metadata": {},
   "outputs": [],
   "source": [
    "# function to print factorial of a given number\n",
    "def factorial(n):\n",
    "    sum=1\n",
    "    for i in range(1,n+1):\n",
    "        sum=sum*i\n",
    "    print(sum)\n",
    "n=int(input(\"enter a number\"))\n",
    "factorial(n)"
   ]
  },
  {
   "cell_type": "code",
   "execution_count": null,
   "metadata": {},
   "outputs": [],
   "source": [
    "# function to check if a given number is prime or not\n",
    "def prime(n):\n",
    "    sum=0\n",
    "    for i in range(2,n):\n",
    "        if n%i==0:\n",
    "            sum=sum+1;\n",
    "    if sum==0:\n",
    "        return True\n",
    "    else:\n",
    "        return False\n",
    "n=int(input(\"enter a number\"))\n",
    "prime(n)"
   ]
  },
  {
   "cell_type": "code",
   "execution_count": 5,
   "metadata": {},
   "outputs": [
    {
     "name": "stdout",
     "output_type": "stream",
     "text": [
      "enter a range10\n",
      "2\n",
      "3\n",
      "5\n",
      "7\n"
     ]
    },
    {
     "data": {
      "text/plain": [
       "4.25"
      ]
     },
     "execution_count": 5,
     "metadata": {},
     "output_type": "execute_result"
    }
   ],
   "source": [
    "# function to calcute the average of prime numbers in a given range\n",
    "def avgPrime(ran):\n",
    "    tot=0\n",
    "    count=0\n",
    "    for i in range(2,ran):\n",
    "        sum=0\n",
    "        for j in range(2,i):\n",
    "            if i%j==0:\n",
    "                sum=sum+1\n",
    "        if sum==0:\n",
    "            tot=tot+i\n",
    "            print(i)\n",
    "            count=count+1\n",
    "    return tot/count\n",
    "ran=int(input(\"enter a range\"))\n",
    "avgPrime(ran)"
   ]
  },
  {
   "cell_type": "code",
   "execution_count": 6,
   "metadata": {},
   "outputs": [
    {
     "name": "stdout",
     "output_type": "stream",
     "text": [
      "enter lower bound1\n",
      "enter upper bound1000\n",
      "6 28 496 "
     ]
    }
   ],
   "source": [
    "# function to print perfect numbers in a given range\n",
    "def perfectNumber(lb,ub):\n",
    "    for i in range(lb,ub):\n",
    "        sum=0\n",
    "        for j in range(1,i):\n",
    "            if i%j==0:\n",
    "                sum=sum+j\n",
    "        if sum==i:\n",
    "            print(i,end=\" \")\n",
    "lb=int(input(\"enter lower bound\"))\n",
    "ub=int(input(\"enter upper bound\"))\n",
    "perfectNumber(lb,ub)\n",
    "        "
   ]
  }
 ],
 "metadata": {
  "kernelspec": {
   "display_name": "Python 3",
   "language": "python",
   "name": "python3"
  },
  "language_info": {
   "codemirror_mode": {
    "name": "ipython",
    "version": 3
   },
   "file_extension": ".py",
   "mimetype": "text/x-python",
   "name": "python",
   "nbconvert_exporter": "python",
   "pygments_lexer": "ipython3",
   "version": "3.7.3"
  }
 },
 "nbformat": 4,
 "nbformat_minor": 2
}
