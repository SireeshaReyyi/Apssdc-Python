{
 "cells": [
  {
   "cell_type": "markdown",
   "metadata": {},
   "source": [
    "## Special Number\n",
    "A special numbr is a number which has at least p prime factors.write a program to determine a number N is a special number or not. <br>\n",
    "**Input Format** <br>\n",
    "First line: P     <br>\n",
    "Second line: T (Number of test cases)  <br>\n",
    "Next T lines: N  \n",
    "\n",
    "**Output Format**  <br>\n",
    "For each test case, print YES or NO depending on the results\n"
   ]
  },
  {
   "cell_type": "code",
   "execution_count": 13,
   "metadata": {},
   "outputs": [
    {
     "name": "stdout",
     "output_type": "stream",
     "text": [
      "2\n",
      "3\n",
      "6\n",
      "YES\n",
      "1\n",
      "NO\n",
      "10\n",
      "YES\n"
     ]
    }
   ],
   "source": [
    "# Function to determine if a number is special or not\n",
    "def isspecialNumber(n,p):\n",
    "    if PrimeFactors(n)>=p:\n",
    "        return True\n",
    "    return False\n",
    "# Function to check if a number is prime or not\n",
    "def isPrime(n):\n",
    "    flag=1\n",
    "    if n==2:\n",
    "        return True\n",
    "    else:\n",
    "        for i in range(2,n//2+1):\n",
    "            if n%i==0:\n",
    "                flag=0\n",
    "                return False\n",
    "        if flag==1:\n",
    "            return True\n",
    "# Function to determine number of Prime factors\n",
    "def PrimeFactors(n):\n",
    "    if isPrime(n):\n",
    "        return 1\n",
    "    c=0\n",
    "    for i in range(2,n//2+1):\n",
    "        if isPrime(i) and n%i==0:\n",
    "            c=c+1\n",
    "    return c\n",
    "        \n",
    "    \n",
    "# Reading Inputs\n",
    "p=int(input())\n",
    "t=int(input())\n",
    "for i in range(0,t):\n",
    "    n=int(input())\n",
    "    if isspecialNumber(n,p):\n",
    "        print(\"YES\")\n",
    "    else:\n",
    "        print(\"NO\")"
   ]
  },
  {
   "cell_type": "markdown",
   "metadata": {},
   "source": [
    "## Highest Reminder\n",
    "Write a program to find a natural number that is smaller than N highest remainder when divided by that number.\n",
    "If there is more than one such number, print the smallest one."
   ]
  },
  {
   "cell_type": "code",
   "execution_count": 19,
   "metadata": {},
   "outputs": [
    {
     "name": "stdout",
     "output_type": "stream",
     "text": [
      "5\n"
     ]
    }
   ],
   "source": [
    "def highestRemainder(n):\n",
    "    hr=0\n",
    "    v=n\n",
    "    for i in range(n-1,n//2,-1):\n",
    "        r=n%i\n",
    "        if r>hr:\n",
    "            hr=r\n",
    "            v=i\n",
    "    print(v)\n",
    "highestRemainder(9)    "
   ]
  },
  {
   "cell_type": "markdown",
   "metadata": {},
   "source": [
    "### Tuples\n",
    "t1 = ( )    # Tuple   <br>\n",
    "li = [ ]    # List    <br>\n",
    "#### Difference between Lists and Tuples\n",
    "Lists are mutable - can be changes / modified \n",
    "- used to Access, Modify, Add add Delete Data  <br>\n",
    "\n",
    "Tuples are immutable - cannot be changed once initialised  <br>\n",
    "- used to access data only\n",
    "- All slicing work"
   ]
  },
  {
   "cell_type": "code",
   "execution_count": 38,
   "metadata": {},
   "outputs": [
    {
     "data": {
      "text/plain": [
       "(8, 6, 0)"
      ]
     },
     "execution_count": 38,
     "metadata": {},
     "output_type": "execute_result"
    }
   ],
   "source": [
    "t1=(1,2,8,6,0)\n",
    "\n",
    "t1[3]  # Accesing the fourth Element\n",
    "\n",
    "t1[0:] # Accesing all elements\n",
    "\n",
    "t1[len(t1)//2:]  ## Accesing the elements from middle to last\n",
    "\n",
    "t1[:]  ## Accesing all the elements\n",
    "\n",
    "t1[-1::-1]  ## Accesing from last to first\n",
    "\n",
    "t1[-2::]  # Accesing last two elements\n",
    "\n",
    "t1[-3::1]  # Accesing last two elements"
   ]
  },
  {
   "cell_type": "markdown",
   "metadata": {},
   "source": [
    "### Dictionaries\n",
    "- It works on the concept of Set\n",
    "- Unique Data\n",
    "- Keys, Values\n",
    "    - Key : unique identifier for a value\n",
    "    - Value : data that can be accessed with a key\n",
    "- We can modify the data in the ditionary\n"
   ]
  },
  {
   "cell_type": "code",
   "execution_count": 60,
   "metadata": {},
   "outputs": [
    {
     "data": {
      "text/plain": [
       "dict_values(['value1', 'value2'])"
      ]
     },
     "execution_count": 60,
     "metadata": {},
     "output_type": "execute_result"
    }
   ],
   "source": [
    "d1 = {\"k1\":\"value1\",\"k2\":\"value2\"}  # Dictionary representation\n",
    "\n",
    "d1[\"k1\"]  # Accesing values ( by using key only, we are able to access the value )\n",
    "\n",
    "d1.keys()  # Returns List of all keys in the dictionary\n",
    "\n",
    "d1.values() # Returns List of all values in the dictionary\n",
    "\n",
    "d1.items()  # Returns List of tuples of key and values in the dictionary\n",
    "\n",
    "d1[\"k3\"]=\"value3\"  # Adding an element to dictionary\n",
    "\n",
    "d1[\"k3\"]=\"V3\"  # Updating a value\n",
    "\n",
    "d1.pop(\"k3\")  # Removing an Element\n",
    "\n"
   ]
  },
  {
   "cell_type": "markdown",
   "metadata": {},
   "source": [
    "### Dictionary Example\n",
    "#### Contacts Application\n",
    "- Add Contact\n",
    "- Search for contact\n",
    "- List all contacts\n",
    "    - name1 : phone1\n",
    "    - name2 : phone2\n",
    "- Modify contact\n",
    "- Remove Contact\n",
    "\n"
   ]
  },
  {
   "cell_type": "code",
   "execution_count": 86,
   "metadata": {},
   "outputs": [
    {
     "name": "stdout",
     "output_type": "stream",
     "text": [
      "Contact name1 is Added\n",
      "Contact name2 is Added\n"
     ]
    }
   ],
   "source": [
    "contacts = {}\n",
    "def addContact(name,phone):\n",
    "    # verify that the contact doesnt already exist\n",
    "    if name not in contacts:\n",
    "        contacts[name]=phone\n",
    "        print(\"Contact %s is Added\" % name)\n",
    "    else:\n",
    "        print(\"Contact %s Already exist\" % name)\n",
    "    return\n",
    "addContact(\"name1\",\"9876543210\")\n",
    "addContact(\"name2\",\"3481784585\")\n"
   ]
  },
  {
   "cell_type": "code",
   "execution_count": 78,
   "metadata": {},
   "outputs": [
    {
     "name": "stdout",
     "output_type": "stream",
     "text": [
      "name1 : 9876543210\n",
      "name3 does not exist\n"
     ]
    }
   ],
   "source": [
    "def searchContacts(name):\n",
    "    if name in contacts:\n",
    "        print(name,\":\",contacts[name])\n",
    "    else:\n",
    "        print(\"%s does not exist\" %name)\n",
    "    return\n",
    "searchContacts(\"name1\")\n",
    "searchContacts(\"name3\")\n"
   ]
  },
  {
   "cell_type": "code",
   "execution_count": 87,
   "metadata": {},
   "outputs": [
    {
     "name": "stdout",
     "output_type": "stream",
     "text": [
      "name1 : 9876543210\n",
      "name2 : 3481784585\n"
     ]
    }
   ],
   "source": [
    "def contactsList(contacts):\n",
    "    for name in contacts:\n",
    "        print(name,\":\",contacts[name])\n",
    "contactsList(contacts)"
   ]
  },
  {
   "cell_type": "code",
   "execution_count": 84,
   "metadata": {},
   "outputs": [
    {
     "name": "stdout",
     "output_type": "stream",
     "text": [
      "name1 is modified to 937481732\n"
     ]
    }
   ],
   "source": [
    "def modifyContact(name):\n",
    "    contacts[name]=\"937481732\"\n",
    "    print(name,\"is modified to\",contacts[name])\n",
    "    return\n",
    "modifyContact(\"name1\")"
   ]
  },
  {
   "cell_type": "code",
   "execution_count": 88,
   "metadata": {},
   "outputs": [
    {
     "name": "stdout",
     "output_type": "stream",
     "text": [
      "name2 : is removed\n"
     ]
    }
   ],
   "source": [
    "def removeContact(name):\n",
    "    contacts.pop(name)\n",
    "    print(name,\"is removed\")\n",
    "    return\n",
    "removeContact(\"name2\")"
   ]
  },
  {
   "cell_type": "code",
   "execution_count": 93,
   "metadata": {},
   "outputs": [
    {
     "name": "stdout",
     "output_type": "stream",
     "text": [
      "2 contacts added successfully\n",
      "name1 : 9876543210\n",
      "name4 : 234435355\n",
      "name5 : 12341252\n"
     ]
    }
   ],
   "source": [
    "def importContacts(newContacts):\n",
    "    contacts.update(newContacts)\n",
    "    print(len(newContacts.keys()),\"contacts added successfully\")\n",
    "    return\n",
    "    \n",
    "newContacts = {\"name4\":234435355,\"name5\":12341252}\n",
    "importContacts(newContacts)\n",
    "contactsList(contacts)"
   ]
  },
  {
   "cell_type": "markdown",
   "metadata": {},
   "source": [
    "### Packages and Modules\n",
    "**Package** -> Collection of Modules(Python File .py) and sub packages <br>\n",
    "**Module**  -> A single python file containing functions\n",
    "\n",
    "#### Package -> Subpackages -> Modules -> Functions\n"
   ]
  },
  {
   "cell_type": "code",
   "execution_count": 108,
   "metadata": {},
   "outputs": [
    {
     "data": {
      "text/plain": [
       "3.141592653589793"
      ]
     },
     "execution_count": 108,
     "metadata": {},
     "output_type": "execute_result"
    }
   ],
   "source": [
    "# Packages\n",
    "# Math package functions\n",
    "import math\n",
    "\n",
    "math.floor(123.235)\n",
    "math.fabs(-127)  # absolute value\n",
    "math.ceil(123.235)\n",
    "math.copysign(x,y)\n",
    "math.factorial(x)\n",
    "math.fmod(x, y)\n",
    "math.frexp(x)\n",
    "math.fsum([0.1,0.2])\n",
    "math.gcd(a, b)\n",
    "math.isfinite(x)\n",
    "math.isinf(x)\n",
    "math.isnan(x)\n",
    "math.ldexp(x, i)  #Return x * (2**i). This is essentially the inverse of function frexp().\n",
    "math.remainder(x, y)\n",
    "math.pow(x, y)\n",
    "math.sin(x)\n",
    "math.asin(x)\n",
    "math.pi"
   ]
  },
  {
   "cell_type": "code",
   "execution_count": 106,
   "metadata": {},
   "outputs": [
    {
     "data": {
      "text/plain": [
       "123"
      ]
     },
     "execution_count": 106,
     "metadata": {},
     "output_type": "execute_result"
    }
   ],
   "source": [
    "from math import floor as fl  # renaming of the function\n",
    "fl(123.45)"
   ]
  },
  {
   "cell_type": "code",
   "execution_count": 118,
   "metadata": {},
   "outputs": [
    {
     "name": "stdout",
     "output_type": "stream",
     "text": [
      "22 16 4 70 17 14 26 100 1 32 "
     ]
    }
   ],
   "source": [
    "# Function to generate N random numbers in a given range using \"random\" Package\n",
    "import random\n",
    "\n",
    "def generateNRandomNumbers(n,lb,ub):\n",
    "    for i in range(0,n):\n",
    "        print(random.randint(lb,ub),end=\" \")\n",
    "generateNRandomNumbers(10,0,100)"
   ]
  },
  {
   "cell_type": "code",
   "execution_count": 120,
   "metadata": {},
   "outputs": [
    {
     "data": {
      "text/plain": [
       "False"
      ]
     },
     "execution_count": 120,
     "metadata": {},
     "output_type": "execute_result"
    }
   ],
   "source": [
    "from Packages import numerical\n",
    "numerical.isPrime(8102833)"
   ]
  },
  {
   "cell_type": "code",
   "execution_count": 127,
   "metadata": {},
   "outputs": [
    {
     "data": {
      "text/plain": [
       "'pyhon'"
      ]
     },
     "execution_count": 127,
     "metadata": {},
     "output_type": "execute_result"
    }
   ],
   "source": [
    "# Program to remove a particular character in a string by using strin slicing\n",
    "str=\"python\"\n",
    "str[:2]\n",
    "str[3:]\n",
    "str[:2]+str[3:]"
   ]
  },
  {
   "cell_type": "code",
   "execution_count": null,
   "metadata": {},
   "outputs": [],
   "source": []
  }
 ],
 "metadata": {
  "kernelspec": {
   "display_name": "Python 3",
   "language": "python",
   "name": "python3"
  },
  "language_info": {
   "codemirror_mode": {
    "name": "ipython",
    "version": 3
   },
   "file_extension": ".py",
   "mimetype": "text/x-python",
   "name": "python",
   "nbconvert_exporter": "python",
   "pygments_lexer": "ipython3",
   "version": "3.7.3"
  }
 },
 "nbformat": 4,
 "nbformat_minor": 2
}
