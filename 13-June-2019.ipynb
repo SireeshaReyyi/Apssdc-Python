<<<<<<< HEAD
{
 "cells": [
  {
   "cell_type": "code",
   "execution_count": 1,
   "metadata": {},
   "outputs": [
    {
     "name": "stdout",
     "output_type": "stream",
     "text": [
      "enter lower bound1\n",
      "enter upper bound5\n",
      "30.6\n"
     ]
    }
   ],
   "source": [
    "# function to calculate average of factorials in a given range\n",
    "def avgFact(lb,ub):\n",
    "    tot=0\n",
    "    count=0\n",
    "    for i in range(lb,ub+1):\n",
    "        sum=1\n",
    "        for j in range(1,i+1):\n",
    "            sum=sum*j\n",
    "        count=count+1\n",
    "        tot=tot+sum\n",
    "    print(tot/count)\n",
    "lb=int(input(\"enter lower bound\"))\n",
    "ub=int(input(\"enter upper bound\"))\n",
    "avgFact(lb,ub)\n"
   ]
  },
  {
   "cell_type": "code",
   "execution_count": 2,
   "metadata": {},
   "outputs": [
    {
     "name": "stdout",
     "output_type": "stream",
     "text": [
      "enter a number9\n",
      "1 3 5 7 9 153 371 407 92727 "
     ]
    }
   ],
   "source": [
    "# function to generage N odd armstrong numbers\n",
    "def armstrong(n):\n",
    "    i=1\n",
    "    count=0\n",
    "    while count<n:\n",
    "        j=i\n",
    "        sum=0\n",
    "        while j!=0:\n",
    "            rem=j%10\n",
    "            sum=sum+rem**len(str(i))\n",
    "            j=j//10\n",
    "        if sum==i and i%2==1:\n",
    "            print(i,end=\" \")\n",
    "            count=count+1\n",
    "        i=i+1\n",
    "n=int(input(\"enter a number\"))\n",
    "armstrong(n)\n",
    "            \n",
    "    "
   ]
  },
  {
   "cell_type": "code",
   "execution_count": 5,
   "metadata": {},
   "outputs": [
    {
     "name": "stdout",
     "output_type": "stream",
     "text": [
      "enter start1\n",
      "enter end80\n",
      "1 3 5 7 9 11 13 15 17 19 21 23 25 27 29 31 33 35 37 39 41 43 45 47 49 51 53 55 57 59 61 63 65 67 69 71 73 75 77 79 "
     ]
    }
   ],
   "source": [
    "#function to print the alternate values in a range\n",
    "def alternateValues(start,end):\n",
    "    for i in range(start,end+1,2): ## last 2 represent the incrementation---i=i+2\n",
    "        print(i,end=\" \")\n",
    "    return \n",
    "start=int(input(\"enter start\"))\n",
    "end=int(input(\"enter end\"))\n",
    "alternateValues(start,end)"
   ]
  },
  {
   "cell_type": "code",
   "execution_count": 6,
   "metadata": {},
   "outputs": [
    {
     "name": "stdout",
     "output_type": "stream",
     "text": [
      "10 9 8 7 6 5 4 3 2 1 "
     ]
    }
   ],
   "source": [
    "# function to print reverese of a given range in a same line\n",
    "def rev(n):\n",
    "    for i in range(n,0,-1):\n",
    "        print(i,end=\" \")\n",
    "    return\n",
    "rev(10)"
   ]
  },
  {
   "cell_type": "code",
   "execution_count": 9,
   "metadata": {},
   "outputs": [
    {
     "name": "stdout",
     "output_type": "stream",
     "text": [
      "enter a number3\n",
      "enter start2\n",
      "enter end5\n",
      "3 x 2 = 6\n",
      "3 x 3 = 9\n",
      "3 x 4 = 12\n",
      "3 x 5 = 15\n"
     ]
    }
   ],
   "source": [
    "# Function to generate multiplication table for a number in a given range\n",
    "def table(n,lb,ub):\n",
    "    for i in range(lb,ub+1):\n",
    "        print(n,\"x\",i,\"=\",n*i)\n",
    "    return\n",
    "n=int(input(\"enter a number\"))\n",
    "lb=int(input(\"enter start\"))\n",
    "ub=int(input(\"enter end\"))\n",
    "table(n,lb,ub)"
   ]
  },
  {
   "cell_type": "code",
   "execution_count": null,
   "metadata": {},
   "outputs": [],
   "source": [
    "# Function to print odd numbers in reverse order in a range\n",
    "def revOdd(lb,ub):\n",
    "    for i in range(ub,lb-1,-1):\n",
    "        if i%2==1:\n",
    "            print(i,end=\" \")\n",
    "    return\n",
    "lb=int(input(\"enter start\"))\n",
    "ub=int(input(\"enter end\"))\n",
    "revOdd(lb,ub)"
   ]
  },
  {
   "cell_type": "code",
   "execution_count": null,
   "metadata": {},
   "outputs": [],
   "source": [
    "# function to calculate sum of numbers in a given range\n",
    "def sumOfNumbers(lb,ub):\n",
    "    sum=0\n",
    "    for i in range(lb,ub+1):\n",
    "        sum=sum+i\n",
    "    print(sum)\n",
    "    return\n",
    "lb=int(input(\"enter start\"))\n",
    "ub=int(input(\"enter end\"))\n",
    "sumOfNumbers(lb,ub)"
   ]
  },
  {
   "cell_type": "code",
   "execution_count": null,
   "metadata": {},
   "outputs": [],
   "source": [
    "# calculate number of days in a given time period using leapyearlogic\n",
    "def noOfDays(start,end):\n",
    "    days=0\n",
    "    for i in range(start,end+1):\n",
    "        if i%400==0 or (i%100!=0 and i%4==0):\n",
    "            days=days+366\n",
    "        else:\n",
    "            days=days+365\n",
    "    return days\n",
    "start=int(input(\"enter start year\"))\n",
    "end=int(input(\"enter end year\"))\n",
    "noOfDays(start,end)"
   ]
  },
  {
   "cell_type": "code",
   "execution_count": null,
   "metadata": {},
   "outputs": [],
   "source": [
    "# function to generate a series \n",
    "# if a given number n is even then make it 3n+1\n",
    "#if 3n+1 is odd then make it 2n\n",
    "def series(n):\n",
    "    count=0\n",
    "    while(n>0):\n",
    "        if n%2==0:\n",
    "            n=3*n+1\n",
    "        else:\n",
    "            n=2*n\n",
    "        count=count+1\n",
    "    return count\n",
    "        \n",
    "n=int(input(\"enter a number\"))\n",
    "series(n)"
   ]
  },
  {
   "cell_type": "code",
   "execution_count": 20,
   "metadata": {},
   "outputs": [
    {
     "name": "stdout",
     "output_type": "stream",
     "text": [
      "enter start month6\n",
      "enter start year2018\n",
      "enter end month7\n",
      "enter end year2018\n"
     ]
    },
    {
     "data": {
      "text/plain": [
       "1464"
      ]
     },
     "execution_count": 20,
     "metadata": {},
     "output_type": "execute_result"
    }
   ],
   "source": [
    "# function to calculate number of hours in a given period\n",
    "# numberOfHours(11,1975,3,1999)\n",
    "# 2,2016, 6,2019\n",
    "# No of hours=24*No of days\n",
    "# 3 steps\n",
    "    #1.start year month to end of year-calculate the number of days\n",
    "    #2.calculate days for all years between start year and end year exclusive\n",
    "            # 2017, 2018 - 365*no of years\n",
    "    #3.end year month start to end of the end year-calculate the number of days\n",
    "# Excluding Feb\n",
    "# First Seven months - 1, 3, 4, 5, 6, 7\n",
    "                    # All odd months have 31 days\n",
    "                    # All Even months have 30 days\n",
    "# Last five months - 8,9,10,11,12\n",
    "                    # All even months have 31 days\n",
    "                    # All odd months have 30 days\n",
    "\n",
    "\n",
    "def leapYear(year):\n",
    "    if year%400==0 or (year%100!=0 and year%4==0):\n",
    "        return True\n",
    "    else:\n",
    "        return False\n",
    "def numberOfDays(month,year):\n",
    "    if month==2:\n",
    "        if leapYear(year):\n",
    "            return 29\n",
    "        return 28\n",
    "    elif month <=7 and month%2!=0 or (month%2==0 and month>7):\n",
    "        return 31\n",
    "    else:\n",
    "        return 30\n",
    "def daysInStartYear(startmonth,startyear):\n",
    "    days=0\n",
    "    for month in range(startmonth,13):\n",
    "        days=days+numberOfDays(month,startyear)\n",
    "    return days\n",
    "def daysInEndYear(endmonth,endyear):\n",
    "    days=0\n",
    "    for month in range(1,endmonth+1):\n",
    "        days=days+numberOfDays(month,endyear)\n",
    "    return days\n",
    "def noOfDays(start,end):\n",
    "    days=0\n",
    "    for i in range(start,end+1):\n",
    "        if leapYear(i):\n",
    "            days=days+366\n",
    "        else:\n",
    "            days=days+365\n",
    "    return days\n",
    "def numberOfHours(startmonth,startyear,endmonth,endyear):\n",
    "    days=0\n",
    "    if startyear!=endyear:\n",
    "        days+=daysInStartYear(startmonth,startyear)\n",
    "        days+=daysInEndYear(endmonth,endyear)\n",
    "        if endyear-startyear==2:\n",
    "            days+=noOfDays(startyear+1,startyear+1)\n",
    "        elif endyear-startyear>2:\n",
    "            days+=noOfDays(startyear+1,endyear-1)\n",
    "    else:\n",
    "        for month in range(startmonth,endmonth+1):\n",
    "            days+=numberOfDays(month,startyear)\n",
    "    return 24*days\n",
    "\n",
    "\n",
    "startmonth=int(input(\"enter start month\"))\n",
    "startyear=int(input(\"enter start year\"))\n",
    "endmonth=int(input(\"enter end month\"))\n",
    "endyear=int(input(\"enter end year\"))\n",
    "\n",
    "numberOfHours(startmonth,startyear,endmonth,endyear)\n",
    "\n",
    "    \n",
    "\n",
    "\n",
    "            "
   ]
  },
  {
   "cell_type": "code",
   "execution_count": null,
   "metadata": {},
   "outputs": [],
   "source": []
  },
  {
   "cell_type": "code",
   "execution_count": null,
   "metadata": {},
   "outputs": [],
   "source": []
  }
 ],
 "metadata": {
  "kernelspec": {
   "display_name": "Python 3",
   "language": "python",
   "name": "python3"
  },
  "language_info": {
   "codemirror_mode": {
    "name": "ipython",
    "version": 3
   },
   "file_extension": ".py",
   "mimetype": "text/x-python",
   "name": "python",
   "nbconvert_exporter": "python",
   "pygments_lexer": "ipython3",
   "version": "3.7.3"
  }
 },
 "nbformat": 4,
 "nbformat_minor": 2
}
=======
{
 "cells": [
  {
   "cell_type": "code",
   "execution_count": 1,
   "metadata": {},
   "outputs": [
    {
     "name": "stdout",
     "output_type": "stream",
     "text": [
      "enter lower bound1\n",
      "enter upper bound5\n",
      "30.6\n"
     ]
    }
   ],
   "source": [
    "# function to calculate average of factorials in a given range\n",
    "def avgFact(lb,ub):\n",
    "    tot=0\n",
    "    count=0\n",
    "    for i in range(lb,ub+1):\n",
    "        sum=1\n",
    "        for j in range(1,i+1):\n",
    "            sum=sum*j\n",
    "        count=count+1\n",
    "        tot=tot+sum\n",
    "    print(tot/count)\n",
    "lb=int(input(\"enter lower bound\"))\n",
    "ub=int(input(\"enter upper bound\"))\n",
    "avgFact(lb,ub)\n"
   ]
  },
  {
   "cell_type": "code",
   "execution_count": 2,
   "metadata": {},
   "outputs": [
    {
     "name": "stdout",
     "output_type": "stream",
     "text": [
      "enter a number9\n",
      "1 3 5 7 9 153 371 407 92727 "
     ]
    }
   ],
   "source": [
    "# function to generage N odd armstrong numbers\n",
    "def armstrong(n):\n",
    "    i=1\n",
    "    count=0\n",
    "    while count<n:\n",
    "        j=i\n",
    "        sum=0\n",
    "        while j!=0:\n",
    "            rem=j%10\n",
    "            sum=sum+rem**len(str(i))\n",
    "            j=j//10\n",
    "        if sum==i and i%2==1:\n",
    "            print(i,end=\" \")\n",
    "            count=count+1\n",
    "        i=i+1\n",
    "n=int(input(\"enter a number\"))\n",
    "armstrong(n)\n",
    "            \n",
    "    "
   ]
  },
  {
   "cell_type": "code",
   "execution_count": 5,
   "metadata": {},
   "outputs": [
    {
     "name": "stdout",
     "output_type": "stream",
     "text": [
      "enter start1\n",
      "enter end80\n",
      "1 3 5 7 9 11 13 15 17 19 21 23 25 27 29 31 33 35 37 39 41 43 45 47 49 51 53 55 57 59 61 63 65 67 69 71 73 75 77 79 "
     ]
    }
   ],
   "source": [
    "#function to print the alternate values in a range\n",
    "def alternateValues(start,end):\n",
    "    for i in range(start,end+1,2): ## last 2 represent the incrementation---i=i+2\n",
    "        print(i,end=\" \")\n",
    "    return \n",
    "start=int(input(\"enter start\"))\n",
    "end=int(input(\"enter end\"))\n",
    "alternateValues(start,end)"
   ]
  },
  {
   "cell_type": "code",
   "execution_count": 6,
   "metadata": {},
   "outputs": [
    {
     "name": "stdout",
     "output_type": "stream",
     "text": [
      "10 9 8 7 6 5 4 3 2 1 "
     ]
    }
   ],
   "source": [
    "# function to print reverese of a given range in a same line\n",
    "def rev(n):\n",
    "    for i in range(n,0,-1):\n",
    "        print(i,end=\" \")\n",
    "    return\n",
    "rev(10)"
   ]
  },
  {
   "cell_type": "code",
   "execution_count": 9,
   "metadata": {},
   "outputs": [
    {
     "name": "stdout",
     "output_type": "stream",
     "text": [
      "enter a number3\n",
      "enter start2\n",
      "enter end5\n",
      "3 x 2 = 6\n",
      "3 x 3 = 9\n",
      "3 x 4 = 12\n",
      "3 x 5 = 15\n"
     ]
    }
   ],
   "source": [
    "# Function to generate multiplication table for a number in a given range\n",
    "def table(n,lb,ub):\n",
    "    for i in range(lb,ub+1):\n",
    "        print(n,\"x\",i,\"=\",n*i)\n",
    "    return\n",
    "n=int(input(\"enter a number\"))\n",
    "lb=int(input(\"enter start\"))\n",
    "ub=int(input(\"enter end\"))\n",
    "table(n,lb,ub)"
   ]
  },
  {
   "cell_type": "code",
   "execution_count": null,
   "metadata": {},
   "outputs": [],
   "source": [
    "# Function to print odd numbers in reverse order in a range\n",
    "def revOdd(lb,ub):\n",
    "    for i in range(ub,lb-1,-1):\n",
    "        if i%2==1:\n",
    "            print(i,end=\" \")\n",
    "    return\n",
    "lb=int(input(\"enter start\"))\n",
    "ub=int(input(\"enter end\"))\n",
    "revOdd(lb,ub)"
   ]
  },
  {
   "cell_type": "code",
   "execution_count": null,
   "metadata": {},
   "outputs": [],
   "source": [
    "# function to calculate sum of numbers in a given range\n",
    "def sumOfNumbers(lb,ub):\n",
    "    sum=0\n",
    "    for i in range(lb,ub+1):\n",
    "        sum=sum+i\n",
    "    print(sum)\n",
    "    return\n",
    "lb=int(input(\"enter start\"))\n",
    "ub=int(input(\"enter end\"))\n",
    "sumOfNumbers(lb,ub)"
   ]
  },
  {
   "cell_type": "code",
   "execution_count": null,
   "metadata": {},
   "outputs": [],
   "source": [
    "# calculate number of days in a given time period using leapyearlogic\n",
    "def noOfDays(start,end):\n",
    "    days=0\n",
    "    for i in range(start,end+1):\n",
    "        if i%400==0 or (i%100!=0 and i%4==0):\n",
    "            days=days+366\n",
    "        else:\n",
    "            days=days+365\n",
    "    return days\n",
    "start=int(input(\"enter start year\"))\n",
    "end=int(input(\"enter end year\"))\n",
    "noOfDays(start,end)"
   ]
  },
  {
   "cell_type": "code",
   "execution_count": null,
   "metadata": {},
   "outputs": [],
   "source": [
    "# function to generate a series \n",
    "# if a given number n is even then make it 3n+1\n",
    "#if 3n+1 is odd then make it 2n\n",
    "def series(n):\n",
    "    count=0\n",
    "    while(n>0):\n",
    "        if n%2==0:\n",
    "            n=3*n+1\n",
    "        else:\n",
    "            n=2*n\n",
    "        count=count+1\n",
    "    return count\n",
    "        \n",
    "n=int(input(\"enter a number\"))\n",
    "series(n)"
   ]
  },
  {
   "cell_type": "code",
   "execution_count": 20,
   "metadata": {},
   "outputs": [
    {
     "name": "stdout",
     "output_type": "stream",
     "text": [
      "enter start month6\n",
      "enter start year2018\n",
      "enter end month7\n",
      "enter end year2018\n"
     ]
    },
    {
     "data": {
      "text/plain": [
       "1464"
      ]
     },
     "execution_count": 20,
     "metadata": {},
     "output_type": "execute_result"
    }
   ],
   "source": [
    "# function to calculate number of hours in a given period\n",
    "# numberOfHours(11,1975,3,1999)\n",
    "# 2,2016, 6,2019\n",
    "# No of hours=24*No of days\n",
    "# 3 steps\n",
    "    #1.start year month to end of year-calculate the number of days\n",
    "    #2.calculate days for all years between start year and end year exclusive\n",
    "            # 2017, 2018 - 365*no of years\n",
    "    #3.end year month start to end of the end year-calculate the number of days\n",
    "# Excluding Feb\n",
    "# First Seven months - 1, 3, 4, 5, 6, 7\n",
    "                    # All odd months have 31 days\n",
    "                    # All Even months have 30 days\n",
    "# Last five months - 8,9,10,11,12\n",
    "                    # All even months have 31 days\n",
    "                    # All odd months have 30 days\n",
    "\n",
    "\n",
    "def leapYear(year):\n",
    "    if year%400==0 or (year%100!=0 and year%4==0):\n",
    "        return True\n",
    "    else:\n",
    "        return False\n",
    "def numberOfDays(month,year):\n",
    "    if month==2:\n",
    "        if leapYear(year):\n",
    "            return 29\n",
    "        return 28\n",
    "    elif month <=7 and month%2!=0 or (month%2==0 and month>7):\n",
    "        return 31\n",
    "    else:\n",
    "        return 30\n",
    "def daysInStartYear(startmonth,startyear):\n",
    "    days=0\n",
    "    for month in range(startmonth,13):\n",
    "        days=days+numberOfDays(month,startyear)\n",
    "    return days\n",
    "def daysInEndYear(endmonth,endyear):\n",
    "    days=0\n",
    "    for month in range(1,endmonth+1):\n",
    "        days=days+numberOfDays(month,endyear)\n",
    "    return days\n",
    "def noOfDays(start,end):\n",
    "    days=0\n",
    "    for i in range(start,end+1):\n",
    "        if leapYear(i):\n",
    "            days=days+366\n",
    "        else:\n",
    "            days=days+365\n",
    "    return days\n",
    "def numberOfHours(startmonth,startyear,endmonth,endyear):\n",
    "    days=0\n",
    "    if startyear!=endyear:\n",
    "        days+=daysInStartYear(startmonth,startyear)\n",
    "        days+=daysInEndYear(endmonth,endyear)\n",
    "        if endyear-startyear==2:\n",
    "            days+=noOfDays(startyear+1,startyear+1)\n",
    "        elif endyear-startyear>2:\n",
    "            days+=noOfDays(startyear+1,endyear-1)\n",
    "    else:\n",
    "        for month in range(startmonth,endmonth+1):\n",
    "            days+=numberOfDays(month,startyear)\n",
    "    return 24*days\n",
    "\n",
    "\n",
    "startmonth=int(input(\"enter start month\"))\n",
    "startyear=int(input(\"enter start year\"))\n",
    "endmonth=int(input(\"enter end month\"))\n",
    "endyear=int(input(\"enter end year\"))\n",
    "\n",
    "numberOfHours(startmonth,startyear,endmonth,endyear)\n",
    "\n",
    "    \n",
    "\n",
    "\n",
    "            "
   ]
  },
  {
   "cell_type": "code",
   "execution_count": null,
   "metadata": {},
   "outputs": [],
   "source": []
  },
  {
   "cell_type": "code",
   "execution_count": null,
   "metadata": {},
   "outputs": [],
   "source": []
  }
 ],
 "metadata": {
  "kernelspec": {
   "display_name": "Python 3",
   "language": "python",
   "name": "python3"
  },
  "language_info": {
   "codemirror_mode": {
    "name": "ipython",
    "version": 3
   },
   "file_extension": ".py",
   "mimetype": "text/x-python",
   "name": "python",
   "nbconvert_exporter": "python",
   "pygments_lexer": "ipython3",
   "version": "3.7.3"
  }
 },
 "nbformat": 4,
 "nbformat_minor": 2
}
>>>>>>> 9cc45850479d0758c54ba1c340042dc2085e5f8c
