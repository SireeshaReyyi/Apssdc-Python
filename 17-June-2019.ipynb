{
 "cells": [
  {
   "cell_type": "markdown",
   "metadata": {},
   "source": [
    "### Given a string as input.Count and print the number of numerics and number of alphabets in the string\n",
    "#### EX: aBc#23\n",
    "#### Output :\n",
    "#### 2\n",
    "#### 3"
   ]
  },
  {
   "cell_type": "code",
   "execution_count": 17,
   "metadata": {},
   "outputs": [
    {
     "name": "stdout",
     "output_type": "stream",
     "text": [
      "siri@388\n",
      "3\n",
      "4\n"
     ]
    }
   ],
   "source": [
    "def CountNumsAndAlphs1(s):\n",
    "    Alphacount=0\n",
    "    numcount=0\n",
    "    for i in s:\n",
    "        if ((i>='a' and i<='z') or (i>='A' and i<='Z')):\n",
    "            Alphacount=Alphacount+1\n",
    "        elif (i>='0' and i<='9'):\n",
    "            numcount+=1\n",
    "    print(numcount)\n",
    "    print(Alphacount)\n",
    "    \n",
    "    \n",
    "def CountNumsAndAlphs2(s):\n",
    "    Alphacount=0\n",
    "    numcount=0\n",
    "    for i in s:\n",
    "        if ((ord(i)>=97 and ord(i)<=122) or (ord(i)>=65 and ord(i)<=90)):\n",
    "            Alphacount=Alphacount+1\n",
    "        elif (ord(i)>=48 and ord(i)<=57):\n",
    "            numcount+=1\n",
    "    print(numcount)\n",
    "    print(Alphacount)\n",
    "\n",
    "def CountNumsAndAlphs3(s):\n",
    "    Alphacount=0\n",
    "    numcount=0\n",
    "    for i in s:\n",
    "        if (i.isupper() or i.islower()):\n",
    "            Alphacount=Alphacount+1\n",
    "        elif (i.isnumeric()):\n",
    "            numcount+=1\n",
    "    print(numcount)\n",
    "    print(Alphacount)\n",
    "\n",
    "s=input()\n",
    "#CountNumsAndAlphs1(s)\n",
    "CountNumsAndAlphs2(s)\n",
    "# CountNumsAndAlphs3(s)"
   ]
  },
  {
   "cell_type": "markdown",
   "metadata": {},
   "source": [
    "### Perfect Number"
   ]
  },
  {
   "cell_type": "code",
   "execution_count": 5,
   "metadata": {},
   "outputs": [
    {
     "name": "stdout",
     "output_type": "stream",
     "text": [
      "1\n",
      "28\n",
      "YES\n"
     ]
    }
   ],
   "source": [
    "def factors(n):\n",
    "    s=0\n",
    "    for i in range(1,n):\n",
    "        if n%i==0:\n",
    "            s=s+i\n",
    "    if s==n:\n",
    "        return \"YES\"\n",
    "    else:\n",
    "        return \"NO\"\n",
    "\n",
    "t=int(input())\n",
    "for i in range(t):\n",
    "    n=int(input())\n",
    "    print(factors(n))"
   ]
  },
  {
   "cell_type": "markdown",
   "metadata": {},
   "source": [
    "### You are given a number N\n",
    "### Write a program to find a number which is less than or equal to p and which gives highest reminder when \n",
    "### If there is more than one such number, print the smallest number\n",
    "#### 5 ---- 3\n",
    "#### 4 ---- 3"
   ]
  },
  {
   "cell_type": "code",
   "execution_count": 2,
   "metadata": {},
   "outputs": [
    {
     "name": "stdout",
     "output_type": "stream",
     "text": [
      "1\n",
      "5\n",
      "3\n",
      "3\n"
     ]
    }
   ],
   "source": [
    "\n",
    "def LargestRem1(n):\n",
    "    li=[]\n",
    "    for i in range(1,n+1):\n",
    "        li.append(n%i)\n",
    "    m=max(li)\n",
    "    return (li.index(max(li)))+1\n",
    "\n",
    "def LargestRem2(n):\n",
    "    r=0\n",
    "    for i in range(1,n):\n",
    "        rem=n%i\n",
    "        if rem>r:\n",
    "            r=rem\n",
    "            j=i\n",
    "    return j\n",
    "\n",
    "t=int(input())\n",
    "for i in range(t):\n",
    "    n=int(input())\n",
    "    print(LargestRem1(n))\n",
    "    print(LargestRem2(n))\n"
   ]
  },
  {
   "cell_type": "markdown",
   "metadata": {},
   "source": [
    "### Given a number as input. Print \"YES\" if the prime factors of that number is greater than or equal to p\n",
    "#### First line read P\n",
    "#### Second line read T(Number of Test cases)\n",
    "#### Next lines contains t test cases\n",
    "#### EX:\n",
    "#### Input:\n",
    "#### 2\n",
    "#### 1\n",
    "#### 6\n",
    "#### Output:\n",
    "#### YES"
   ]
  },
  {
   "cell_type": "code",
   "execution_count": 12,
   "metadata": {},
   "outputs": [
    {
     "name": "stdout",
     "output_type": "stream",
     "text": [
      "2\n",
      "1\n",
      "6\n",
      "YES\n"
     ]
    }
   ],
   "source": [
    "def prime(n):\n",
    "    c=0\n",
    "    for i in range(1,n+1):\n",
    "        if n%i==0:\n",
    "            c=c+1\n",
    "    if c==2:\n",
    "        return 1\n",
    "    else:\n",
    "        return 0\n",
    "    \n",
    "def PrimeFact(t,p):\n",
    "    for i in range(1,t+1):\n",
    "        n=int(input())\n",
    "        c=0\n",
    "        for j in range(2,n):\n",
    "            if prime(j)==1:\n",
    "                if n%j==0:\n",
    "                    c=c+1\n",
    "        if c>=p:\n",
    "            return \"YES\"\n",
    "        else:\n",
    "            return \"NO\"\n",
    "    \n",
    "p=int(input())\n",
    "t=int(input())\n",
    "print(PrimeFact(t,p))"
   ]
  },
  {
   "cell_type": "code",
   "execution_count": null,
   "metadata": {},
   "outputs": [],
   "source": []
  }
 ],
 "metadata": {
  "kernelspec": {
   "display_name": "Python 3",
   "language": "python",
   "name": "python3"
  }
 },
 "nbformat": 4,
 "nbformat_minor": 2
}
