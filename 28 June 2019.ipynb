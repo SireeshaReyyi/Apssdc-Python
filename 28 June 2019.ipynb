{
 "cells": [
  {
   "cell_type": "markdown",
   "metadata": {},
   "source": [
    "### Day Objectives\n",
    "- Map\n",
    "- Lambda\n",
    "- Filter\n",
    "- Use cases - File/Data"
   ]
  },
  {
   "cell_type": "markdown",
   "metadata": {},
   "source": [
    "### Map\n",
    "Mapping an entity with a function\n",
    "\n",
    "y = f(x)\n",
    "\n",
    " f(x)=x*2\n",
    " \n",
    "x       y\n",
    "\n",
    "1       1\n",
    "\n",
    "2       4\n",
    "\n",
    "3       9\n",
    "\n",
    "4       16\n",
    "\n",
    "- map(function(f(x), iterable(x))\n",
    "\n",
    "- map will not print anything, it will justr return\n",
    "\n",
    "- map doesnt apply for conditional check\n"
   ]
  },
  {
   "cell_type": "code",
   "execution_count": 6,
   "metadata": {},
   "outputs": [
    {
     "data": {
      "text/plain": [
       "1024"
      ]
     },
     "execution_count": 6,
     "metadata": {},
     "output_type": "execute_result"
    }
   ],
   "source": [
    "def powerN(a,n):\n",
    "    # return a**n\n",
    "    r = 1\n",
    "    for i in range(0,n):\n",
    "        r *= a  # r = r*a\n",
    "    return r\n",
    "powerN(2,11)\n",
    "\n",
    "def recursivePowerN(a,n):\n",
    "    if n == 0:\n",
    "        return 1\n",
    "    else:\n",
    "        return a * recursivePowerN(a,n-1)\n",
    "recursivePowerN(2,10)\n",
    "\n",
    "\n",
    "        "
   ]
  },
  {
   "cell_type": "code",
   "execution_count": 31,
   "metadata": {},
   "outputs": [
    {
     "name": "stdout",
     "output_type": "stream",
     "text": [
      "1 2 34\n"
     ]
    },
    {
     "data": {
      "text/plain": [
       "<map at 0x1aa416d3ef0>"
      ]
     },
     "execution_count": 31,
     "metadata": {},
     "output_type": "execute_result"
    }
   ],
   "source": [
    "def cube(n):\n",
    "    return n**3\n",
    "li = [1,2,3,4,5,6,5,4,3,2]\n",
    "list(map(cube,li))\n",
    "set(map(cube,li))\n",
    "x=list(map(int,input().split()))\n",
    "list(map(str,x))\n",
    "list(map(float,x))\n",
    "tuple(map(float,x))"
   ]
  },
  {
   "cell_type": "markdown",
   "metadata": {},
   "source": [
    "### Filter\n",
    "Used to check boolean values"
   ]
  },
  {
   "cell_type": "code",
   "execution_count": 48,
   "metadata": {},
   "outputs": [
    {
     "data": {
      "text/plain": [
       "[1, 2, 3]"
      ]
     },
     "execution_count": 48,
     "metadata": {},
     "output_type": "execute_result"
    }
   ],
   "source": [
    "li  = [1,2,'a','b','c',3]\n",
    "def isDigit(c):\n",
    "    c=str(c)\n",
    "    if c.isdigit():\n",
    "        return 100    # Anything other than '0' is considered as True(including -1,-2,... also)\n",
    "    return False\n",
    "list(filter(isDigit,li))"
   ]
  },
  {
   "cell_type": "code",
   "execution_count": 84,
   "metadata": {},
   "outputs": [
    {
     "name": "stdout",
     "output_type": "stream",
     "text": [
      "[67, 71, 73, 79, 83, 89]\n"
     ]
    },
    {
     "data": {
      "text/plain": [
       "[1000, 8000, 27000, 79507]"
      ]
     },
     "execution_count": 84,
     "metadata": {},
     "output_type": "execute_result"
    }
   ],
   "source": [
    "# Identigy all primes in a range using filter\n",
    "\n",
    "def isPrime(n):\n",
    "    if n==1:\n",
    "        return False\n",
    "    for j in range(2,n//2):\n",
    "        if n%j==0:\n",
    "            return False\n",
    "    return True\n",
    "\n",
    "lb,ub = 65,90\n",
    "list(filter(isPrime,range(lb,ub+1)))   # filter\n",
    "print([i for i in range(lb,ub+1) if isPrime(i) ])  # list comprehension\n",
    "\n",
    "numbers = [int(i) for i in li]  # mapping by using list comprehension\n",
    "\n",
    "[cube(i) for i in numbers]"
   ]
  },
  {
   "cell_type": "markdown",
   "metadata": {},
   "source": [
    "### Lambda\n",
    "\n",
    "- '**lambda**' is a keyword in python\n",
    "- Anonymous Functions  ---> Functions which dont have name\n",
    "    - can be embedded into list comprehension, maps, filters\n"
   ]
  },
  {
   "cell_type": "code",
   "execution_count": 99,
   "metadata": {},
   "outputs": [
    {
     "data": {
      "text/plain": [
       "[1, 8, 27]"
      ]
     },
     "execution_count": 99,
     "metadata": {},
     "output_type": "execute_result"
    }
   ],
   "source": [
    "a = lambda x:x**3\n",
    "list(map(a,[1,2,3]))\n",
    "li = [1,2,3,4,5,6,7,8]\n",
    "list(map(lambda x:x**3,li))  ## mapping(mathematical computaion) by using lambda\n",
    "list(filter(lambda x:x%2==0,li))  ## filtering by using lambda\n"
   ]
  },
  {
   "cell_type": "code",
   "execution_count": 147,
   "metadata": {},
   "outputs": [
    {
     "data": {
      "text/plain": [
       "[17, 18, 16, 16]"
      ]
     },
     "execution_count": 147,
     "metadata": {},
     "output_type": "execute_result"
    }
   ],
   "source": [
    "from random import randint\n",
    "internal1 = [randint(0,25) for i in range(10)]\n",
    "internal2 = [randint(0,25) for i in range(10)]\n",
    "internal3 = [randint(0,25) for i in range(10)]\n",
    "average = list(map(lambda x,y,z:(x+y+z)//3, internal1,internal2,internal3))\n",
    "fail = list(filter(lambda x:x<15,average))\n",
    "passed = list(filter(lambda x:x>15,list(map(lambda x,y,z:(x+y+z)//3,internal1,internal2,internal3))))"
   ]
  },
  {
   "cell_type": "markdown",
   "metadata": {},
   "source": [
    "### Applying Functional Programming to the Marks Analysis Application"
   ]
  },
  {
   "cell_type": "code",
   "execution_count": 12,
   "metadata": {},
   "outputs": [],
   "source": [
    "# Generate Marks Data\n",
    "from random import randint\n",
    "def generateMarks(n, lb, ub):\n",
    "    filename = 'DataFiles/marks.txt'\n",
    "    with open(filename, 'w') as f:\n",
    "        for i in range(n):\n",
    "            f.write(str(randint(lb,ub))+'\\n')\n",
    "    return\n",
    "generateMarks(50,0,100)\n",
    "        "
   ]
  },
  {
   "cell_type": "code",
   "execution_count": 45,
   "metadata": {},
   "outputs": [
    {
     "name": "stdout",
     "output_type": "stream",
     "text": [
      "Average Marks :  58\n",
      "Pass % :  14.0\n",
      "Fail % :  86.0\n",
      "Hihgest Mark Frequency :  [2, 99]\n",
      "Lowest Mark Frequency :  [1, 2]\n"
     ]
    }
   ],
   "source": [
    "# Marks Analysis\n",
    "    # Class Average\n",
    "    # % of pass\n",
    "    # % of fail\n",
    "    # % of distinction\n",
    "    # highest and lowest mark frequncy\n",
    "import re    \n",
    "\n",
    "def readMarksList(filepath):\n",
    "    with open(filepath,'r') as f:\n",
    "        filedata = f.read().split()\n",
    "    return list(map(int,filedata))\n",
    "\n",
    "def classAverage(filepath):\n",
    "    markslist = readMarksList(filepath)\n",
    "    return sum(markslist)//len(markslist)\n",
    "\n",
    "def percentageFailed(filepath):\n",
    "    markslist = readMarksList(filepath)\n",
    "    failedcount = len(list(filter(lambda x:x<30,markslist)))\n",
    "    return failedcount*100/len(markslist)\n",
    "def percentagePassed(filepath):\n",
    "    markslist = readMarksList(filepath)\n",
    "    return 100-percentageFailed(filepath)\n",
    "def highestMarkFrequency(filepath):\n",
    "    markslist = readMarksList(filepath)\n",
    "    return [markslist.count(max(markslist)),max(markslist)]\n",
    "def lowestMarkFrequency(filepath):\n",
    "    markslist = readMarksList(filepath)\n",
    "    return [markslist.count(min(markslist)),min(markslist)]\n",
    "    \n",
    "filepath = 'DataFiles/marks.txt'\n",
    "def classReport():\n",
    "    print('Average Marks : ',classAverage(filepath))\n",
    "    print('Pass % : ',percentageFailed(filepath))\n",
    "    print('Fail % : ',percentagePassed(filepath))\n",
    "    print('Hihgest Mark Frequency : ',highestMarkFrequency(filepath))\n",
    "    print('Lowest Mark Frequency : ',lowestMarkFrequency(filepath))\n",
    "    return\n",
    "classReport()"
   ]
  },
  {
   "cell_type": "markdown",
   "metadata": {},
   "source": [
    "### Data Encryption\n",
    "\n",
    "Key - Mapping of characters with replaced characters\n",
    "\n",
    "0 -> 4\n",
    "\n",
    "1 -> 5\n",
    "\n",
    "2 -> 6\n",
    "\n",
    "3 -> 7\n",
    "\n",
    "4 -> 8\n",
    "\n",
    "5 -> 9\n",
    "\n",
    "6 -> 0\n",
    "\n",
    "7 -> 1\n",
    "\n",
    "8 -> 2\n",
    "\n",
    "9 -> 3"
   ]
  },
  {
   "cell_type": "code",
   "execution_count": 2,
   "metadata": {},
   "outputs": [],
   "source": [
    "# Function to generate key for encryption\n",
    "keypath = 'DataFiles/key.txt'\n",
    "\n",
    "def generateKey(keypath):\n",
    "    with open(keypath,'w') as f:\n",
    "        for i in range(10):\n",
    "            if i < 6:\n",
    "                f.write(str(i)+' '+str(i+4)+'\\n')\n",
    "            else:\n",
    "                f.write(str(i)+' '+str(i-6)+'\\n')\n",
    "    return\n",
    "generateKey(keypath)\n",
    "        "
   ]
  },
  {
   "cell_type": "code",
   "execution_count": 37,
   "metadata": {},
   "outputs": [
    {
     "name": "stdout",
     "output_type": "stream",
     "text": [
      "0.004416300000229967\n"
     ]
    }
   ],
   "source": [
    "# Function to encrypt a data file\n",
    "def dictionaryKeyFile(keyfile):\n",
    "    key = {}\n",
    "    with open(keyfile,'r') as f:\n",
    "        for line in f:\n",
    "            line = line.split()\n",
    "            key[line[0]] = line[1]\n",
    "    return key\n",
    "dictionaryKeyFile(keypath)\n",
    "\n",
    "\n",
    "def encryptMarksData(datafile,keyfile):\n",
    "    # construct a dictionary for key data\n",
    "    key = dictionaryKeyFile(keyfile)\n",
    "    with open(datafile,'r') as f:\n",
    "        filedata = f.read().split('\\n')\n",
    "    with open('DataFiles/encryptedMarks.txt','w') as f:\n",
    "        for mark in filedata:\n",
    "            line = ''\n",
    "            for n in mark:\n",
    "                line = line + key[n] \n",
    "            f.write(line+'\\n')\n",
    "    return\n",
    "\n",
    "def decryptMarksData(encryptedfile,keyfile):\n",
    "    key = dictionaryKeyFile(keyfile)\n",
    "    newkey = {}\n",
    "    for key,value in key.items():\n",
    "        newkey[value]=key\n",
    "        \n",
    "    with open(encryptedfile,'r') as f:\n",
    "        filedata = f.read().split('\\n')\n",
    "    with open('Datafiles/decryptedMarks.txt','w') as f:\n",
    "        for mark in filedata:\n",
    "            line = ''\n",
    "            for n in mark:\n",
    "                line += newkey[n]\n",
    "#                 n=int(n)\n",
    "#                 if n<4:\n",
    "#                     line=line+str(n+6)\n",
    "#                 else:\n",
    "#                     line=line+str(n-4)\n",
    "            f.write(line+'\\n')\n",
    "    return\n",
    "                    \n",
    "                \n",
    "                \n",
    "datafile='DataFiles/marks.txt'\n",
    "encryptedfile='DataFiles/encryptedMarks.txt'\n",
    "encryptMarksData(datafile,keypath)\n",
    "decryptMarksData(encryptedfile,keypath)\n",
    "import timeit\n",
    "st = timeit.default_timer()\n",
    "decryptMarksData(encryptedfile,keypath)\n",
    "print(timeit.default_timer()-st)    "
   ]
  },
  {
   "cell_type": "code",
   "execution_count": 35,
   "metadata": {},
   "outputs": [
    {
     "data": {
      "text/plain": [
       "('0', '4')"
      ]
     },
     "execution_count": 35,
     "metadata": {},
     "output_type": "execute_result"
    }
   ],
   "source": [
    "# Comrehensions\n",
    "keyfile = 'DataFiles/key.txt'\n",
    "key = dictionaryKeyFile(keyfile)\n",
    "evenkeys = [item for item in key.items() if int(item[0])%2==0]\n",
    "evenkeys[0]"
   ]
  },
  {
   "cell_type": "code",
   "execution_count": null,
   "metadata": {},
   "outputs": [],
   "source": []
  }
 ],
 "metadata": {
  "kernelspec": {
   "display_name": "Python 3",
   "language": "python",
   "name": "python3"
  },
  "language_info": {
   "codemirror_mode": {
    "name": "ipython",
    "version": 3
   },
   "file_extension": ".py",
   "mimetype": "text/x-python",
   "name": "python",
   "nbconvert_exporter": "python",
   "pygments_lexer": "ipython3",
   "version": "3.7.3"
  }
 },
 "nbformat": 4,
 "nbformat_minor": 2
}
