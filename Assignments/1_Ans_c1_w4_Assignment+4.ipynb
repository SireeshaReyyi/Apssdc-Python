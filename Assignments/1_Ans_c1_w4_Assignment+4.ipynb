{
 "cells": [
  {
   "cell_type": "markdown",
   "metadata": {},
   "source": [
    "---\n",
    "\n",
    "_You are currently looking at **version 1.1** of this notebook. To download notebooks and datafiles, as well as get help on Jupyter notebooks in the Coursera platform, visit the [Jupyter Notebook FAQ](https://www.coursera.org/learn/python-data-analysis/resources/0dhYG) course resource._\n",
    "\n",
    "---"
   ]
  },
  {
   "cell_type": "code",
   "execution_count": 1,
   "metadata": {},
   "outputs": [],
   "source": [
    "import pandas as pd\n",
    "import numpy as np\n",
    "from scipy.stats import ttest_ind"
   ]
  },
  {
   "cell_type": "markdown",
   "metadata": {},
   "source": [
    "# Assignment 4 - Hypothesis Testing\n",
    "This assignment requires more individual learning than previous assignments - you are encouraged to check out the [pandas documentation](http://pandas.pydata.org/pandas-docs/stable/) to find functions or methods you might not have used yet, or ask questions on [Stack Overflow](http://stackoverflow.com/) and tag them as pandas and python related. And of course, the discussion forums are open for interaction with your peers and the course staff.\n",
    "\n",
    "Definitions:\n",
    "* A _quarter_ is a specific three month period, Q1 is January through March, Q2 is April through June, Q3 is July through September, Q4 is October through December.\n",
    "* A _recession_ is defined as starting with two consecutive quarters of GDP decline, and ending with two consecutive quarters of GDP growth.\n",
    "* A _recession bottom_ is the quarter within a recession which had the lowest GDP.\n",
    "* A _university town_ is a city which has a high percentage of university students compared to the total population of the city.\n",
    "\n",
    "**Hypothesis**: University towns have their mean housing prices less effected by recessions. Run a t-test to compare the ratio of the mean price of houses in university towns the quarter before the recession starts compared to the recession bottom. (`price_ratio=quarter_before_recession/recession_bottom`)\n",
    "\n",
    "The following data files are available for this assignment:\n",
    "* From the [Zillow research data site](http://www.zillow.com/research/data/) there is housing data for the United States. In particular the datafile for [all homes at a city level](http://files.zillowstatic.com/research/public/City/City_Zhvi_AllHomes.csv), ```City_Zhvi_AllHomes.csv```, has median home sale prices at a fine grained level.\n",
    "* From the Wikipedia page on college towns is a list of [university towns in the United States](https://en.wikipedia.org/wiki/List_of_college_towns#College_towns_in_the_United_States) which has been copy and pasted into the file ```university_towns.txt```.\n",
    "* From Bureau of Economic Analysis, US Department of Commerce, the [GDP over time](http://www.bea.gov/national/index.htm#gdp) of the United States in current dollars (use the chained value in 2009 dollars), in quarterly intervals, in the file ```gdplev.xls```. For this assignment, only look at GDP data from the first quarter of 2000 onward.\n",
    "\n",
    "Each function in this assignment below is worth 10%, with the exception of ```run_ttest()```, which is worth 50%."
   ]
  },
  {
   "cell_type": "code",
   "execution_count": 2,
   "metadata": {},
   "outputs": [],
   "source": [
    "# Use this dictionary to map state names to two letter acronyms\n",
    "states = {'OH': 'Ohio', 'KY': 'Kentucky', 'AS': 'American Samoa', 'NV': 'Nevada', 'WY': 'Wyoming', 'NA': 'National', 'AL': 'Alabama', 'MD': 'Maryland', 'AK': 'Alaska', 'UT': 'Utah', 'OR': 'Oregon', 'MT': 'Montana', 'IL': 'Illinois', 'TN': 'Tennessee', 'DC': 'District of Columbia', 'VT': 'Vermont', 'ID': 'Idaho', 'AR': 'Arkansas', 'ME': 'Maine', 'WA': 'Washington', 'HI': 'Hawaii', 'WI': 'Wisconsin', 'MI': 'Michigan', 'IN': 'Indiana', 'NJ': 'New Jersey', 'AZ': 'Arizona', 'GU': 'Guam', 'MS': 'Mississippi', 'PR': 'Puerto Rico', 'NC': 'North Carolina', 'TX': 'Texas', 'SD': 'South Dakota', 'MP': 'Northern Mariana Islands', 'IA': 'Iowa', 'MO': 'Missouri', 'CT': 'Connecticut', 'WV': 'West Virginia', 'SC': 'South Carolina', 'LA': 'Louisiana', 'KS': 'Kansas', 'NY': 'New York', 'NE': 'Nebraska', 'OK': 'Oklahoma', 'FL': 'Florida', 'CA': 'California', 'CO': 'Colorado', 'PA': 'Pennsylvania', 'DE': 'Delaware', 'NM': 'New Mexico', 'RI': 'Rhode Island', 'MN': 'Minnesota', 'VI': 'Virgin Islands', 'NH': 'New Hampshire', 'MA': 'Massachusetts', 'GA': 'Georgia', 'ND': 'North Dakota', 'VA': 'Virginia'}"
   ]
  },
  {
   "cell_type": "code",
   "execution_count": 3,
   "metadata": {
    "umich_part_id": "021",
    "umich_partlist_id": "004"
   },
   "outputs": [],
   "source": [
    "def get_list_of_university_towns():\n",
    "    '''Returns a DataFrame of towns and the states they are in from the \n",
    "    university_towns.txt list. The format of the DataFrame should be:\n",
    "    DataFrame( [ [\"Michigan\", \"Ann Arbor\"], [\"Michigan\", \"Yipsilanti\"] ], \n",
    "    columns=[\"State\", \"RegionName\"]  )\n",
    "    \n",
    "    The following cleaning needs to be done:\n",
    "\n",
    "    1. For \"State\", removing characters from \"[\" to the end.\n",
    "    2. For \"RegionName\", when applicable, removing every character from \" (\" to the end.\n",
    "    3. Depending on how you read the data, you may need to remove newline character '\\n'. '''\n",
    "    state_name = None\n",
    "    state_towns = []\n",
    "    file_status=False\n",
    "    try:\n",
    "        fh=open('university_towns.txt')\n",
    "        file_status=True\n",
    "    except FileNotFoundError as e:\n",
    "        file_status=False\n",
    "        \n",
    "    if file_status:\n",
    "        for line in fh:\n",
    "            line=line.strip()\n",
    "            if line[-6:] == '[edit]':\n",
    "                state_name = line[:-6]\n",
    "                continue\n",
    "            if '(' in line:\n",
    "                town_name = line[:line.index('(')-1]\n",
    "                state_towns.append([state_name,town_name])\n",
    "            else:\n",
    "                town_name = line\n",
    "                state_towns.append([state_name,town_name])\n",
    "            \n",
    "        df = pd.DataFrame(state_towns,columns = ['State','RegionName'])\n",
    "        return df\n"
   ]
  },
  {
   "cell_type": "code",
   "execution_count": 4,
   "metadata": {
    "umich_part_id": "022",
    "umich_partlist_id": "004"
   },
   "outputs": [],
   "source": [
    "def get_recession_start():\n",
    "    '''Returns the year and quarter of the recession start time as a \n",
    "    string value in a format such as 2005q3'''\n",
    "    gdp_level = pd.ExcelFile('gdplev.xls')\n",
    "    gdp_level = gdp_level.parse(\"Sheet1\", skiprows=219)\n",
    "    gdp_level = gdp_level[['1999q4', 9926.1]]\n",
    "    gdp_level.columns = ['Quarter','GDP']\n",
    "    for i in range(0, len(gdp_level)-2):\n",
    "        if (gdp_level.iloc[i][1] > gdp_level.iloc[i+1][1]) and (gdp_level.iloc[i+1][1] > gdp_level.iloc[i+2][1]):\n",
    "            final=gdp_level.iloc[i][0]\n",
    "            return final"
   ]
  },
  {
   "cell_type": "code",
   "execution_count": 5,
   "metadata": {
    "umich_part_id": "023",
    "umich_partlist_id": "004"
   },
   "outputs": [],
   "source": [
    "def get_recession_end():\n",
    "    '''Returns the year and quarter of the recession end time as a \n",
    "    string value in a format such as 2005q3'''\n",
    "    gdp_level = pd.ExcelFile('gdplev.xls')\n",
    "    gdp_level = gdp_level.parse(\"Sheet1\", skiprows=219)\n",
    "    gdp_level = gdp_level[['1999q4', 9926.1]]\n",
    "    gdp_level.columns = ['Quarter','GDP']\n",
    "    start = get_recession_start()\n",
    "    start_index = gdp_level[gdp_level['Quarter'] == start].index.tolist()[0]\n",
    "    gdp_level=gdp_level.iloc[start_index:]\n",
    "    for i in range(0, len(gdp_level)-2):\n",
    "        if (gdp_level.iloc[i][1] < gdp_level.iloc[i+1][1]) and (gdp_level.iloc[i+1][1] < gdp_level.iloc[i+2][1]):\n",
    "            final=gdp_level.iloc[i+2][0]\n",
    "            return final\n"
   ]
  },
  {
   "cell_type": "code",
   "execution_count": null,
   "metadata": {},
   "outputs": [],
   "source": []
  },
  {
   "cell_type": "code",
   "execution_count": 6,
   "metadata": {
    "umich_part_id": "024",
    "umich_partlist_id": "004"
   },
   "outputs": [
    {
     "data": {
      "text/plain": [
       "'2008q1'"
      ]
     },
     "execution_count": 6,
     "metadata": {},
     "output_type": "execute_result"
    }
   ],
   "source": [
    "\n",
    "def get_recession_bottom():\n",
    "    '''Returns the year and quarter of the recession bottom time as a \n",
    "    string value in a format such as 2005q3'''\n",
    "    gdp_level = pd.ExcelFile('gdplev.xls')\n",
    "    gdp_level = gdp_level.parse(\"Sheet1\", skiprows=219)\n",
    "    gdp_level = gdp_level[['1999q4', 9926.1]]\n",
    "    gdp_level.columns = ['Quarter','GDP']\n",
    "    start = get_recession_start()\n",
    "    start_index = gdp_level[gdp_level['Quarter'] == start].index.tolist()[0]\n",
    "    end = get_recession_end()\n",
    "    end_index = gdp_level[gdp_level['Quarter'] == end].index.tolist()[0]\n",
    "    gdp_lev=gdp_level.iloc[start_index:end_index+1]\n",
    "    bottom = gdp_level['GDP'].min()\n",
    "    bottom_index = gdp_level[gdp_level['GDP'] == bottom].index.tolist()[0]-start_index\n",
    "    final=gdp_level.iloc[bottom_index]['Quarter']\n",
    "    return final\n",
    "get_recession_bottom()"
   ]
  },
  {
   "cell_type": "code",
   "execution_count": 11,
   "metadata": {
    "umich_part_id": "025",
    "umich_partlist_id": "004"
   },
   "outputs": [],
   "source": [
    "def new_col_names(): \n",
    "    years = list(range(2000,2017))\n",
    "    quars = ['q1','q2','q3','q4']\n",
    "    quar_years = [str(i)+q for i in years for q in quars]\n",
    "    final =quar_years[:67]\n",
    "    return final\n",
    "def convert_housing_data_to_quarters():\n",
    "    '''Converts the housing data to quarters and returns it as mean \n",
    "    values in a dataframe. This dataframe should be a dataframe with\n",
    "    columns for 2000q1 through 2016q3, and should have a multi-index\n",
    "    in the shape of [\"State\",\"RegionName\"].\n",
    "    \n",
    "    Note: Quarters are defined in the assignment description, they are\n",
    "    not arbitrary three month periods.\n",
    "    \n",
    "    The resulting dataframe should have 67 columns, and 10,730 rows.\n",
    "    '''\n",
    "    city_data = pd.read_csv('City_Zhvi_AllHomes.csv')\n",
    "    city_data.drop(['Metro','CountyName','RegionID','SizeRank'],axis=1,inplace=True)\n",
    "    city_data['State'] = city_data['State'].map(states)\n",
    "    city_data.set_index(['State','RegionName'],inplace=True)\n",
    "    col = list(city_data.columns)\n",
    "    col = col[0:45]\n",
    "    city_data.drop(col,axis=1,inplace=True)\n",
    "\n",
    "    columns_list=list(city_data.columns)\n",
    "    qs = [columns_list[x:x+3] for x in range(0, len(columns_list), 3)]\n",
    "    \n",
    "    column_names = new_col_names()\n",
    "    for col,q in zip(column_names,qs):\n",
    "        city_data[col] = city_data[q].mean(axis=1)\n",
    "        \n",
    "    city_data = city_data[column_names]\n",
    "    return city_data"
   ]
  },
  {
   "cell_type": "code",
   "execution_count": 12,
   "metadata": {
    "umich_part_id": "026",
    "umich_partlist_id": "004"
   },
   "outputs": [
    {
     "data": {
      "text/plain": [
       "(True, 0.0003664160159552697, 'university town')"
      ]
     },
     "execution_count": 12,
     "metadata": {},
     "output_type": "execute_result"
    }
   ],
   "source": [
    "def run_ttest():\n",
    "    '''First creates new data showing the decline or growth of housing prices\n",
    "    between the recession start and the recession bottom. Then runs a ttest\n",
    "    comparing the university town values to the non-university towns values, \n",
    "    return whether the alternative hypothesis (that the two groups are the same)\n",
    "    is true or not as well as the p-value of the confidence. \n",
    "    \n",
    "    Return the tuple (different, p, better) \n",
    "    where \n",
    "    \n",
    "    different=True if the t-test is True at a p<0.01 (we reject the null hypothesis), \n",
    "    different=False if otherwise (we cannot reject the null hypothesis). \n",
    "    \n",
    "    The variable p should\n",
    "    be equal to the exact p value returned from scipy.stats.ttest_ind(). The\n",
    "    value for better should be either \"university town\" or \"non-university town\"\n",
    "    depending on which has a lower mean price ratio (which is equivilent to a\n",
    "    reduced market loss).'''\n",
    "    convert_data = convert_housing_data_to_quarters().copy()\n",
    "    convert_data = convert_data.loc[:,'2008q3':'2009q2']\n",
    "    convert_data = convert_data.reset_index()\n",
    "    def p_ratio(row):\n",
    "        return (row['2008q3'] - row['2009q2'])/row['2008q3']\n",
    "    \n",
    "    convert_data['up&down'] = convert_data.apply(p_ratio,axis=1)\n",
    "    university_town = get_list_of_university_towns()['RegionName']\n",
    "    university_town = set(university_town)\n",
    "\n",
    "    def is_uni_town(row):\n",
    "        if row['RegionName'] not in university_town:\n",
    "            return 0\n",
    "        else:\n",
    "            return 1\n",
    "    convert_data['is_uni'] = convert_data.apply(is_uni_town,axis=1)\n",
    "    \n",
    "    \n",
    "    not_university = convert_data[convert_data['is_uni']==0].loc[:,'up&down'].dropna()\n",
    "    is_university  = convert_data[convert_data['is_uni']==1].loc[:,'up&down'].dropna()\n",
    "    def better():\n",
    "        if not_university.mean() < is_university.mean():\n",
    "            return 'non-university town'\n",
    "        else:\n",
    "            return 'university town'\n",
    "    p_value = list(ttest_ind(not_university, is_university))[1]\n",
    "    final = (True,p_value,better())\n",
    "    return final\n",
    "run_ttest()"
   ]
  },
  {
   "cell_type": "code",
   "execution_count": null,
   "metadata": {
    "collapsed": true
   },
   "outputs": [],
   "source": []
  }
 ],
 "metadata": {
  "coursera": {
   "course_slug": "python-data-analysis",
   "graded_item_id": "Il9Fx",
   "launcher_item_id": "TeDW0",
   "part_id": "WGlun"
  },
  "kernelspec": {
   "display_name": "Python 3",
   "language": "python",
   "name": "python3"
  },
  "language_info": {
   "codemirror_mode": {
    "name": "ipython",
    "version": 3
   },
   "file_extension": ".py",
   "mimetype": "text/x-python",
   "name": "python",
   "nbconvert_exporter": "python",
   "pygments_lexer": "ipython3",
   "version": "3.7.3"
  },
  "umich": {
   "id": "Assignment 4",
   "version": "1.1"
  }
 },
 "nbformat": 4,
 "nbformat_minor": 1
}
